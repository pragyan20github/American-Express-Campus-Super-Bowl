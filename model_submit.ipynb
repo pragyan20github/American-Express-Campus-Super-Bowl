{
  "nbformat": 4,
  "nbformat_minor": 0,
  "metadata": {
    "colab": {
      "provenance": []
    },
    "kernelspec": {
      "name": "python3",
      "display_name": "Python 3"
    },
    "language_info": {
      "name": "python"
    }
  },
  "cells": [
    {
      "cell_type": "code",
      "execution_count": null,
      "metadata": {
        "id": "oqHbx1qVXSIJ"
      },
      "outputs": [],
      "source": [
        "import numpy as np\n",
        "import pandas as pd\n",
        "\n",
        "path1 = \"/content/drive/MyDrive/AMEX/663e2b6d54457_train_data_with_samplefeatures.csv\"\n",
        "path_final = \"/content/drive/MyDrive/AMEX/6644a1e287df6_test_data_with_samplefeatures.csv\"\n",
        "path2 = \"/content/drive/MyDrive/AMEX/664389efa0868_match_level_scorecard.csv\"\n",
        "path3 = \"/content/drive/MyDrive/AMEX/663e2b548c98c_batsman_level_scorecard.csv\"\n",
        "path4 = \"/content/drive/MyDrive/AMEX/663e2b2c60743_bowler_level_scorecard.csv\"\n",
        "\n",
        "train_data = pd.read_csv(path1)\n",
        "match_level_data = pd.read_csv(path2)\n",
        "batsman_data = pd.read_csv(path3)\n",
        "bowler_data =pd.read_csv(path4)\n",
        "test_data = pd.read_csv(path_final)"
      ]
    },
    {
      "cell_type": "code",
      "source": [
        "from google.colab import drive\n",
        "drive.mount('/content/drive')"
      ],
      "metadata": {
        "colab": {
          "base_uri": "https://localhost:8080/"
        },
        "id": "CoXXM1cAjSli",
        "outputId": "d8c78f49-4d37-4760-8558-6f39133b2f01"
      },
      "execution_count": null,
      "outputs": [
        {
          "output_type": "stream",
          "name": "stdout",
          "text": [
            "Drive already mounted at /content/drive; to attempt to forcibly remount, call drive.mount(\"/content/drive\", force_remount=True).\n"
          ]
        }
      ]
    },
    {
      "cell_type": "code",
      "source": [
        "full_data = test_data"
      ],
      "metadata": {
        "id": "pFpPei-9MDQi"
      },
      "execution_count": null,
      "outputs": []
    },
    {
      "cell_type": "markdown",
      "source": [
        "#preparing bowler data"
      ],
      "metadata": {
        "id": "ZnQQG0_jXujV"
      }
    },
    {
      "cell_type": "code",
      "source": [
        "bowler_data = bowler_data.groupby('bowler_id').agg({\n",
        "\n",
        "    'runs': 'mean',\n",
        "    'economy': 'mean',\n",
        "    # 'inning': 'first',\n",
        "    'wicket_count': 'mean',\n",
        "    # 'match_dt': 'first',\n",
        "    'balls_bowled': 'mean',\n",
        "    'Fours': 'mean',\n",
        "    'Sixes': 'mean',\n",
        "    'maiden':'mean',\n",
        "    'wides':'mean',\n",
        "    'noballs':'mean',\n",
        "    'dots':'mean',\n",
        "    # 'is_bowler_captain':'first',\n",
        "    # 'is_bowler_keeper':'first',\n",
        "    # 'bowler_details':'first'\n",
        "}).reset_index()"
      ],
      "metadata": {
        "id": "w476PJb2XaDR"
      },
      "execution_count": null,
      "outputs": []
    },
    {
      "cell_type": "code",
      "source": [
        "bowler_data['bowling_strike_rate'] = bowler_data['balls_bowled'] / bowler_data['wicket_count']\n",
        "bowler_data['bowling_average'] = bowler_data['runs'] / bowler_data['wicket_count']\n",
        "bowler_data['boundary_rate'] = (bowler_data['Fours'] + bowler_data['Sixes']) / bowler_data['balls_bowled']\n",
        "bowler_data['dot_ball_percent'] = bowler_data['dots'] / bowler_data['balls_bowled']\n",
        "bowler_data['extras'] = bowler_data['wides'] + bowler_data['noballs']\n",
        "bowler_data['maiden_over_percent'] = bowler_data['maiden'] / bowler_data['balls_bowled']"
      ],
      "metadata": {
        "id": "6fsNGsPzm8Lc"
      },
      "execution_count": null,
      "outputs": []
    },
    {
      "cell_type": "code",
      "source": [
        "bowler_data = bowler_data.drop(columns=['balls_bowled' , 'runs' , 'wicket_count' ,'Fours' ,'Sixes' ,'dots' ,'wides' ,'noballs' ,'maiden'])"
      ],
      "metadata": {
        "id": "laUTe9RVoFv5"
      },
      "execution_count": null,
      "outputs": []
    },
    {
      "cell_type": "code",
      "source": [
        "bowler_data.info()"
      ],
      "metadata": {
        "colab": {
          "base_uri": "https://localhost:8080/"
        },
        "id": "iRcf0gVukaf-",
        "outputId": "11b71fb3-bdc9-4319-d06d-899b537d1471"
      },
      "execution_count": null,
      "outputs": [
        {
          "output_type": "stream",
          "name": "stdout",
          "text": [
            "<class 'pandas.core.frame.DataFrame'>\n",
            "RangeIndex: 1541 entries, 0 to 1540\n",
            "Data columns (total 8 columns):\n",
            " #   Column               Non-Null Count  Dtype  \n",
            "---  ------               --------------  -----  \n",
            " 0   bowler_id            1541 non-null   float64\n",
            " 1   economy              1541 non-null   float64\n",
            " 2   bowling_strike_rate  1541 non-null   float64\n",
            " 3   bowling_average      1541 non-null   float64\n",
            " 4   boundary_rate        1541 non-null   float64\n",
            " 5   dot_ball_percent     1541 non-null   float64\n",
            " 6   extras               1541 non-null   float64\n",
            " 7   maiden_over_percent  1541 non-null   float64\n",
            "dtypes: float64(8)\n",
            "memory usage: 96.4 KB\n"
          ]
        }
      ]
    },
    {
      "cell_type": "code",
      "source": [
        "corr_matrix_bowler = bowler_data.corr()\n",
        "corr_matrix_bowler['economy'].sort_values(ascending = False)"
      ],
      "metadata": {
        "id": "FHU7RVzXhZ_h",
        "colab": {
          "base_uri": "https://localhost:8080/"
        },
        "outputId": "660784e5-f743-4b5c-cb45-b75724efb60a"
      },
      "execution_count": null,
      "outputs": [
        {
          "output_type": "execute_result",
          "data": {
            "text/plain": [
              "economy                1.000000\n",
              "boundary_rate          0.870857\n",
              "bowling_average        0.376808\n",
              "extras                 0.135325\n",
              "bowling_strike_rate    0.100497\n",
              "bowler_id              0.046699\n",
              "maiden_over_percent   -0.179986\n",
              "dot_ball_percent      -0.584599\n",
              "Name: economy, dtype: float64"
            ]
          },
          "metadata": {},
          "execution_count": 355
        }
      ]
    },
    {
      "cell_type": "code",
      "source": [
        "# bowler_data['overs_bowled'] = bowler_data['balls_bowled'] / 6\n",
        "# bowler_data['player_metric'] = (\n",
        "#     (bowler_data['runs'] * 1.0 +\n",
        "#     bowler_data['wicket_count'] * 0.332695 +\n",
        "#     (1 / bowler_data['economy']) * 0.263286 +\n",
        "#     (bowler_data['dots'] / bowler_data['balls_bowled']) * 0.417753 +\n",
        "#     (bowler_data['maiden'] / bowler_data['overs_bowled']) * -0.068966 +\n",
        "#     (bowler_data['Fours'] / bowler_data['balls_bowled']) * 0.719193 +\n",
        "#     (bowler_data['Sixes'] / bowler_data['balls_bowled']) * 0.630981 +\n",
        "#     (bowler_data['wides'] / bowler_data['balls_bowled']) * 0.343104 +\n",
        "#     (bowler_data['noballs'] / bowler_data['balls_bowled']) * 0.224072)/100\n",
        "# )"
      ],
      "metadata": {
        "id": "oXQlUCNai6fL"
      },
      "execution_count": null,
      "outputs": []
    },
    {
      "cell_type": "code",
      "source": [
        "# columns_to_drop_bowler_data = ['overs_bowled','balls_bowled','runs','wicket_count','economy','dots','maiden'\n",
        "# ,'Fours','Sixes','wides','noballs']\n",
        "\n",
        "# # Drop columns that exist in the dataframe\n",
        "# bowler_data = bowler_data.drop(columns=[col for col in columns_to_drop_bowler_data if col in bowler_data.columns])"
      ],
      "metadata": {
        "id": "j4TLYlDXjCq3"
      },
      "execution_count": null,
      "outputs": []
    },
    {
      "cell_type": "code",
      "source": [
        "# bowler_data.head()"
      ],
      "metadata": {
        "id": "pvUux2WWkx_L"
      },
      "execution_count": null,
      "outputs": []
    },
    {
      "cell_type": "markdown",
      "source": [
        "#preparing batsman data"
      ],
      "metadata": {
        "id": "vh_upjHmX1da"
      }
    },
    {
      "cell_type": "code",
      "source": [
        "batsman_data = batsman_data.groupby('batsman_id').agg({\n",
        "\n",
        "    # 'batsman_details':'first',\n",
        "    # 'is_batsman_captain':'first',\n",
        "    # 'is_batsman_keeper':'first',\n",
        "    # 'inning': 'first',\n",
        "    'runs': 'mean',\n",
        "    'balls_faced': 'mean',\n",
        "    'over_faced_first': 'mean',\n",
        "    'strike_rate': 'mean',\n",
        "    # 'match_dt': 'first',\n",
        "    'Fours': 'mean',\n",
        "    'Sixes': 'mean'\n",
        "}).reset_index()\n",
        "\n",
        "batsman_data['Fours'] = batsman_data['Fours'].fillna(0)\n",
        "batsman_data['Sixes'] = batsman_data['Sixes'].fillna(0)"
      ],
      "metadata": {
        "id": "aY7h_HFjX4DK"
      },
      "execution_count": null,
      "outputs": []
    },
    {
      "cell_type": "code",
      "source": [
        "batsman_data['batting_average'] = batsman_data['runs'] / batsman_data['balls_faced']\n",
        "batsman_data['boundary_percent'] = (batsman_data['Fours']+batsman_data['Sixes'])/batsman_data['balls_faced']\n",
        "batsman_data['overs_perform'] = batsman_data['runs']/batsman_data['over_faced_first']"
      ],
      "metadata": {
        "id": "gEBbHqBkontk"
      },
      "execution_count": null,
      "outputs": []
    },
    {
      "cell_type": "code",
      "source": [
        "batsman_data = batsman_data.drop(columns=['runs','Fours','Sixes','balls_faced','over_faced_first'])"
      ],
      "metadata": {
        "id": "KOXpji6FpRmL"
      },
      "execution_count": null,
      "outputs": []
    },
    {
      "cell_type": "code",
      "source": [
        "batsman_data.info()"
      ],
      "metadata": {
        "colab": {
          "base_uri": "https://localhost:8080/"
        },
        "id": "6q4xvlNhkuQZ",
        "outputId": "883b83aa-1b57-4863-ede9-bc7078594a07"
      },
      "execution_count": null,
      "outputs": [
        {
          "output_type": "stream",
          "name": "stdout",
          "text": [
            "<class 'pandas.core.frame.DataFrame'>\n",
            "RangeIndex: 2118 entries, 0 to 2117\n",
            "Data columns (total 5 columns):\n",
            " #   Column            Non-Null Count  Dtype  \n",
            "---  ------            --------------  -----  \n",
            " 0   batsman_id        2118 non-null   float64\n",
            " 1   strike_rate       2118 non-null   float64\n",
            " 2   batting_average   2118 non-null   float64\n",
            " 3   boundary_percent  2118 non-null   float64\n",
            " 4   overs_perform     2118 non-null   float64\n",
            "dtypes: float64(5)\n",
            "memory usage: 82.9 KB\n"
          ]
        }
      ]
    },
    {
      "cell_type": "code",
      "source": [
        "corr_matrix_batsman = batsman_data.corr()\n",
        "corr_matrix_batsman['strike_rate'].sort_values(ascending = False)"
      ],
      "metadata": {
        "id": "uBvl9t8ciLW7",
        "colab": {
          "base_uri": "https://localhost:8080/"
        },
        "outputId": "bdd5832e-3f86-4c2a-c788-73aa8f2f1c39"
      },
      "execution_count": null,
      "outputs": [
        {
          "output_type": "execute_result",
          "data": {
            "text/plain": [
              "strike_rate         1.000000\n",
              "batting_average     0.928814\n",
              "boundary_percent    0.524782\n",
              "overs_perform       0.172134\n",
              "batsman_id         -0.118263\n",
              "Name: strike_rate, dtype: float64"
            ]
          },
          "metadata": {},
          "execution_count": 363
        }
      ]
    },
    {
      "cell_type": "code",
      "source": [
        "# batsman_data['player_metric'] = (\n",
        "#     (batsman_data['runs'] * 1.0 +\n",
        "#     (batsman_data['balls_faced'] / batsman_data.shape[0]) * 0.928975 +\n",
        "#     (batsman_data['Fours'] / batsman_data['balls_faced']) * 0.823913 +\n",
        "#     (batsman_data['Sixes'] / batsman_data['balls_faced']) * 0.650040 +\n",
        "#     batsman_data['strike_rate'] * 0.452224 +\n",
        "#     (batsman_data['over_faced_first'] / batsman_data.shape[0]) * -0.620774)/100\n",
        "# )"
      ],
      "metadata": {
        "id": "vxkchFurjur2"
      },
      "execution_count": null,
      "outputs": []
    },
    {
      "cell_type": "code",
      "source": [
        "# columns_to_drop_batsman_data = ['runs','balls_faced','Fours','Sixes','strike_rate','over_faced_first']\n",
        "\n",
        "# # Drop columns that exist in the dataframe\n",
        "# batsman_data = batsman_data.drop(columns=[col for col in columns_to_drop_batsman_data if col in batsman_data.columns])"
      ],
      "metadata": {
        "id": "veGYdVPHjye5"
      },
      "execution_count": null,
      "outputs": []
    },
    {
      "cell_type": "code",
      "source": [
        "# batsman_data.head()"
      ],
      "metadata": {
        "id": "RTmOY4q3aV6l"
      },
      "execution_count": null,
      "outputs": []
    },
    {
      "cell_type": "code",
      "source": [],
      "metadata": {
        "id": "BrKZi2ghmoY7"
      },
      "execution_count": null,
      "outputs": []
    },
    {
      "cell_type": "markdown",
      "source": [
        "#merging bowler and batsman data"
      ],
      "metadata": {
        "id": "RtknWJrbmNpc"
      }
    },
    {
      "cell_type": "code",
      "source": [
        "# # Rename columns to a common name 'player_id'\n",
        "# bowler_data = bowler_data.rename(columns={'bowler_id': 'player_id'})\n",
        "# batsman_data = batsman_data.rename(columns={'batsman_id': 'player_id'})\n",
        "\n",
        "# # Merge the DataFrames on player_id\n",
        "# merged_df = pd.merge(bowler_data, batsman_data, on='player_id', how='outer', suffixes=('_bowler', '_batsman'))\n",
        "\n",
        "# # Calculate the mean of player_metric where ids are the same in both dataframes\n",
        "# merged_df['player_metric'] = merged_df[['player_metric_bowler', 'player_metric_batsman']].mean(axis=1)\n",
        "\n",
        "# # Fill NaN values in player_metric with values from either bowler_data or batsman_data\n",
        "# merged_df['player_metric'] = merged_df['player_metric'].fillna(merged_df['player_metric_bowler']).fillna(merged_df['player_metric_batsman'])\n",
        "\n",
        "# # Drop the intermediate columns\n",
        "# player_data = merged_df.drop(columns=['player_metric_bowler', 'player_metric_batsman'])"
      ],
      "metadata": {
        "id": "g62HjHWomOym"
      },
      "execution_count": null,
      "outputs": []
    },
    {
      "cell_type": "code",
      "source": [
        "# player_data.info()"
      ],
      "metadata": {
        "id": "biR24hETmbQH"
      },
      "execution_count": null,
      "outputs": []
    },
    {
      "cell_type": "code",
      "source": [
        "total_players = pd.concat([bowler_data,batsman_data],ignore_index=True)"
      ],
      "metadata": {
        "id": "5RAPVvuVk8Ux"
      },
      "execution_count": null,
      "outputs": []
    },
    {
      "cell_type": "code",
      "source": [
        "total_players.info()"
      ],
      "metadata": {
        "colab": {
          "base_uri": "https://localhost:8080/"
        },
        "id": "Ci3-iaWKmz4j",
        "outputId": "d49a9e08-ef15-4d02-9cd3-afa4f72c8a4a"
      },
      "execution_count": null,
      "outputs": [
        {
          "output_type": "stream",
          "name": "stdout",
          "text": [
            "<class 'pandas.core.frame.DataFrame'>\n",
            "RangeIndex: 3659 entries, 0 to 3658\n",
            "Data columns (total 13 columns):\n",
            " #   Column               Non-Null Count  Dtype  \n",
            "---  ------               --------------  -----  \n",
            " 0   bowler_id            1541 non-null   float64\n",
            " 1   economy              1541 non-null   float64\n",
            " 2   bowling_strike_rate  1541 non-null   float64\n",
            " 3   bowling_average      1541 non-null   float64\n",
            " 4   boundary_rate        1541 non-null   float64\n",
            " 5   dot_ball_percent     1541 non-null   float64\n",
            " 6   extras               1541 non-null   float64\n",
            " 7   maiden_over_percent  1541 non-null   float64\n",
            " 8   batsman_id           2118 non-null   float64\n",
            " 9   strike_rate          2118 non-null   float64\n",
            " 10  batting_average      2118 non-null   float64\n",
            " 11  boundary_percent     2118 non-null   float64\n",
            " 12  overs_perform        2118 non-null   float64\n",
            "dtypes: float64(13)\n",
            "memory usage: 371.7 KB\n"
          ]
        }
      ]
    },
    {
      "cell_type": "code",
      "source": [
        "total_players['player_id'] = total_players['bowler_id'].fillna(total_players['batsman_id'])\n",
        "total_players.drop(columns=['bowler_id','batsman_id'],inplace=True)"
      ],
      "metadata": {
        "id": "axgkeBxToOs9"
      },
      "execution_count": null,
      "outputs": []
    },
    {
      "cell_type": "code",
      "source": [
        "total_players"
      ],
      "metadata": {
        "colab": {
          "base_uri": "https://localhost:8080/",
          "height": 443
        },
        "id": "GHPPEO1To77O",
        "outputId": "2f30bd00-e456-40e8-e3cd-8a90c58eddef"
      },
      "execution_count": null,
      "outputs": [
        {
          "output_type": "execute_result",
          "data": {
            "text/plain": [
              "        economy  bowling_strike_rate  bowling_average  boundary_rate  \\\n",
              "0      9.371429            22.931034        33.896552       0.169925   \n",
              "1     10.000000                  inf              inf       0.166667   \n",
              "2      6.818182            19.200000        18.400000       0.083333   \n",
              "3      6.509615            18.774194        20.387097       0.091065   \n",
              "4      8.623721            15.315789        21.912281       0.176403   \n",
              "...         ...                  ...              ...            ...   \n",
              "3654        NaN                  NaN              NaN            NaN   \n",
              "3655        NaN                  NaN              NaN            NaN   \n",
              "3656        NaN                  NaN              NaN            NaN   \n",
              "3657        NaN                  NaN              NaN            NaN   \n",
              "3658        NaN                  NaN              NaN            NaN   \n",
              "\n",
              "      dot_ball_percent    extras  maiden_over_percent  strike_rate  \\\n",
              "0             0.311278  0.795918             0.000000          NaN   \n",
              "1             0.000000  0.000000             0.000000          NaN   \n",
              "2             0.427083  0.090909             0.000000          NaN   \n",
              "3             0.348797  0.384615             0.000000          NaN   \n",
              "4             0.334479  0.720930             0.002291          NaN   \n",
              "...                ...       ...                  ...          ...   \n",
              "3654               NaN       NaN                  NaN          0.0   \n",
              "3655               NaN       NaN                  NaN          0.0   \n",
              "3656               NaN       NaN                  NaN         50.0   \n",
              "3657               NaN       NaN                  NaN        210.0   \n",
              "3658               NaN       NaN                  NaN        220.0   \n",
              "\n",
              "      batting_average  boundary_percent  overs_perform  player_id  \n",
              "0                 NaN               NaN            NaN    34061.0  \n",
              "1                 NaN               NaN            NaN    37351.0  \n",
              "2                 NaN               NaN            NaN    41740.0  \n",
              "3                 NaN               NaN            NaN    49496.0  \n",
              "4                 NaN               NaN            NaN    55299.0  \n",
              "...               ...               ...            ...        ...  \n",
              "3654              0.0              0.00       0.000000  9822322.0  \n",
              "3655              0.0              0.00       0.000000  9822392.0  \n",
              "3656              0.5              0.00       0.103627  9822413.0  \n",
              "3657              2.1              0.35       3.442623  9874052.0  \n",
              "3658              2.2              0.40       0.758621  9883250.0  \n",
              "\n",
              "[3659 rows x 12 columns]"
            ],
            "text/html": [
              "\n",
              "  <div id=\"df-8645b2ba-aa50-4e79-af3a-37a1d884080c\" class=\"colab-df-container\">\n",
              "    <div>\n",
              "<style scoped>\n",
              "    .dataframe tbody tr th:only-of-type {\n",
              "        vertical-align: middle;\n",
              "    }\n",
              "\n",
              "    .dataframe tbody tr th {\n",
              "        vertical-align: top;\n",
              "    }\n",
              "\n",
              "    .dataframe thead th {\n",
              "        text-align: right;\n",
              "    }\n",
              "</style>\n",
              "<table border=\"1\" class=\"dataframe\">\n",
              "  <thead>\n",
              "    <tr style=\"text-align: right;\">\n",
              "      <th></th>\n",
              "      <th>economy</th>\n",
              "      <th>bowling_strike_rate</th>\n",
              "      <th>bowling_average</th>\n",
              "      <th>boundary_rate</th>\n",
              "      <th>dot_ball_percent</th>\n",
              "      <th>extras</th>\n",
              "      <th>maiden_over_percent</th>\n",
              "      <th>strike_rate</th>\n",
              "      <th>batting_average</th>\n",
              "      <th>boundary_percent</th>\n",
              "      <th>overs_perform</th>\n",
              "      <th>player_id</th>\n",
              "    </tr>\n",
              "  </thead>\n",
              "  <tbody>\n",
              "    <tr>\n",
              "      <th>0</th>\n",
              "      <td>9.371429</td>\n",
              "      <td>22.931034</td>\n",
              "      <td>33.896552</td>\n",
              "      <td>0.169925</td>\n",
              "      <td>0.311278</td>\n",
              "      <td>0.795918</td>\n",
              "      <td>0.000000</td>\n",
              "      <td>NaN</td>\n",
              "      <td>NaN</td>\n",
              "      <td>NaN</td>\n",
              "      <td>NaN</td>\n",
              "      <td>34061.0</td>\n",
              "    </tr>\n",
              "    <tr>\n",
              "      <th>1</th>\n",
              "      <td>10.000000</td>\n",
              "      <td>inf</td>\n",
              "      <td>inf</td>\n",
              "      <td>0.166667</td>\n",
              "      <td>0.000000</td>\n",
              "      <td>0.000000</td>\n",
              "      <td>0.000000</td>\n",
              "      <td>NaN</td>\n",
              "      <td>NaN</td>\n",
              "      <td>NaN</td>\n",
              "      <td>NaN</td>\n",
              "      <td>37351.0</td>\n",
              "    </tr>\n",
              "    <tr>\n",
              "      <th>2</th>\n",
              "      <td>6.818182</td>\n",
              "      <td>19.200000</td>\n",
              "      <td>18.400000</td>\n",
              "      <td>0.083333</td>\n",
              "      <td>0.427083</td>\n",
              "      <td>0.090909</td>\n",
              "      <td>0.000000</td>\n",
              "      <td>NaN</td>\n",
              "      <td>NaN</td>\n",
              "      <td>NaN</td>\n",
              "      <td>NaN</td>\n",
              "      <td>41740.0</td>\n",
              "    </tr>\n",
              "    <tr>\n",
              "      <th>3</th>\n",
              "      <td>6.509615</td>\n",
              "      <td>18.774194</td>\n",
              "      <td>20.387097</td>\n",
              "      <td>0.091065</td>\n",
              "      <td>0.348797</td>\n",
              "      <td>0.384615</td>\n",
              "      <td>0.000000</td>\n",
              "      <td>NaN</td>\n",
              "      <td>NaN</td>\n",
              "      <td>NaN</td>\n",
              "      <td>NaN</td>\n",
              "      <td>49496.0</td>\n",
              "    </tr>\n",
              "    <tr>\n",
              "      <th>4</th>\n",
              "      <td>8.623721</td>\n",
              "      <td>15.315789</td>\n",
              "      <td>21.912281</td>\n",
              "      <td>0.176403</td>\n",
              "      <td>0.334479</td>\n",
              "      <td>0.720930</td>\n",
              "      <td>0.002291</td>\n",
              "      <td>NaN</td>\n",
              "      <td>NaN</td>\n",
              "      <td>NaN</td>\n",
              "      <td>NaN</td>\n",
              "      <td>55299.0</td>\n",
              "    </tr>\n",
              "    <tr>\n",
              "      <th>...</th>\n",
              "      <td>...</td>\n",
              "      <td>...</td>\n",
              "      <td>...</td>\n",
              "      <td>...</td>\n",
              "      <td>...</td>\n",
              "      <td>...</td>\n",
              "      <td>...</td>\n",
              "      <td>...</td>\n",
              "      <td>...</td>\n",
              "      <td>...</td>\n",
              "      <td>...</td>\n",
              "      <td>...</td>\n",
              "    </tr>\n",
              "    <tr>\n",
              "      <th>3654</th>\n",
              "      <td>NaN</td>\n",
              "      <td>NaN</td>\n",
              "      <td>NaN</td>\n",
              "      <td>NaN</td>\n",
              "      <td>NaN</td>\n",
              "      <td>NaN</td>\n",
              "      <td>NaN</td>\n",
              "      <td>0.0</td>\n",
              "      <td>0.0</td>\n",
              "      <td>0.00</td>\n",
              "      <td>0.000000</td>\n",
              "      <td>9822322.0</td>\n",
              "    </tr>\n",
              "    <tr>\n",
              "      <th>3655</th>\n",
              "      <td>NaN</td>\n",
              "      <td>NaN</td>\n",
              "      <td>NaN</td>\n",
              "      <td>NaN</td>\n",
              "      <td>NaN</td>\n",
              "      <td>NaN</td>\n",
              "      <td>NaN</td>\n",
              "      <td>0.0</td>\n",
              "      <td>0.0</td>\n",
              "      <td>0.00</td>\n",
              "      <td>0.000000</td>\n",
              "      <td>9822392.0</td>\n",
              "    </tr>\n",
              "    <tr>\n",
              "      <th>3656</th>\n",
              "      <td>NaN</td>\n",
              "      <td>NaN</td>\n",
              "      <td>NaN</td>\n",
              "      <td>NaN</td>\n",
              "      <td>NaN</td>\n",
              "      <td>NaN</td>\n",
              "      <td>NaN</td>\n",
              "      <td>50.0</td>\n",
              "      <td>0.5</td>\n",
              "      <td>0.00</td>\n",
              "      <td>0.103627</td>\n",
              "      <td>9822413.0</td>\n",
              "    </tr>\n",
              "    <tr>\n",
              "      <th>3657</th>\n",
              "      <td>NaN</td>\n",
              "      <td>NaN</td>\n",
              "      <td>NaN</td>\n",
              "      <td>NaN</td>\n",
              "      <td>NaN</td>\n",
              "      <td>NaN</td>\n",
              "      <td>NaN</td>\n",
              "      <td>210.0</td>\n",
              "      <td>2.1</td>\n",
              "      <td>0.35</td>\n",
              "      <td>3.442623</td>\n",
              "      <td>9874052.0</td>\n",
              "    </tr>\n",
              "    <tr>\n",
              "      <th>3658</th>\n",
              "      <td>NaN</td>\n",
              "      <td>NaN</td>\n",
              "      <td>NaN</td>\n",
              "      <td>NaN</td>\n",
              "      <td>NaN</td>\n",
              "      <td>NaN</td>\n",
              "      <td>NaN</td>\n",
              "      <td>220.0</td>\n",
              "      <td>2.2</td>\n",
              "      <td>0.40</td>\n",
              "      <td>0.758621</td>\n",
              "      <td>9883250.0</td>\n",
              "    </tr>\n",
              "  </tbody>\n",
              "</table>\n",
              "<p>3659 rows × 12 columns</p>\n",
              "</div>\n",
              "    <div class=\"colab-df-buttons\">\n",
              "\n",
              "  <div class=\"colab-df-container\">\n",
              "    <button class=\"colab-df-convert\" onclick=\"convertToInteractive('df-8645b2ba-aa50-4e79-af3a-37a1d884080c')\"\n",
              "            title=\"Convert this dataframe to an interactive table.\"\n",
              "            style=\"display:none;\">\n",
              "\n",
              "  <svg xmlns=\"http://www.w3.org/2000/svg\" height=\"24px\" viewBox=\"0 -960 960 960\">\n",
              "    <path d=\"M120-120v-720h720v720H120Zm60-500h600v-160H180v160Zm220 220h160v-160H400v160Zm0 220h160v-160H400v160ZM180-400h160v-160H180v160Zm440 0h160v-160H620v160ZM180-180h160v-160H180v160Zm440 0h160v-160H620v160Z\"/>\n",
              "  </svg>\n",
              "    </button>\n",
              "\n",
              "  <style>\n",
              "    .colab-df-container {\n",
              "      display:flex;\n",
              "      gap: 12px;\n",
              "    }\n",
              "\n",
              "    .colab-df-convert {\n",
              "      background-color: #E8F0FE;\n",
              "      border: none;\n",
              "      border-radius: 50%;\n",
              "      cursor: pointer;\n",
              "      display: none;\n",
              "      fill: #1967D2;\n",
              "      height: 32px;\n",
              "      padding: 0 0 0 0;\n",
              "      width: 32px;\n",
              "    }\n",
              "\n",
              "    .colab-df-convert:hover {\n",
              "      background-color: #E2EBFA;\n",
              "      box-shadow: 0px 1px 2px rgba(60, 64, 67, 0.3), 0px 1px 3px 1px rgba(60, 64, 67, 0.15);\n",
              "      fill: #174EA6;\n",
              "    }\n",
              "\n",
              "    .colab-df-buttons div {\n",
              "      margin-bottom: 4px;\n",
              "    }\n",
              "\n",
              "    [theme=dark] .colab-df-convert {\n",
              "      background-color: #3B4455;\n",
              "      fill: #D2E3FC;\n",
              "    }\n",
              "\n",
              "    [theme=dark] .colab-df-convert:hover {\n",
              "      background-color: #434B5C;\n",
              "      box-shadow: 0px 1px 3px 1px rgba(0, 0, 0, 0.15);\n",
              "      filter: drop-shadow(0px 1px 2px rgba(0, 0, 0, 0.3));\n",
              "      fill: #FFFFFF;\n",
              "    }\n",
              "  </style>\n",
              "\n",
              "    <script>\n",
              "      const buttonEl =\n",
              "        document.querySelector('#df-8645b2ba-aa50-4e79-af3a-37a1d884080c button.colab-df-convert');\n",
              "      buttonEl.style.display =\n",
              "        google.colab.kernel.accessAllowed ? 'block' : 'none';\n",
              "\n",
              "      async function convertToInteractive(key) {\n",
              "        const element = document.querySelector('#df-8645b2ba-aa50-4e79-af3a-37a1d884080c');\n",
              "        const dataTable =\n",
              "          await google.colab.kernel.invokeFunction('convertToInteractive',\n",
              "                                                    [key], {});\n",
              "        if (!dataTable) return;\n",
              "\n",
              "        const docLinkHtml = 'Like what you see? Visit the ' +\n",
              "          '<a target=\"_blank\" href=https://colab.research.google.com/notebooks/data_table.ipynb>data table notebook</a>'\n",
              "          + ' to learn more about interactive tables.';\n",
              "        element.innerHTML = '';\n",
              "        dataTable['output_type'] = 'display_data';\n",
              "        await google.colab.output.renderOutput(dataTable, element);\n",
              "        const docLink = document.createElement('div');\n",
              "        docLink.innerHTML = docLinkHtml;\n",
              "        element.appendChild(docLink);\n",
              "      }\n",
              "    </script>\n",
              "  </div>\n",
              "\n",
              "\n",
              "<div id=\"df-04631fd8-f902-4266-a4dd-2c3d11ffa098\">\n",
              "  <button class=\"colab-df-quickchart\" onclick=\"quickchart('df-04631fd8-f902-4266-a4dd-2c3d11ffa098')\"\n",
              "            title=\"Suggest charts\"\n",
              "            style=\"display:none;\">\n",
              "\n",
              "<svg xmlns=\"http://www.w3.org/2000/svg\" height=\"24px\"viewBox=\"0 0 24 24\"\n",
              "     width=\"24px\">\n",
              "    <g>\n",
              "        <path d=\"M19 3H5c-1.1 0-2 .9-2 2v14c0 1.1.9 2 2 2h14c1.1 0 2-.9 2-2V5c0-1.1-.9-2-2-2zM9 17H7v-7h2v7zm4 0h-2V7h2v10zm4 0h-2v-4h2v4z\"/>\n",
              "    </g>\n",
              "</svg>\n",
              "  </button>\n",
              "\n",
              "<style>\n",
              "  .colab-df-quickchart {\n",
              "      --bg-color: #E8F0FE;\n",
              "      --fill-color: #1967D2;\n",
              "      --hover-bg-color: #E2EBFA;\n",
              "      --hover-fill-color: #174EA6;\n",
              "      --disabled-fill-color: #AAA;\n",
              "      --disabled-bg-color: #DDD;\n",
              "  }\n",
              "\n",
              "  [theme=dark] .colab-df-quickchart {\n",
              "      --bg-color: #3B4455;\n",
              "      --fill-color: #D2E3FC;\n",
              "      --hover-bg-color: #434B5C;\n",
              "      --hover-fill-color: #FFFFFF;\n",
              "      --disabled-bg-color: #3B4455;\n",
              "      --disabled-fill-color: #666;\n",
              "  }\n",
              "\n",
              "  .colab-df-quickchart {\n",
              "    background-color: var(--bg-color);\n",
              "    border: none;\n",
              "    border-radius: 50%;\n",
              "    cursor: pointer;\n",
              "    display: none;\n",
              "    fill: var(--fill-color);\n",
              "    height: 32px;\n",
              "    padding: 0;\n",
              "    width: 32px;\n",
              "  }\n",
              "\n",
              "  .colab-df-quickchart:hover {\n",
              "    background-color: var(--hover-bg-color);\n",
              "    box-shadow: 0 1px 2px rgba(60, 64, 67, 0.3), 0 1px 3px 1px rgba(60, 64, 67, 0.15);\n",
              "    fill: var(--button-hover-fill-color);\n",
              "  }\n",
              "\n",
              "  .colab-df-quickchart-complete:disabled,\n",
              "  .colab-df-quickchart-complete:disabled:hover {\n",
              "    background-color: var(--disabled-bg-color);\n",
              "    fill: var(--disabled-fill-color);\n",
              "    box-shadow: none;\n",
              "  }\n",
              "\n",
              "  .colab-df-spinner {\n",
              "    border: 2px solid var(--fill-color);\n",
              "    border-color: transparent;\n",
              "    border-bottom-color: var(--fill-color);\n",
              "    animation:\n",
              "      spin 1s steps(1) infinite;\n",
              "  }\n",
              "\n",
              "  @keyframes spin {\n",
              "    0% {\n",
              "      border-color: transparent;\n",
              "      border-bottom-color: var(--fill-color);\n",
              "      border-left-color: var(--fill-color);\n",
              "    }\n",
              "    20% {\n",
              "      border-color: transparent;\n",
              "      border-left-color: var(--fill-color);\n",
              "      border-top-color: var(--fill-color);\n",
              "    }\n",
              "    30% {\n",
              "      border-color: transparent;\n",
              "      border-left-color: var(--fill-color);\n",
              "      border-top-color: var(--fill-color);\n",
              "      border-right-color: var(--fill-color);\n",
              "    }\n",
              "    40% {\n",
              "      border-color: transparent;\n",
              "      border-right-color: var(--fill-color);\n",
              "      border-top-color: var(--fill-color);\n",
              "    }\n",
              "    60% {\n",
              "      border-color: transparent;\n",
              "      border-right-color: var(--fill-color);\n",
              "    }\n",
              "    80% {\n",
              "      border-color: transparent;\n",
              "      border-right-color: var(--fill-color);\n",
              "      border-bottom-color: var(--fill-color);\n",
              "    }\n",
              "    90% {\n",
              "      border-color: transparent;\n",
              "      border-bottom-color: var(--fill-color);\n",
              "    }\n",
              "  }\n",
              "</style>\n",
              "\n",
              "  <script>\n",
              "    async function quickchart(key) {\n",
              "      const quickchartButtonEl =\n",
              "        document.querySelector('#' + key + ' button');\n",
              "      quickchartButtonEl.disabled = true;  // To prevent multiple clicks.\n",
              "      quickchartButtonEl.classList.add('colab-df-spinner');\n",
              "      try {\n",
              "        const charts = await google.colab.kernel.invokeFunction(\n",
              "            'suggestCharts', [key], {});\n",
              "      } catch (error) {\n",
              "        console.error('Error during call to suggestCharts:', error);\n",
              "      }\n",
              "      quickchartButtonEl.classList.remove('colab-df-spinner');\n",
              "      quickchartButtonEl.classList.add('colab-df-quickchart-complete');\n",
              "    }\n",
              "    (() => {\n",
              "      let quickchartButtonEl =\n",
              "        document.querySelector('#df-04631fd8-f902-4266-a4dd-2c3d11ffa098 button');\n",
              "      quickchartButtonEl.style.display =\n",
              "        google.colab.kernel.accessAllowed ? 'block' : 'none';\n",
              "    })();\n",
              "  </script>\n",
              "</div>\n",
              "\n",
              "  <div id=\"id_0d146cfd-63b3-4e45-8732-84e7385d1b6b\">\n",
              "    <style>\n",
              "      .colab-df-generate {\n",
              "        background-color: #E8F0FE;\n",
              "        border: none;\n",
              "        border-radius: 50%;\n",
              "        cursor: pointer;\n",
              "        display: none;\n",
              "        fill: #1967D2;\n",
              "        height: 32px;\n",
              "        padding: 0 0 0 0;\n",
              "        width: 32px;\n",
              "      }\n",
              "\n",
              "      .colab-df-generate:hover {\n",
              "        background-color: #E2EBFA;\n",
              "        box-shadow: 0px 1px 2px rgba(60, 64, 67, 0.3), 0px 1px 3px 1px rgba(60, 64, 67, 0.15);\n",
              "        fill: #174EA6;\n",
              "      }\n",
              "\n",
              "      [theme=dark] .colab-df-generate {\n",
              "        background-color: #3B4455;\n",
              "        fill: #D2E3FC;\n",
              "      }\n",
              "\n",
              "      [theme=dark] .colab-df-generate:hover {\n",
              "        background-color: #434B5C;\n",
              "        box-shadow: 0px 1px 3px 1px rgba(0, 0, 0, 0.15);\n",
              "        filter: drop-shadow(0px 1px 2px rgba(0, 0, 0, 0.3));\n",
              "        fill: #FFFFFF;\n",
              "      }\n",
              "    </style>\n",
              "    <button class=\"colab-df-generate\" onclick=\"generateWithVariable('total_players')\"\n",
              "            title=\"Generate code using this dataframe.\"\n",
              "            style=\"display:none;\">\n",
              "\n",
              "  <svg xmlns=\"http://www.w3.org/2000/svg\" height=\"24px\"viewBox=\"0 0 24 24\"\n",
              "       width=\"24px\">\n",
              "    <path d=\"M7,19H8.4L18.45,9,17,7.55,7,17.6ZM5,21V16.75L18.45,3.32a2,2,0,0,1,2.83,0l1.4,1.43a1.91,1.91,0,0,1,.58,1.4,1.91,1.91,0,0,1-.58,1.4L9.25,21ZM18.45,9,17,7.55Zm-12,3A5.31,5.31,0,0,0,4.9,8.1,5.31,5.31,0,0,0,1,6.5,5.31,5.31,0,0,0,4.9,4.9,5.31,5.31,0,0,0,6.5,1,5.31,5.31,0,0,0,8.1,4.9,5.31,5.31,0,0,0,12,6.5,5.46,5.46,0,0,0,6.5,12Z\"/>\n",
              "  </svg>\n",
              "    </button>\n",
              "    <script>\n",
              "      (() => {\n",
              "      const buttonEl =\n",
              "        document.querySelector('#id_0d146cfd-63b3-4e45-8732-84e7385d1b6b button.colab-df-generate');\n",
              "      buttonEl.style.display =\n",
              "        google.colab.kernel.accessAllowed ? 'block' : 'none';\n",
              "\n",
              "      buttonEl.onclick = () => {\n",
              "        google.colab.notebook.generateWithVariable('total_players');\n",
              "      }\n",
              "      })();\n",
              "    </script>\n",
              "  </div>\n",
              "\n",
              "    </div>\n",
              "  </div>\n"
            ],
            "application/vnd.google.colaboratory.intrinsic+json": {
              "type": "dataframe",
              "variable_name": "total_players",
              "repr_error": "Out of range float values are not JSON compliant: inf"
            }
          },
          "metadata": {},
          "execution_count": 372
        }
      ]
    },
    {
      "cell_type": "code",
      "source": [
        "player_data = total_players.fillna(0)"
      ],
      "metadata": {
        "id": "XYPo-fl8pJNq"
      },
      "execution_count": null,
      "outputs": []
    },
    {
      "cell_type": "code",
      "source": [
        "player_data.info()"
      ],
      "metadata": {
        "colab": {
          "base_uri": "https://localhost:8080/"
        },
        "id": "CfsSaLdfqBzS",
        "outputId": "2997bd69-6c42-4dbe-9449-d4d4ba4f3878"
      },
      "execution_count": null,
      "outputs": [
        {
          "output_type": "stream",
          "name": "stdout",
          "text": [
            "<class 'pandas.core.frame.DataFrame'>\n",
            "RangeIndex: 3659 entries, 0 to 3658\n",
            "Data columns (total 12 columns):\n",
            " #   Column               Non-Null Count  Dtype  \n",
            "---  ------               --------------  -----  \n",
            " 0   economy              3659 non-null   float64\n",
            " 1   bowling_strike_rate  3659 non-null   float64\n",
            " 2   bowling_average      3659 non-null   float64\n",
            " 3   boundary_rate        3659 non-null   float64\n",
            " 4   dot_ball_percent     3659 non-null   float64\n",
            " 5   extras               3659 non-null   float64\n",
            " 6   maiden_over_percent  3659 non-null   float64\n",
            " 7   strike_rate          3659 non-null   float64\n",
            " 8   batting_average      3659 non-null   float64\n",
            " 9   boundary_percent     3659 non-null   float64\n",
            " 10  overs_perform        3659 non-null   float64\n",
            " 11  player_id            3659 non-null   float64\n",
            "dtypes: float64(12)\n",
            "memory usage: 343.2 KB\n"
          ]
        }
      ]
    },
    {
      "cell_type": "markdown",
      "source": [
        "#defining functions:"
      ],
      "metadata": {
        "id": "d6bSEm4_Yp9H"
      }
    },
    {
      "cell_type": "code",
      "source": [
        "def process_roster_ids(roster_ids_str):\n",
        "    # Split and convert to float\n",
        "    roster_ids = [float(id_str) for id_str in roster_ids_str.split(':')]\n",
        "    return roster_ids"
      ],
      "metadata": {
        "id": "hWSRpZDJYsMm"
      },
      "execution_count": null,
      "outputs": []
    },
    {
      "cell_type": "code",
      "source": [
        "def determine_winner(team1_id, team2_id, runs_1, runs_2):\n",
        "    winner_id = []\n",
        "\n",
        "    for team1, team2, runs1, runs2 in zip(team1_id, team2_id, runs_1 , runs_2):\n",
        "      if runs1>runs2:\n",
        "        winner_id.append(team1)\n",
        "      elif runs1<runs2:\n",
        "        winner_id.append(team2)\n",
        "      else:\n",
        "        winner_id.append(team1)\n",
        "\n",
        "    return winner_id"
      ],
      "metadata": {
        "id": "8GIw5-TVYxt2"
      },
      "execution_count": null,
      "outputs": []
    },
    {
      "cell_type": "markdown",
      "source": [
        "#preparing match_level_data"
      ],
      "metadata": {
        "id": "HT-J9nZgchHf"
      }
    },
    {
      "cell_type": "code",
      "source": [
        "team_id_map = {team: id_ for team, id_ in zip(match_level_data['team1'], match_level_data['team1_id'])}\n",
        "team_id_map.update({team: id_ for team, id_ in zip(match_level_data['team2'], match_level_data['team2_id'])})\n",
        "\n",
        "# Replace 'toss winner' elements with their corresponding IDs\n",
        "match_level_data['toss winner'] = match_level_data['toss winner'].map(team_id_map)\n",
        "\n",
        "match_level_data['toss decision'] = match_level_data['toss decision'].replace({'field': 0, 'bat': 1})\n",
        "\n",
        "columns_to_drop_match_level_data = ['match id','team1','team2','winner','match_dt','venue','city','lighting','series_name',\n",
        "                                    'season','ground_id','umpire1','umpire2','team1_id','team2_id','series_type','winner_id'\n",
        "                                    ,'player_of_the_match_id','toss winner','toss decision','by']\n",
        "\n",
        "# Drop columns that exist in the dataframe\n",
        "match_level_data = match_level_data.drop(columns=[col for col in columns_to_drop_match_level_data if col in match_level_data.columns])"
      ],
      "metadata": {
        "id": "gXzl9yiPdQfj"
      },
      "execution_count": null,
      "outputs": []
    },
    {
      "cell_type": "code",
      "source": [
        "match_level_data['processed_team1_roster_ids'] =match_level_data['team1_roster_ids'].apply(process_roster_ids)\n",
        "match_level_data['processed_team2_roster_ids'] = match_level_data['team2_roster_ids'].apply(process_roster_ids)\n",
        "match_level_data.drop(columns=['team1_roster_ids','team2_roster_ids'],inplace=True)\n",
        "\n",
        "match_level_data = match_level_data.explode('processed_team1_roster_ids')\n",
        "match_level_data = match_level_data.explode('processed_team2_roster_ids')\n",
        "\n",
        "# Reset the index to get a clean DataFrame\n",
        "match_level_data = match_level_data.reset_index(drop=True)"
      ],
      "metadata": {
        "id": "LID9JMV4ejxa"
      },
      "execution_count": null,
      "outputs": []
    },
    {
      "cell_type": "code",
      "source": [
        "match_level_data1 = match_level_data.groupby('processed_team1_roster_ids').agg({\n",
        "    'win amount': 'mean',\n",
        "    'inning1_runs' : 'mean',\n",
        "    'inning2_runs' : 'mean',\n",
        "    'inning1_wickets' : 'mean',\n",
        "    'inning2_wickets' : 'mean',\n",
        "    'inning1_balls' : 'mean',\n",
        "    'inning2_balls' : 'mean'\n",
        "}).reset_index()"
      ],
      "metadata": {
        "id": "RJl3vSFZfeDc"
      },
      "execution_count": null,
      "outputs": []
    },
    {
      "cell_type": "code",
      "source": [
        "match_level_data2 = match_level_data.groupby('processed_team2_roster_ids').agg({\n",
        "    'win amount': 'mean',\n",
        "    'inning1_runs' : 'mean',\n",
        "    'inning2_runs' : 'mean',\n",
        "    'inning1_wickets' : 'mean',\n",
        "    'inning2_wickets' : 'mean',\n",
        "    'inning1_balls' : 'mean',\n",
        "    'inning2_balls' : 'mean'\n",
        "}).reset_index()"
      ],
      "metadata": {
        "id": "e44Mwtg8fvf1"
      },
      "execution_count": null,
      "outputs": []
    },
    {
      "cell_type": "code",
      "source": [],
      "metadata": {
        "id": "M41ZJKmMpXsL"
      },
      "execution_count": null,
      "outputs": []
    },
    {
      "cell_type": "code",
      "source": [
        "match_level_data1 = match_level_data1.merge(player_data, left_on='processed_team1_roster_ids', right_on='player_id', how='left')"
      ],
      "metadata": {
        "id": "_rbzo2CbmrhV"
      },
      "execution_count": null,
      "outputs": []
    },
    {
      "cell_type": "code",
      "source": [
        "match_level_data1.dropna(inplace=True)"
      ],
      "metadata": {
        "id": "Iuz_naNNnYHo"
      },
      "execution_count": null,
      "outputs": []
    },
    {
      "cell_type": "code",
      "source": [
        "columns_to_drop_match_level_data1 = ['processed_team1_roster_ids']\n",
        "\n",
        "# Drop columns that exist in the dataframe\n",
        "match_level_data1 = match_level_data1.drop(columns=[col for col in columns_to_drop_match_level_data1 if col in match_level_data1.columns])"
      ],
      "metadata": {
        "id": "ba5iVnxonh4R"
      },
      "execution_count": null,
      "outputs": []
    },
    {
      "cell_type": "code",
      "source": [
        "match_level_data1.info()"
      ],
      "metadata": {
        "colab": {
          "base_uri": "https://localhost:8080/"
        },
        "id": "wHW7VsIycsly",
        "outputId": "832bfb25-cb95-4d95-bfec-411898bfa632"
      },
      "execution_count": null,
      "outputs": [
        {
          "output_type": "stream",
          "name": "stdout",
          "text": [
            "<class 'pandas.core.frame.DataFrame'>\n",
            "Index: 3274 entries, 0 to 3711\n",
            "Data columns (total 19 columns):\n",
            " #   Column               Non-Null Count  Dtype  \n",
            "---  ------               --------------  -----  \n",
            " 0   win amount           3274 non-null   float64\n",
            " 1   inning1_runs         3274 non-null   float64\n",
            " 2   inning2_runs         3274 non-null   float64\n",
            " 3   inning1_wickets      3274 non-null   float64\n",
            " 4   inning2_wickets      3274 non-null   float64\n",
            " 5   inning1_balls        3274 non-null   float64\n",
            " 6   inning2_balls        3274 non-null   float64\n",
            " 7   economy              3274 non-null   float64\n",
            " 8   bowling_strike_rate  3274 non-null   float64\n",
            " 9   bowling_average      3274 non-null   float64\n",
            " 10  boundary_rate        3274 non-null   float64\n",
            " 11  dot_ball_percent     3274 non-null   float64\n",
            " 12  extras               3274 non-null   float64\n",
            " 13  maiden_over_percent  3274 non-null   float64\n",
            " 14  strike_rate          3274 non-null   float64\n",
            " 15  batting_average      3274 non-null   float64\n",
            " 16  boundary_percent     3274 non-null   float64\n",
            " 17  overs_perform        3274 non-null   float64\n",
            " 18  player_id            3274 non-null   float64\n",
            "dtypes: float64(19)\n",
            "memory usage: 511.6 KB\n"
          ]
        }
      ]
    },
    {
      "cell_type": "code",
      "source": [
        "match_level_data2 = match_level_data2.merge(player_data, left_on='processed_team2_roster_ids', right_on='player_id', how='left')\n",
        "match_level_data2.dropna(inplace=True)\n",
        "columns_to_drop_match_level_data2 = ['processed_team2_roster_ids']\n",
        "\n",
        "# Drop columns that exist in the dataframe\n",
        "match_level_data2 = match_level_data2.drop(columns=[col for col in columns_to_drop_match_level_data2 if col in match_level_data2.columns])"
      ],
      "metadata": {
        "id": "yG2ndsMroYsD"
      },
      "execution_count": null,
      "outputs": []
    },
    {
      "cell_type": "code",
      "source": [
        "match_level_data2.info()"
      ],
      "metadata": {
        "colab": {
          "base_uri": "https://localhost:8080/"
        },
        "id": "s_XKo1HYg65R",
        "outputId": "db70c35a-b01e-4937-c829-280cb9f95cb7"
      },
      "execution_count": null,
      "outputs": [
        {
          "output_type": "stream",
          "name": "stdout",
          "text": [
            "<class 'pandas.core.frame.DataFrame'>\n",
            "Index: 3248 entries, 0 to 3677\n",
            "Data columns (total 19 columns):\n",
            " #   Column               Non-Null Count  Dtype  \n",
            "---  ------               --------------  -----  \n",
            " 0   win amount           3248 non-null   float64\n",
            " 1   inning1_runs         3248 non-null   float64\n",
            " 2   inning2_runs         3248 non-null   float64\n",
            " 3   inning1_wickets      3248 non-null   float64\n",
            " 4   inning2_wickets      3248 non-null   float64\n",
            " 5   inning1_balls        3248 non-null   float64\n",
            " 6   inning2_balls        3248 non-null   float64\n",
            " 7   economy              3248 non-null   float64\n",
            " 8   bowling_strike_rate  3248 non-null   float64\n",
            " 9   bowling_average      3248 non-null   float64\n",
            " 10  boundary_rate        3248 non-null   float64\n",
            " 11  dot_ball_percent     3248 non-null   float64\n",
            " 12  extras               3248 non-null   float64\n",
            " 13  maiden_over_percent  3248 non-null   float64\n",
            " 14  strike_rate          3248 non-null   float64\n",
            " 15  batting_average      3248 non-null   float64\n",
            " 16  boundary_percent     3248 non-null   float64\n",
            " 17  overs_perform        3248 non-null   float64\n",
            " 18  player_id            3248 non-null   float64\n",
            "dtypes: float64(19)\n",
            "memory usage: 507.5 KB\n"
          ]
        }
      ]
    },
    {
      "cell_type": "markdown",
      "source": [
        "merging match_level_data"
      ],
      "metadata": {
        "id": "AdTDeIB9pvDs"
      }
    },
    {
      "cell_type": "code",
      "source": [
        "# # Merge dataframes on 'player_id' with outer join\n",
        "# merged_df = pd.merge(match_level_data1, match_level_data2, on='player_id', suffixes=('_1', '_2'), how='outer')\n",
        "\n",
        "# # Identify common entries based on 'player_id'\n",
        "# common_entries = merged_df.dropna(subset=['win amount_1', 'win amount_2'])\n",
        "\n",
        "# # Calculate mean values for common entries\n",
        "# # common_entries = common_entries.groupby('player_id').mean().reset_index()\n",
        "\n",
        "# # Combine non-common entries (left-only and right-only entries)\n",
        "# left_only = merged_df[merged_df['win amount_2'].isnull()].drop(columns=['win amount_2', 'inning1_runs_2', 'inning2_runs_2',\n",
        "#                                                                         'inning1_wickets_2', 'inning2_wickets_2',\n",
        "#                                                                         'player_metric_2','inning1_balls_2','inning2_balls_2'])\n",
        "# right_only = merged_df[merged_df['win amount_1'].isnull()].drop(columns=['win amount_1', 'inning1_runs_1', 'inning2_runs_1',\n",
        "#                                                                          'inning1_wickets_1', 'inning2_wickets_1',\n",
        "#                                                                          'player_metric_1','inning1_balls_1','inning2_balls_1'])\n",
        "\n"
      ],
      "metadata": {
        "id": "vBsUqQCN0FhK"
      },
      "execution_count": null,
      "outputs": []
    },
    {
      "cell_type": "code",
      "source": [
        "# common_entries = pd.DataFrame(common_entries)"
      ],
      "metadata": {
        "id": "7q-xf5cJ1ZUt"
      },
      "execution_count": null,
      "outputs": []
    },
    {
      "cell_type": "code",
      "source": [
        "# common_entries['win amount'] = (common_entries['win amount_1'] + common_entries['win amount_2'])/2\n",
        "# common_entries.drop(columns=['win amount_1','win amount_2'],inplace=True)\n",
        "# common_entries['inning1_runs'] = (common_entries['inning1_runs_1'] + common_entries['inning1_runs_2'])/2\n",
        "# common_entries.drop(columns=['inning1_runs_1','inning1_runs_2'],inplace=True)\n",
        "# common_entries['inning2_runs'] = (common_entries['inning2_runs_1'] + common_entries['inning2_runs_2'])/2\n",
        "# common_entries.drop(columns=['inning2_runs_1','inning2_runs_2'],inplace=True)\n",
        "# common_entries['inning1_wickets'] = (common_entries['inning1_wickets_1'] + common_entries['inning1_wickets_2'])/2\n",
        "# common_entries.drop(columns=['inning1_wickets_1','inning1_wickets_2'],inplace=True)\n",
        "# common_entries['inning2_wickets'] = (common_entries['inning2_wickets_1'] + common_entries['inning2_wickets_2'])/2\n",
        "# common_entries.drop(columns=['inning2_wickets_1','inning2_wickets_2'],inplace=True)\n",
        "# common_entries['player_metric'] = (common_entries['player_metric_1'] + common_entries['player_metric_2'])/2\n",
        "# common_entries.drop(columns=['player_metric_1','player_metric_2'],inplace=True)\n",
        "# common_entries['inning1_balls'] = (common_entries['inning1_balls_1'] + common_entries['inning1_balls_2'])/2\n",
        "# common_entries.drop(columns=['inning1_balls_1','inning1_balls_2'],inplace=True)\n",
        "# common_entries['inning2_balls'] = (common_entries['inning2_balls_1'] + common_entries['inning2_balls_2'])/2\n",
        "# common_entries.drop(columns=['inning2_balls_1','inning2_balls_2'],inplace=True)"
      ],
      "metadata": {
        "id": "KNDURr184ZkJ"
      },
      "execution_count": null,
      "outputs": []
    },
    {
      "cell_type": "code",
      "source": [
        "# common_entries.info()"
      ],
      "metadata": {
        "id": "uXe295xg30yj"
      },
      "execution_count": null,
      "outputs": []
    },
    {
      "cell_type": "code",
      "source": [
        "# left_only = left_only.rename(columns={'win amount_1': 'win amount'})\n",
        "# left_only = left_only.rename(columns={'inning1_runs_1': 'inning1_runs'})\n",
        "# left_only = left_only.rename(columns={'inning2_runs_1': 'inning2_runs'})\n",
        "# left_only = left_only.rename(columns={'inning1_wickets_1': 'inning1_wickets'})\n",
        "# left_only = left_only.rename(columns={'inning2_wickets_1': 'inning2_wickets'})\n",
        "# left_only = left_only.rename(columns={'player_metric_1': 'player_metric'})\n",
        "# left_only = left_only.rename(columns={'inning1_balls_1': 'inning1_balls'})\n",
        "# left_only = left_only.rename(columns={'inning2_balls_1': 'inning2_balls'})"
      ],
      "metadata": {
        "id": "fTvUa9zh5NM4"
      },
      "execution_count": null,
      "outputs": []
    },
    {
      "cell_type": "code",
      "source": [
        "# left_only = pd.DataFrame(left_only)\n",
        "# left_only.info()"
      ],
      "metadata": {
        "id": "BlKkVUpl1fum"
      },
      "execution_count": null,
      "outputs": []
    },
    {
      "cell_type": "code",
      "source": [
        "# right_only = right_only.rename(columns={'win amount_2': 'win amount'})\n",
        "# right_only = right_only.rename(columns={'inning1_runs_2': 'inning1_runs'})\n",
        "# right_only = right_only.rename(columns={'inning2_runs_2': 'inning2_runs'})\n",
        "# right_only = right_only.rename(columns={'inning1_wickets_2': 'inning1_wickets'})\n",
        "# right_only = right_only.rename(columns={'inning2_wickets_2': 'inning2_wickets'})\n",
        "# right_only = right_only.rename(columns={'player_metric_2': 'player_metric'})\n",
        "# right_only = right_only.rename(columns={'inning1_balls_2': 'inning1_balls'})\n",
        "# right_only = right_only.rename(columns={'inning2_balls_2': 'inning2_balls'})"
      ],
      "metadata": {
        "id": "O4An7xuS50NE"
      },
      "execution_count": null,
      "outputs": []
    },
    {
      "cell_type": "code",
      "source": [
        "# right_only = pd.DataFrame(right_only)\n",
        "# right_only.info()"
      ],
      "metadata": {
        "id": "KDAJuUyX1m__"
      },
      "execution_count": null,
      "outputs": []
    },
    {
      "cell_type": "code",
      "source": [
        "# match_data = pd.concat([common_entries, left_only, right_only] , ignore_index=True)"
      ],
      "metadata": {
        "id": "Rr778bxveY-K"
      },
      "execution_count": null,
      "outputs": []
    },
    {
      "cell_type": "code",
      "source": [
        "# match_data.info()"
      ],
      "metadata": {
        "id": "QB94dsE2e9xe"
      },
      "execution_count": null,
      "outputs": []
    },
    {
      "cell_type": "code",
      "source": [
        "# match_data.head()"
      ],
      "metadata": {
        "id": "b7p_wrY2fDm-"
      },
      "execution_count": null,
      "outputs": []
    },
    {
      "cell_type": "markdown",
      "source": [
        "#preparing train data"
      ],
      "metadata": {
        "id": "BQTPi0x7YPhG"
      }
    },
    {
      "cell_type": "code",
      "source": [
        "team_id_map = {team: id_ for team, id_ in zip(train_data['team1'], train_data['team1_id'])}\n",
        "team_id_map.update({team: id_ for team, id_ in zip(train_data['team2'], train_data['team2_id'])})\n",
        "\n",
        "# Replace 'toss winner' elements with their corresponding IDs\n",
        "train_data['toss winner'] = train_data['toss winner'].map(team_id_map)\n",
        "\n",
        "train_data['toss decision'] = train_data['toss decision'].replace({'field': 0, 'bat': 1})\n",
        "####adding for classifier\n",
        "train_data['winner_id'] = train_data.apply(lambda row: 0 if row['winner_id'] == row['team1_id'] else 1, axis=1)\n",
        "\n",
        "columns_to_drop_train_data = ['team1','team2','winner','match_dt','venue','city','lighting','series_name',\n",
        "                                    'season','ground_id']\n",
        "\n",
        "# Drop columns that exist in the dataframe\n",
        "train_data = train_data.drop(columns=[col for col in columns_to_drop_train_data if col in train_data.columns])"
      ],
      "metadata": {
        "id": "nN6XAEsYYTQK"
      },
      "execution_count": null,
      "outputs": []
    },
    {
      "cell_type": "code",
      "source": [
        "train_data['processed_team1_roster_ids'] =train_data['team1_roster_ids'].apply(process_roster_ids)\n",
        "train_data['processed_team2_roster_ids'] = train_data['team2_roster_ids'].apply(process_roster_ids)\n",
        "train_data.drop(columns=['team1_roster_ids','team2_roster_ids'],inplace=True)"
      ],
      "metadata": {
        "id": "rUxjiYxBY-L0"
      },
      "execution_count": null,
      "outputs": []
    },
    {
      "cell_type": "code",
      "source": [
        "train_data = train_data.explode('processed_team1_roster_ids')\n",
        "train_data = train_data.explode('processed_team2_roster_ids')\n",
        "\n",
        "# Reset the index to get a clean DataFrame\n",
        "train_data = train_data.reset_index(drop=True)"
      ],
      "metadata": {
        "id": "3KCzmAIlZQmv"
      },
      "execution_count": null,
      "outputs": []
    },
    {
      "cell_type": "code",
      "source": [
        "train_data.info()"
      ],
      "metadata": {
        "colab": {
          "base_uri": "https://localhost:8080/"
        },
        "id": "tZOunso-aOGY",
        "outputId": "c3369bda-00e7-4a97-e6ef-dc9048e966be"
      },
      "execution_count": null,
      "outputs": [
        {
          "output_type": "stream",
          "name": "stdout",
          "text": [
            "<class 'pandas.core.frame.DataFrame'>\n",
            "RangeIndex: 116980 entries, 0 to 116979\n",
            "Data columns (total 13 columns):\n",
            " #   Column                      Non-Null Count   Dtype  \n",
            "---  ------                      --------------   -----  \n",
            " 0   match id                    116980 non-null  int64  \n",
            " 1   team1_id                    116980 non-null  int64  \n",
            " 2   team2_id                    116980 non-null  int64  \n",
            " 3   winner_id                   116980 non-null  int64  \n",
            " 4   toss winner                 116980 non-null  int64  \n",
            " 5   toss decision               116980 non-null  int64  \n",
            " 6   team_count_50runs_last15    116980 non-null  float64\n",
            " 7   team_winp_last5             116980 non-null  float64\n",
            " 8   team1only_avg_runs_last15   114439 non-null  float64\n",
            " 9   team1_winp_team2_last15     116980 non-null  float64\n",
            " 10  ground_avg_runs_last15      110499 non-null  float64\n",
            " 11  processed_team1_roster_ids  116980 non-null  object \n",
            " 12  processed_team2_roster_ids  116980 non-null  object \n",
            "dtypes: float64(5), int64(6), object(2)\n",
            "memory usage: 11.6+ MB\n"
          ]
        }
      ]
    },
    {
      "cell_type": "code",
      "source": [
        "train_data_ids1 = train_data[['match id','processed_team1_roster_ids']]\n",
        "train_data_ids2 = train_data[['match id','processed_team2_roster_ids']]"
      ],
      "metadata": {
        "id": "npOxbn_LfXBf"
      },
      "execution_count": null,
      "outputs": []
    },
    {
      "cell_type": "code",
      "source": [
        "train_data_ids1 = train_data_ids1.merge(player_data , left_on ='processed_team1_roster_ids', right_on='player_id')\n",
        "train_data_ids2 = train_data_ids2.merge(player_data , left_on ='processed_team2_roster_ids', right_on='player_id')"
      ],
      "metadata": {
        "id": "ws2d5MrtqI2w"
      },
      "execution_count": null,
      "outputs": []
    },
    {
      "cell_type": "code",
      "source": [
        "# train_data_ids1 = train_data_ids1.merge(match_data , left_on ='processed_team1_roster_ids', right_on='player_id')\n",
        "# train_data_ids2 = train_data_ids2.merge(match_data , left_on ='processed_team2_roster_ids', right_on='player_id')"
      ],
      "metadata": {
        "id": "thQXpUdUfkz-"
      },
      "execution_count": null,
      "outputs": []
    },
    {
      "cell_type": "code",
      "source": [
        "train_data_ids1.drop(columns=['processed_team1_roster_ids','player_id'],inplace=True)\n",
        "train_data_ids2.drop(columns=['processed_team2_roster_ids','player_id'],inplace=True)"
      ],
      "metadata": {
        "id": "PI1w3Pa9qOVK"
      },
      "execution_count": null,
      "outputs": []
    },
    {
      "cell_type": "code",
      "source": [
        "train_data_ids1 = train_data_ids1.groupby('match id').mean().reset_index()\n",
        "train_data_ids2 = train_data_ids2.groupby('match id').mean().reset_index()"
      ],
      "metadata": {
        "id": "MGYhKwaOqUBK"
      },
      "execution_count": null,
      "outputs": []
    },
    {
      "cell_type": "code",
      "source": [
        "train_data_ids = train_data_ids1.merge(train_data_ids2, on='match id')"
      ],
      "metadata": {
        "id": "YW5PFWl8iUfY"
      },
      "execution_count": null,
      "outputs": []
    },
    {
      "cell_type": "code",
      "source": [
        "train_data_ids.info()"
      ],
      "metadata": {
        "colab": {
          "base_uri": "https://localhost:8080/"
        },
        "id": "0n70QRIpqjRf",
        "outputId": "b90b2fe5-0b88-42de-d568-d4a919194993"
      },
      "execution_count": null,
      "outputs": [
        {
          "output_type": "stream",
          "name": "stdout",
          "text": [
            "<class 'pandas.core.frame.DataFrame'>\n",
            "RangeIndex: 948 entries, 0 to 947\n",
            "Data columns (total 23 columns):\n",
            " #   Column                 Non-Null Count  Dtype  \n",
            "---  ------                 --------------  -----  \n",
            " 0   match id               948 non-null    int64  \n",
            " 1   economy_x              948 non-null    float64\n",
            " 2   bowling_strike_rate_x  575 non-null    float64\n",
            " 3   bowling_average_x      575 non-null    float64\n",
            " 4   boundary_rate_x        948 non-null    float64\n",
            " 5   dot_ball_percent_x     948 non-null    float64\n",
            " 6   extras_x               948 non-null    float64\n",
            " 7   maiden_over_percent_x  948 non-null    float64\n",
            " 8   strike_rate_x          948 non-null    float64\n",
            " 9   batting_average_x      948 non-null    float64\n",
            " 10  boundary_percent_x     948 non-null    float64\n",
            " 11  overs_perform_x        948 non-null    float64\n",
            " 12  economy_y              948 non-null    float64\n",
            " 13  bowling_strike_rate_y  549 non-null    float64\n",
            " 14  bowling_average_y      549 non-null    float64\n",
            " 15  boundary_rate_y        948 non-null    float64\n",
            " 16  dot_ball_percent_y     948 non-null    float64\n",
            " 17  extras_y               948 non-null    float64\n",
            " 18  maiden_over_percent_y  948 non-null    float64\n",
            " 19  strike_rate_y          948 non-null    float64\n",
            " 20  batting_average_y      948 non-null    float64\n",
            " 21  boundary_percent_y     948 non-null    float64\n",
            " 22  overs_perform_y        948 non-null    float64\n",
            "dtypes: float64(22), int64(1)\n",
            "memory usage: 170.5 KB\n"
          ]
        }
      ]
    },
    {
      "cell_type": "code",
      "source": [
        "train_data_ids['economy'] = (train_data_ids['economy_x'] + train_data_ids['economy_y'])/2\n",
        "train_data_ids = train_data_ids.drop(columns=['economy_x','economy_y'])\n",
        "train_data_ids['bowling_strike_rate'] = (train_data_ids['bowling_strike_rate_x'] + train_data_ids['bowling_strike_rate_y'])/2\n",
        "train_data_ids = train_data_ids.drop(columns=['bowling_strike_rate_x','bowling_strike_rate_y'])\n",
        "train_data_ids['bowling_average'] = (train_data_ids['bowling_average_x'] + train_data_ids['bowling_average_y'])/2\n",
        "train_data_ids = train_data_ids.drop(columns=['bowling_average_x','bowling_average_y'])\n",
        "train_data_ids['boundary_rate'] = (train_data_ids['boundary_rate_x'] + train_data_ids['boundary_rate_y'])/2\n",
        "train_data_ids = train_data_ids.drop(columns=['boundary_rate_x','boundary_rate_y'])\n",
        "train_data_ids['dot_ball_percent'] = (train_data_ids['dot_ball_percent_x'] + train_data_ids['dot_ball_percent_y'])/2\n",
        "train_data_ids = train_data_ids.drop(columns=['dot_ball_percent_x','dot_ball_percent_y'])\n",
        "train_data_ids['extras'] = (train_data_ids['extras_x'] + train_data_ids['extras_y'])/2\n",
        "train_data_ids = train_data_ids.drop(columns=['extras_x','extras_y'])\n",
        "train_data_ids['maiden_over_percent'] = (train_data_ids['maiden_over_percent_x'] + train_data_ids['maiden_over_percent_y'])/2\n",
        "train_data_ids = train_data_ids.drop(columns=['maiden_over_percent_x','maiden_over_percent_y'])\n",
        "train_data_ids['strike_rate'] = (train_data_ids['strike_rate_x'] + train_data_ids['strike_rate_y'])/2\n",
        "train_data_ids = train_data_ids.drop(columns=['strike_rate_x','strike_rate_y'])\n",
        "train_data_ids['batting_average'] = (train_data_ids['batting_average_x'] + train_data_ids['batting_average_y'])/2\n",
        "train_data_ids = train_data_ids.drop(columns=['batting_average_x','batting_average_y'])\n",
        "train_data_ids['boundary_percent'] = (train_data_ids['boundary_percent_x'] + train_data_ids['boundary_percent_y'])/2\n",
        "train_data_ids = train_data_ids.drop(columns=['boundary_percent_x','boundary_percent_y'])\n",
        "train_data_ids['overs_perform'] = (train_data_ids['overs_perform_x'] + train_data_ids['overs_perform_y'])/2\n",
        "train_data_ids = train_data_ids.drop(columns=['overs_perform_x','overs_perform_y'])"
      ],
      "metadata": {
        "id": "bgNrPOzdp8hF"
      },
      "execution_count": null,
      "outputs": []
    },
    {
      "cell_type": "code",
      "source": [
        "# train_data_ids['runs'] = (train_data_ids['runs_x'] + train_data_ids['runs_y'])/2\n",
        "# train_data_ids.drop(columns=['runs_x','runs_y'],inplace=True)\n",
        "# train_data_ids['economy'] = (train_data_ids['economy_x'] + train_data_ids['economy_y'])/2\n",
        "# train_data_ids.drop(columns=['economy_x','economy_y'],inplace=True)\n",
        "# train_data_ids['wicket_count']= (train_data_ids['wicket_count_x'] + train_data_ids['wicket_count_y'])/2\n",
        "# train_data_ids.drop(columns=['wicket_count_x','wicket_count_y'],inplace=True)\n",
        "# train_data_ids['balls_bowled']= (train_data_ids['balls_bowled_x'] + train_data_ids['balls_bowled_y'])/2\n",
        "# train_data_ids.drop(columns=['balls_bowled_x','balls_bowled_y'],inplace=True)\n",
        "# train_data_ids['Fours']= (train_data_ids['Fours_x'] + train_data_ids['Fours_y'])/2\n",
        "# train_data_ids.drop(columns=['Fours_x','Fours_y'],inplace=True)\n",
        "# train_data_ids['Sixes']= (train_data_ids['Sixes_x'] + train_data_ids['Sixes_y'])/2\n",
        "# train_data_ids.drop(columns=['Sixes_x','Sixes_y'],inplace=True)\n",
        "# train_data_ids['maiden']= (train_data_ids['maiden_x'] + train_data_ids['maiden_y'])/2\n",
        "# train_data_ids.drop(columns=['maiden_x','maiden_y'],inplace=True)\n",
        "# train_data_ids['wides']= (train_data_ids['wides_x'] + train_data_ids['wides_y'])/2\n",
        "# train_data_ids.drop(columns=['wides_x','wides_y'],inplace=True)\n",
        "# train_data_ids['noballs']= (train_data_ids['noballs_x'] + train_data_ids['noballs_y'])/2\n",
        "# train_data_ids.drop(columns=['noballs_x','noballs_y'],inplace=True)\n",
        "# train_data_ids['dots']= (train_data_ids['dots_x'] + train_data_ids['dots_y'])/2\n",
        "# train_data_ids.drop(columns=['dots_x','dots_y'],inplace=True)\n",
        "# train_data_ids['balls_faced']= (train_data_ids['balls_faced_x'] + train_data_ids['balls_faced_y'])/2\n",
        "# train_data_ids.drop(columns=['balls_faced_x','balls_faced_y'],inplace=True)\n",
        "# train_data_ids['over_faced_first']= (train_data_ids['over_faced_first_x'] + train_data_ids['over_faced_first_y'])/2\n",
        "# train_data_ids.drop(columns=['over_faced_first_x','over_faced_first_y'],inplace=True)\n",
        "# train_data_ids['strike_rate']= (train_data_ids['strike_rate_x'] + train_data_ids['strike_rate_y'])/2\n",
        "# train_data_ids.drop(columns=['strike_rate_x','strike_rate_y'],inplace=True)"
      ],
      "metadata": {
        "id": "LG__cobLqgXJ"
      },
      "execution_count": null,
      "outputs": []
    },
    {
      "cell_type": "code",
      "source": [
        "# train_data_ids['win amount'] = (train_data_ids['win amount_x'] + train_data_ids['win amount_y'])/2\n",
        "# train_data_ids.drop(columns=['win amount_x','win amount_y'],inplace=True)\n",
        "# train_data_ids['inning1_runs'] = (train_data_ids['inning1_runs_x'] + train_data_ids['inning1_runs_y'])/2\n",
        "# train_data_ids.drop(columns=['inning1_runs_x','inning1_runs_y'],inplace=True)\n",
        "# train_data_ids['inning2_runs'] = (train_data_ids['inning2_runs_x'] + train_data_ids['inning2_runs_y'])/2\n",
        "# train_data_ids.drop(columns=['inning2_runs_x','inning2_runs_y'],inplace=True)\n",
        "# train_data_ids['inning1_wickets'] = (train_data_ids['inning1_wickets_x'] + train_data_ids['inning1_wickets_y'])/2\n",
        "# train_data_ids.drop(columns=['inning1_wickets_x','inning1_wickets_y'],inplace=True)\n",
        "# train_data_ids['inning2_wickets'] = (train_data_ids['inning2_wickets_x'] + train_data_ids['inning2_wickets_y'])/2\n",
        "# train_data_ids.drop(columns=['inning2_wickets_x','inning2_wickets_y'],inplace=True)\n",
        "# train_data_ids['inning1_balls']= (train_data_ids['inning1_balls_x'] + train_data_ids['inning1_balls_y'])/2\n",
        "# train_data_ids.drop(columns=['inning1_balls_x','inning1_balls_y'],inplace=True)\n",
        "# train_data_ids['inning2_balls']= (train_data_ids['inning2_balls_x'] + train_data_ids['inning2_balls_y'])/2\n",
        "# train_data_ids.drop(columns=['inning2_balls_x','inning2_balls_y'],inplace=True)\n",
        "# train_data_ids['player_metric'] = (train_data_ids['player_metric_x'] + train_data_ids['player_metric_y'])/2\n",
        "# train_data_ids.drop(columns=['player_metric_x','player_metric_y'],inplace=True)"
      ],
      "metadata": {
        "id": "XJRtHSkxi87R"
      },
      "execution_count": null,
      "outputs": []
    },
    {
      "cell_type": "code",
      "source": [
        "train_data_ids.info()"
      ],
      "metadata": {
        "colab": {
          "base_uri": "https://localhost:8080/"
        },
        "id": "NY1tGP4oj0GM",
        "outputId": "98c3ba43-53c4-468e-a873-ea3eed2e2c5f"
      },
      "execution_count": null,
      "outputs": [
        {
          "output_type": "stream",
          "name": "stdout",
          "text": [
            "<class 'pandas.core.frame.DataFrame'>\n",
            "RangeIndex: 948 entries, 0 to 947\n",
            "Data columns (total 12 columns):\n",
            " #   Column               Non-Null Count  Dtype  \n",
            "---  ------               --------------  -----  \n",
            " 0   match id             948 non-null    int64  \n",
            " 1   economy              948 non-null    float64\n",
            " 2   bowling_strike_rate  332 non-null    float64\n",
            " 3   bowling_average      332 non-null    float64\n",
            " 4   boundary_rate        948 non-null    float64\n",
            " 5   dot_ball_percent     948 non-null    float64\n",
            " 6   extras               948 non-null    float64\n",
            " 7   maiden_over_percent  948 non-null    float64\n",
            " 8   strike_rate          948 non-null    float64\n",
            " 9   batting_average      948 non-null    float64\n",
            " 10  boundary_percent     948 non-null    float64\n",
            " 11  overs_perform        948 non-null    float64\n",
            "dtypes: float64(11), int64(1)\n",
            "memory usage: 89.0 KB\n"
          ]
        }
      ]
    },
    {
      "cell_type": "code",
      "source": [
        "# train_data_ids2.info()"
      ],
      "metadata": {
        "id": "kZ9-OZYGhNl_"
      },
      "execution_count": null,
      "outputs": []
    },
    {
      "cell_type": "code",
      "source": [
        "# train_data_ids1.info()"
      ],
      "metadata": {
        "id": "fRni9lRUhg81"
      },
      "execution_count": null,
      "outputs": []
    },
    {
      "cell_type": "code",
      "source": [
        "train_data.drop(columns=['processed_team1_roster_ids','processed_team2_roster_ids'],inplace=True)\n",
        "train_data.drop_duplicates(inplace=True)"
      ],
      "metadata": {
        "id": "JuL8g7vQlr7k"
      },
      "execution_count": null,
      "outputs": []
    },
    {
      "cell_type": "code",
      "source": [
        "train_data = train_data.merge(train_data_ids , on='match id')"
      ],
      "metadata": {
        "id": "lMKZRoZGlr1N"
      },
      "execution_count": null,
      "outputs": []
    },
    {
      "cell_type": "code",
      "source": [
        "train_data.info()"
      ],
      "metadata": {
        "colab": {
          "base_uri": "https://localhost:8080/"
        },
        "id": "AKq500ehry38",
        "outputId": "c7e249ca-9a27-4621-d7b9-8f5f2168ec2a"
      },
      "execution_count": null,
      "outputs": [
        {
          "output_type": "stream",
          "name": "stdout",
          "text": [
            "<class 'pandas.core.frame.DataFrame'>\n",
            "RangeIndex: 948 entries, 0 to 947\n",
            "Data columns (total 22 columns):\n",
            " #   Column                     Non-Null Count  Dtype  \n",
            "---  ------                     --------------  -----  \n",
            " 0   match id                   948 non-null    int64  \n",
            " 1   team1_id                   948 non-null    int64  \n",
            " 2   team2_id                   948 non-null    int64  \n",
            " 3   winner_id                  948 non-null    int64  \n",
            " 4   toss winner                948 non-null    int64  \n",
            " 5   toss decision              948 non-null    int64  \n",
            " 6   team_count_50runs_last15   948 non-null    float64\n",
            " 7   team_winp_last5            948 non-null    float64\n",
            " 8   team1only_avg_runs_last15  927 non-null    float64\n",
            " 9   team1_winp_team2_last15    948 non-null    float64\n",
            " 10  ground_avg_runs_last15     895 non-null    float64\n",
            " 11  economy                    948 non-null    float64\n",
            " 12  bowling_strike_rate        332 non-null    float64\n",
            " 13  bowling_average            332 non-null    float64\n",
            " 14  boundary_rate              948 non-null    float64\n",
            " 15  dot_ball_percent           948 non-null    float64\n",
            " 16  extras                     948 non-null    float64\n",
            " 17  maiden_over_percent        948 non-null    float64\n",
            " 18  strike_rate                948 non-null    float64\n",
            " 19  batting_average            948 non-null    float64\n",
            " 20  boundary_percent           948 non-null    float64\n",
            " 21  overs_perform              948 non-null    float64\n",
            "dtypes: float64(16), int64(6)\n",
            "memory usage: 163.1 KB\n"
          ]
        }
      ]
    },
    {
      "cell_type": "code",
      "source": [
        "from sklearn.impute import SimpleImputer\n",
        "imputer = SimpleImputer(strategy='median')\n",
        "train_data['team1only_avg_runs_last15'] = imputer.fit_transform(train_data[['team1only_avg_runs_last15']])\n",
        "train_data['ground_avg_runs_last15'] = imputer.fit_transform(train_data[['ground_avg_runs_last15']])\n",
        "train_data = pd.DataFrame(train_data)"
      ],
      "metadata": {
        "id": "NIfUBiOAmSTr"
      },
      "execution_count": null,
      "outputs": []
    },
    {
      "cell_type": "code",
      "source": [
        "# train_data_det = train_data[['match id','team1_id','team2_id','toss winner','toss decision']]\n",
        "# train_data_set = train_data[['team1only_avg_runs_last15','ground_avg_runs_last15','player_metric','win amount',\n",
        "#                            'inning1_runs','inning2_runs','inning1_wickets','inning2_wickets',\n",
        "#                            'inning1_balls','inning2_balls','team1_winp_team2_last15','team_winp_last5'\n",
        "#                            ,'team_count_50runs_last15']]\n",
        "# train_winner = train_data[['winner_id']]"
      ],
      "metadata": {
        "id": "v8VtZPfWphAv"
      },
      "execution_count": null,
      "outputs": []
    },
    {
      "cell_type": "markdown",
      "source": [
        "#preparing test data"
      ],
      "metadata": {
        "id": "e6V3Lp-lYchK"
      }
    },
    {
      "cell_type": "code",
      "source": [
        "team_id_map = {team: id_ for team, id_ in zip(test_data['team1'], test_data['team1_id'])}\n",
        "team_id_map.update({team: id_ for team, id_ in zip(test_data['team2'], test_data['team2_id'])})\n",
        "\n",
        "# Replace 'toss winner' elements with their corresponding IDs\n",
        "test_data['toss winner'] = test_data['toss winner'].map(team_id_map)\n",
        "\n",
        "test_data['toss decision'] = test_data['toss decision'].replace({'field': 0, 'bat': 1})\n",
        "\n",
        "columns_to_drop_test_data = ['team1','team2','match_dt','venue','city','lighting','series_name',\n",
        "                                    'season','ground_id']\n",
        "\n",
        "# Drop columns that exist in the dataframe\n",
        "test_data = test_data.drop(columns=[col for col in columns_to_drop_test_data if col in test_data.columns])"
      ],
      "metadata": {
        "id": "3CVQrm1HYegp"
      },
      "execution_count": null,
      "outputs": []
    },
    {
      "cell_type": "code",
      "source": [
        "test_data['processed_team1_roster_ids'] =test_data['team1_roster_ids'].apply(process_roster_ids)\n",
        "test_data['processed_team2_roster_ids'] = test_data['team2_roster_ids'].apply(process_roster_ids)\n",
        "test_data.drop(columns=['team1_roster_ids','team2_roster_ids'],inplace=True)"
      ],
      "metadata": {
        "id": "8uVYyWqPY9kc"
      },
      "execution_count": null,
      "outputs": []
    },
    {
      "cell_type": "code",
      "source": [
        "test_data = test_data.explode('processed_team1_roster_ids')\n",
        "test_data = test_data.explode('processed_team2_roster_ids')\n",
        "\n",
        "# Reset the index to get a clean DataFrame\n",
        "test_data = test_data.reset_index(drop=True)"
      ],
      "metadata": {
        "id": "hrmdFUEKZglV"
      },
      "execution_count": null,
      "outputs": []
    },
    {
      "cell_type": "code",
      "source": [
        "test_data.info()"
      ],
      "metadata": {
        "colab": {
          "base_uri": "https://localhost:8080/"
        },
        "id": "jAQeVWY8ZgZi",
        "outputId": "e8e9caba-80b9-4595-9ae9-50f8fba74d06"
      },
      "execution_count": null,
      "outputs": [
        {
          "output_type": "stream",
          "name": "stdout",
          "text": [
            "<class 'pandas.core.frame.DataFrame'>\n",
            "RangeIndex: 33533 entries, 0 to 33532\n",
            "Data columns (total 12 columns):\n",
            " #   Column                      Non-Null Count  Dtype  \n",
            "---  ------                      --------------  -----  \n",
            " 0   match id                    33533 non-null  int64  \n",
            " 1   team1_id                    33533 non-null  int64  \n",
            " 2   team2_id                    33533 non-null  int64  \n",
            " 3   toss winner                 33533 non-null  int64  \n",
            " 4   toss decision               33533 non-null  int64  \n",
            " 5   team_count_50runs_last15    33533 non-null  float64\n",
            " 6   team_winp_last5             33533 non-null  float64\n",
            " 7   team1only_avg_runs_last15   32686 non-null  float64\n",
            " 8   team1_winp_team2_last15     33533 non-null  float64\n",
            " 9   ground_avg_runs_last15      32323 non-null  float64\n",
            " 10  processed_team1_roster_ids  33533 non-null  object \n",
            " 11  processed_team2_roster_ids  33533 non-null  object \n",
            "dtypes: float64(5), int64(5), object(2)\n",
            "memory usage: 3.1+ MB\n"
          ]
        }
      ]
    },
    {
      "cell_type": "code",
      "source": [
        "test_data_ids1 = test_data[['match id','processed_team1_roster_ids']]\n",
        "test_data_ids2 = test_data[['match id','processed_team2_roster_ids']]\n",
        "test_data_ids1 = test_data_ids1.merge(player_data , left_on ='processed_team1_roster_ids', right_on='player_id')\n",
        "test_data_ids2 = test_data_ids2.merge(player_data , left_on ='processed_team2_roster_ids', right_on='player_id')\n",
        "test_data_ids1.drop(columns=['processed_team1_roster_ids','player_id'],inplace=True)\n",
        "test_data_ids2.drop(columns=['processed_team2_roster_ids','player_id'],inplace=True)\n",
        "test_data_ids1 = test_data_ids1.groupby('match id').mean().reset_index()\n",
        "test_data_ids2 = test_data_ids2.groupby('match id').mean().reset_index()"
      ],
      "metadata": {
        "id": "vc5M0hwmgraG"
      },
      "execution_count": null,
      "outputs": []
    },
    {
      "cell_type": "code",
      "source": [
        "test_data_ids = test_data_ids1.merge(test_data_ids2, on='match id')"
      ],
      "metadata": {
        "id": "FIxRaoP9izx2"
      },
      "execution_count": null,
      "outputs": []
    },
    {
      "cell_type": "code",
      "source": [
        "test_data_ids['economy'] = (test_data_ids['economy_x'] + test_data_ids['economy_y'])/2\n",
        "test_data_ids = test_data_ids.drop(columns=['economy_x','economy_y'])\n",
        "test_data_ids['bowling_strike_rate'] = (test_data_ids['bowling_strike_rate_x'] + test_data_ids['bowling_strike_rate_y'])/2\n",
        "test_data_ids = test_data_ids.drop(columns=['bowling_strike_rate_x','bowling_strike_rate_y'])\n",
        "test_data_ids['bowling_average'] = (test_data_ids['bowling_average_x'] + test_data_ids['bowling_average_y'])/2\n",
        "test_data_ids = test_data_ids.drop(columns=['bowling_average_x','bowling_average_y'])\n",
        "test_data_ids['boundary_rate'] = (test_data_ids['boundary_rate_x'] + test_data_ids['boundary_rate_y'])/2\n",
        "test_data_ids = test_data_ids.drop(columns=['boundary_rate_x','boundary_rate_y'])\n",
        "test_data_ids['dot_ball_percent'] = (test_data_ids['dot_ball_percent_x'] + test_data_ids['dot_ball_percent_y'])/2\n",
        "test_data_ids = test_data_ids.drop(columns=['dot_ball_percent_x','dot_ball_percent_y'])\n",
        "test_data_ids['extras'] = (test_data_ids['extras_x'] + test_data_ids['extras_y'])/2\n",
        "test_data_ids = test_data_ids.drop(columns=['extras_x','extras_y'])\n",
        "test_data_ids['maiden_over_percent'] = (test_data_ids['maiden_over_percent_x'] + test_data_ids['maiden_over_percent_y'])/2\n",
        "test_data_ids = test_data_ids.drop(columns=['maiden_over_percent_x','maiden_over_percent_y'])\n",
        "test_data_ids['strike_rate'] = (test_data_ids['strike_rate_x'] + test_data_ids['strike_rate_y'])/2\n",
        "test_data_ids = test_data_ids.drop(columns=['strike_rate_x','strike_rate_y'])\n",
        "test_data_ids['batting_average'] = (test_data_ids['batting_average_x'] + test_data_ids['batting_average_y'])/2\n",
        "test_data_ids = test_data_ids.drop(columns=['batting_average_x','batting_average_y'])\n",
        "test_data_ids['boundary_percent'] = (test_data_ids['boundary_percent_x'] + test_data_ids['boundary_percent_y'])/2\n",
        "test_data_ids = test_data_ids.drop(columns=['boundary_percent_x','boundary_percent_y'])\n",
        "test_data_ids['overs_perform'] = (test_data_ids['overs_perform_x'] + test_data_ids['overs_perform_y'])/2\n",
        "test_data_ids = test_data_ids.drop(columns=['overs_perform_x','overs_perform_y'])"
      ],
      "metadata": {
        "id": "mKVb7N9usG5B"
      },
      "execution_count": null,
      "outputs": []
    },
    {
      "cell_type": "code",
      "source": [
        "# test_data_ids['runs'] = (test_data_ids['runs_x'] + test_data_ids['runs_y'])/2\n",
        "# test_data_ids.drop(columns=['runs_x', 'runs_y'], inplace=True)\n",
        "\n",
        "# test_data_ids['economy'] = (test_data_ids['economy_x'] + test_data_ids['economy_y'])/2\n",
        "# test_data_ids.drop(columns=['economy_x', 'economy_y'], inplace=True)\n",
        "\n",
        "# test_data_ids['wicket_count'] = (test_data_ids['wicket_count_x'] + test_data_ids['wicket_count_y'])/2\n",
        "# test_data_ids.drop(columns=['wicket_count_x', 'wicket_count_y'], inplace=True)\n",
        "\n",
        "# test_data_ids['balls_bowled'] = (test_data_ids['balls_bowled_x'] + test_data_ids['balls_bowled_y'])/2\n",
        "# test_data_ids.drop(columns=['balls_bowled_x', 'balls_bowled_y'], inplace=True)\n",
        "\n",
        "# test_data_ids['Fours'] = (test_data_ids['Fours_x'] + test_data_ids['Fours_y'])/2\n",
        "# test_data_ids.drop(columns=['Fours_x', 'Fours_y'], inplace=True)\n",
        "\n",
        "# test_data_ids['Sixes'] = (test_data_ids['Sixes_x'] + test_data_ids['Sixes_y'])/2\n",
        "# test_data_ids.drop(columns=['Sixes_x', 'Sixes_y'], inplace=True)\n",
        "\n",
        "# test_data_ids['maiden'] = (test_data_ids['maiden_x'] + test_data_ids['maiden_y'])/2\n",
        "# test_data_ids.drop(columns=['maiden_x', 'maiden_y'], inplace=True)\n",
        "\n",
        "# test_data_ids['wides'] = (test_data_ids['wides_x'] + test_data_ids['wides_y'])/2\n",
        "# test_data_ids.drop(columns=['wides_x', 'wides_y'], inplace=True)\n",
        "\n",
        "# test_data_ids['noballs'] = (test_data_ids['noballs_x'] + test_data_ids['noballs_y'])/2\n",
        "# test_data_ids.drop(columns=['noballs_x', 'noballs_y'], inplace=True)\n",
        "\n",
        "# test_data_ids['dots'] = (test_data_ids['dots_x'] + test_data_ids['dots_y'])/2\n",
        "# test_data_ids.drop(columns=['dots_x', 'dots_y'], inplace=True)\n",
        "\n",
        "# test_data_ids['balls_faced'] = (test_data_ids['balls_faced_x'] + test_data_ids['balls_faced_y'])/2\n",
        "# test_data_ids.drop(columns=['balls_faced_x', 'balls_faced_y'], inplace=True)\n",
        "\n",
        "# test_data_ids['over_faced_first'] = (test_data_ids['over_faced_first_x'] + test_data_ids['over_faced_first_y'])/2\n",
        "# test_data_ids.drop(columns=['over_faced_first_x', 'over_faced_first_y'], inplace=True)\n",
        "\n",
        "# test_data_ids['strike_rate'] = (test_data_ids['strike_rate_x'] + test_data_ids['strike_rate_y'])/2\n",
        "# test_data_ids.drop(columns=['strike_rate_x', 'strike_rate_y'], inplace=True)"
      ],
      "metadata": {
        "id": "PxHl2Zt5sVPk"
      },
      "execution_count": null,
      "outputs": []
    },
    {
      "cell_type": "code",
      "source": [
        "# test_data_ids['win amount'] = (test_data_ids['win amount_x'] + test_data_ids['win amount_y'])/2\n",
        "# test_data_ids.drop(columns=['win amount_x','win amount_y'],inplace=True)\n",
        "# test_data_ids['inning1_runs'] = (test_data_ids['inning1_runs_x'] + test_data_ids['inning1_runs_y'])/2\n",
        "# test_data_ids.drop(columns=['inning1_runs_x','inning1_runs_y'],inplace=True)\n",
        "# test_data_ids['inning2_runs'] = (test_data_ids['inning2_runs_x'] + test_data_ids['inning2_runs_y'])/2\n",
        "# test_data_ids.drop(columns=['inning2_runs_x','inning2_runs_y'],inplace=True)\n",
        "# test_data_ids['inning1_wickets'] = (test_data_ids['inning1_wickets_x'] + test_data_ids['inning1_wickets_y'])/2\n",
        "# test_data_ids.drop(columns=['inning1_wickets_x','inning1_wickets_y'],inplace=True)\n",
        "# test_data_ids['inning2_wickets'] = (test_data_ids['inning2_wickets_x'] + test_data_ids['inning2_wickets_y'])/2\n",
        "# test_data_ids.drop(columns=['inning2_wickets_x','inning2_wickets_y'],inplace=True)\n",
        "# test_data_ids['inning1_balls']= (test_data_ids['inning1_balls_x'] + test_data_ids['inning1_balls_y'])/2\n",
        "# test_data_ids.drop(columns=['inning1_balls_x','inning1_balls_y'],inplace=True)\n",
        "# test_data_ids['inning2_balls']= (test_data_ids['inning2_balls_x'] + test_data_ids['inning2_balls_y'])/2\n",
        "# test_data_ids.drop(columns=['inning2_balls_x','inning2_balls_y'],inplace=True)\n",
        "# test_data_ids['player_metric'] = (test_data_ids['player_metric_x'] + test_data_ids['player_metric_y'])/2\n",
        "# test_data_ids.drop(columns=['player_metric_x','player_metric_y'],inplace=True)"
      ],
      "metadata": {
        "id": "bKAI1scvj88I"
      },
      "execution_count": null,
      "outputs": []
    },
    {
      "cell_type": "code",
      "source": [
        "# test_data_ids.info()"
      ],
      "metadata": {
        "id": "Lsczm-aCm6my"
      },
      "execution_count": null,
      "outputs": []
    },
    {
      "cell_type": "code",
      "source": [
        "test_data.drop(columns=['processed_team1_roster_ids','processed_team2_roster_ids'],inplace=True)"
      ],
      "metadata": {
        "id": "SaRi71SWmXm4"
      },
      "execution_count": null,
      "outputs": []
    },
    {
      "cell_type": "code",
      "source": [
        "\n",
        "test_data.drop_duplicates(inplace=True)"
      ],
      "metadata": {
        "id": "BgJUmChvmrxa"
      },
      "execution_count": null,
      "outputs": []
    },
    {
      "cell_type": "code",
      "source": [
        "test_data = test_data.merge(test_data_ids , on='match id')"
      ],
      "metadata": {
        "id": "LiFecOFFmvyS"
      },
      "execution_count": null,
      "outputs": []
    },
    {
      "cell_type": "code",
      "source": [
        "test_data.info()"
      ],
      "metadata": {
        "colab": {
          "base_uri": "https://localhost:8080/"
        },
        "id": "3_ERh9zAmxXC",
        "outputId": "4c561efe-a8dd-4dae-c402-396f6c693e7c"
      },
      "execution_count": null,
      "outputs": [
        {
          "output_type": "stream",
          "name": "stdout",
          "text": [
            "<class 'pandas.core.frame.DataFrame'>\n",
            "RangeIndex: 270 entries, 0 to 269\n",
            "Data columns (total 21 columns):\n",
            " #   Column                     Non-Null Count  Dtype  \n",
            "---  ------                     --------------  -----  \n",
            " 0   match id                   270 non-null    int64  \n",
            " 1   team1_id                   270 non-null    int64  \n",
            " 2   team2_id                   270 non-null    int64  \n",
            " 3   toss winner                270 non-null    int64  \n",
            " 4   toss decision              270 non-null    int64  \n",
            " 5   team_count_50runs_last15   270 non-null    float64\n",
            " 6   team_winp_last5            270 non-null    float64\n",
            " 7   team1only_avg_runs_last15  264 non-null    float64\n",
            " 8   team1_winp_team2_last15    270 non-null    float64\n",
            " 9   ground_avg_runs_last15     260 non-null    float64\n",
            " 10  economy                    270 non-null    float64\n",
            " 11  bowling_strike_rate        85 non-null     float64\n",
            " 12  bowling_average            85 non-null     float64\n",
            " 13  boundary_rate              270 non-null    float64\n",
            " 14  dot_ball_percent           270 non-null    float64\n",
            " 15  extras                     270 non-null    float64\n",
            " 16  maiden_over_percent        270 non-null    float64\n",
            " 17  strike_rate                270 non-null    float64\n",
            " 18  batting_average            270 non-null    float64\n",
            " 19  boundary_percent           270 non-null    float64\n",
            " 20  overs_perform              270 non-null    float64\n",
            "dtypes: float64(16), int64(5)\n",
            "memory usage: 44.4 KB\n"
          ]
        }
      ]
    },
    {
      "cell_type": "code",
      "source": [
        "from sklearn.impute import SimpleImputer\n",
        "imputer = SimpleImputer(strategy='median')\n",
        "test_data['team1only_avg_runs_last15'] = imputer.fit_transform(test_data[['team1only_avg_runs_last15']])\n",
        "test_data['ground_avg_runs_last15'] = imputer.fit_transform(test_data[['ground_avg_runs_last15']])\n",
        "test_data = pd.DataFrame(test_data)"
      ],
      "metadata": {
        "id": "2D9qXxCtm3TX"
      },
      "execution_count": null,
      "outputs": []
    },
    {
      "cell_type": "code",
      "source": [
        "# test_data_det = test_data[['match id','team1_id','team2_id','toss winner','toss decision']]\n",
        "# test_data_set = test_data[['team1only_avg_runs_last15','ground_avg_runs_last15','player_metric','win amount',\n",
        "#                            'inning1_runs','inning2_runs','inning1_wickets','inning2_wickets',\n",
        "#                            'inning1_balls','inning2_balls','team1_winp_team2_last15','team_winp_last5'\n",
        "#                            ,'team_count_50runs_last15']]"
      ],
      "metadata": {
        "id": "vHkOr5CHoVx9"
      },
      "execution_count": null,
      "outputs": []
    },
    {
      "cell_type": "code",
      "source": [],
      "metadata": {
        "id": "sUkH9LUUpPGr"
      },
      "execution_count": null,
      "outputs": []
    },
    {
      "cell_type": "markdown",
      "source": [
        "#Time to train the model:"
      ],
      "metadata": {
        "id": "slqoQAObpzbq"
      }
    },
    {
      "cell_type": "markdown",
      "source": [
        "#using classifier"
      ],
      "metadata": {
        "id": "CXTDZSHuveil"
      }
    },
    {
      "cell_type": "code",
      "source": [
        "# train_class = train_data[['match id', 'team1_id', 'team2_id', 'toss winner', 'toss decision', 'team_count_50runs_last15',\n",
        "#                           'team_winp_last5', 'team1only_avg_runs_last15', 'team1_winp_team2_last15', 'ground_avg_runs_last15',\n",
        "#                           'runs', 'economy', 'wicket_count', 'balls_bowled', 'Fours', 'Sixes', 'maiden', 'wides', 'noballs', 'dots',\n",
        "#                           'balls_faced', 'over_faced_first', 'strike_rate']]\n",
        "# train_class_winner = train_data[['winner_id']]"
      ],
      "metadata": {
        "id": "tIeLhTzKvl1w"
      },
      "execution_count": null,
      "outputs": []
    },
    {
      "cell_type": "code",
      "source": [
        "train_class = train_data[[\n",
        "    'team_count_50runs_last15', 'team_winp_last5',\n",
        "    'team1only_avg_runs_last15', 'team1_winp_team2_last15',\n",
        "    'ground_avg_runs_last15', 'economy', 'bowling_strike_rate',\n",
        "    'bowling_average', 'boundary_rate', 'dot_ball_percent', 'extras',\n",
        "    'maiden_over_percent', 'strike_rate', 'batting_average',\n",
        "    'boundary_percent', 'overs_perform']]\n",
        "train_class_winner = train_data[['winner_id']]"
      ],
      "metadata": {
        "id": "n_advSYjtpOu"
      },
      "execution_count": null,
      "outputs": []
    },
    {
      "cell_type": "code",
      "source": [
        "# train_corr = train_data[['match id','team1_id','team2_id','toss winner','toss decision','team1only_avg_runs_last15','ground_avg_runs_last15','player_metric','win amount',\n",
        "#                            'inning1_runs','inning2_runs','inning1_wickets','inning2_wickets',\n",
        "#                            'inning1_balls','inning2_balls','team1_winp_team2_last15','team_winp_last5'\n",
        "#                            ,'team_count_50runs_last15','winner_id']]"
      ],
      "metadata": {
        "id": "fcV3YSoJy91u"
      },
      "execution_count": null,
      "outputs": []
    },
    {
      "cell_type": "code",
      "source": [
        "# corr_matrix = train_corr.corr()\n",
        "# corr_matrix['winner_id'].sort_values(ascending=False)"
      ],
      "metadata": {
        "id": "yNgGUPxszMQd"
      },
      "execution_count": null,
      "outputs": []
    },
    {
      "cell_type": "code",
      "source": [
        "from sklearn.model_selection import train_test_split\n",
        "X_train_class, X_test_class, y_train_class, y_test_class = train_test_split(train_class,train_class_winner, test_size=0.2, random_state=42)"
      ],
      "metadata": {
        "id": "o0wWDFxgwXiM"
      },
      "execution_count": null,
      "outputs": []
    },
    {
      "cell_type": "code",
      "source": [
        "from xgboost import XGBClassifier\n",
        "xgb_class_model = XGBClassifier()\n",
        "xgb_class_model.fit(X_train_class, y_train_class)"
      ],
      "metadata": {
        "colab": {
          "base_uri": "https://localhost:8080/",
          "height": 248
        },
        "id": "HEz765xqwehY",
        "outputId": "f3028f2e-10b5-4518-f49a-0c57e80aac4e"
      },
      "execution_count": null,
      "outputs": [
        {
          "output_type": "execute_result",
          "data": {
            "text/plain": [
              "XGBClassifier(base_score=None, booster=None, callbacks=None,\n",
              "              colsample_bylevel=None, colsample_bynode=None,\n",
              "              colsample_bytree=None, device=None, early_stopping_rounds=None,\n",
              "              enable_categorical=False, eval_metric=None, feature_types=None,\n",
              "              gamma=None, grow_policy=None, importance_type=None,\n",
              "              interaction_constraints=None, learning_rate=None, max_bin=None,\n",
              "              max_cat_threshold=None, max_cat_to_onehot=None,\n",
              "              max_delta_step=None, max_depth=None, max_leaves=None,\n",
              "              min_child_weight=None, missing=nan, monotone_constraints=None,\n",
              "              multi_strategy=None, n_estimators=None, n_jobs=None,\n",
              "              num_parallel_tree=None, random_state=None, ...)"
            ],
            "text/html": [
              "<style>#sk-container-id-7 {color: black;background-color: white;}#sk-container-id-7 pre{padding: 0;}#sk-container-id-7 div.sk-toggleable {background-color: white;}#sk-container-id-7 label.sk-toggleable__label {cursor: pointer;display: block;width: 100%;margin-bottom: 0;padding: 0.3em;box-sizing: border-box;text-align: center;}#sk-container-id-7 label.sk-toggleable__label-arrow:before {content: \"▸\";float: left;margin-right: 0.25em;color: #696969;}#sk-container-id-7 label.sk-toggleable__label-arrow:hover:before {color: black;}#sk-container-id-7 div.sk-estimator:hover label.sk-toggleable__label-arrow:before {color: black;}#sk-container-id-7 div.sk-toggleable__content {max-height: 0;max-width: 0;overflow: hidden;text-align: left;background-color: #f0f8ff;}#sk-container-id-7 div.sk-toggleable__content pre {margin: 0.2em;color: black;border-radius: 0.25em;background-color: #f0f8ff;}#sk-container-id-7 input.sk-toggleable__control:checked~div.sk-toggleable__content {max-height: 200px;max-width: 100%;overflow: auto;}#sk-container-id-7 input.sk-toggleable__control:checked~label.sk-toggleable__label-arrow:before {content: \"▾\";}#sk-container-id-7 div.sk-estimator input.sk-toggleable__control:checked~label.sk-toggleable__label {background-color: #d4ebff;}#sk-container-id-7 div.sk-label input.sk-toggleable__control:checked~label.sk-toggleable__label {background-color: #d4ebff;}#sk-container-id-7 input.sk-hidden--visually {border: 0;clip: rect(1px 1px 1px 1px);clip: rect(1px, 1px, 1px, 1px);height: 1px;margin: -1px;overflow: hidden;padding: 0;position: absolute;width: 1px;}#sk-container-id-7 div.sk-estimator {font-family: monospace;background-color: #f0f8ff;border: 1px dotted black;border-radius: 0.25em;box-sizing: border-box;margin-bottom: 0.5em;}#sk-container-id-7 div.sk-estimator:hover {background-color: #d4ebff;}#sk-container-id-7 div.sk-parallel-item::after {content: \"\";width: 100%;border-bottom: 1px solid gray;flex-grow: 1;}#sk-container-id-7 div.sk-label:hover label.sk-toggleable__label {background-color: #d4ebff;}#sk-container-id-7 div.sk-serial::before {content: \"\";position: absolute;border-left: 1px solid gray;box-sizing: border-box;top: 0;bottom: 0;left: 50%;z-index: 0;}#sk-container-id-7 div.sk-serial {display: flex;flex-direction: column;align-items: center;background-color: white;padding-right: 0.2em;padding-left: 0.2em;position: relative;}#sk-container-id-7 div.sk-item {position: relative;z-index: 1;}#sk-container-id-7 div.sk-parallel {display: flex;align-items: stretch;justify-content: center;background-color: white;position: relative;}#sk-container-id-7 div.sk-item::before, #sk-container-id-7 div.sk-parallel-item::before {content: \"\";position: absolute;border-left: 1px solid gray;box-sizing: border-box;top: 0;bottom: 0;left: 50%;z-index: -1;}#sk-container-id-7 div.sk-parallel-item {display: flex;flex-direction: column;z-index: 1;position: relative;background-color: white;}#sk-container-id-7 div.sk-parallel-item:first-child::after {align-self: flex-end;width: 50%;}#sk-container-id-7 div.sk-parallel-item:last-child::after {align-self: flex-start;width: 50%;}#sk-container-id-7 div.sk-parallel-item:only-child::after {width: 0;}#sk-container-id-7 div.sk-dashed-wrapped {border: 1px dashed gray;margin: 0 0.4em 0.5em 0.4em;box-sizing: border-box;padding-bottom: 0.4em;background-color: white;}#sk-container-id-7 div.sk-label label {font-family: monospace;font-weight: bold;display: inline-block;line-height: 1.2em;}#sk-container-id-7 div.sk-label-container {text-align: center;}#sk-container-id-7 div.sk-container {/* jupyter's `normalize.less` sets `[hidden] { display: none; }` but bootstrap.min.css set `[hidden] { display: none !important; }` so we also need the `!important` here to be able to override the default hidden behavior on the sphinx rendered scikit-learn.org. See: https://github.com/scikit-learn/scikit-learn/issues/21755 */display: inline-block !important;position: relative;}#sk-container-id-7 div.sk-text-repr-fallback {display: none;}</style><div id=\"sk-container-id-7\" class=\"sk-top-container\"><div class=\"sk-text-repr-fallback\"><pre>XGBClassifier(base_score=None, booster=None, callbacks=None,\n",
              "              colsample_bylevel=None, colsample_bynode=None,\n",
              "              colsample_bytree=None, device=None, early_stopping_rounds=None,\n",
              "              enable_categorical=False, eval_metric=None, feature_types=None,\n",
              "              gamma=None, grow_policy=None, importance_type=None,\n",
              "              interaction_constraints=None, learning_rate=None, max_bin=None,\n",
              "              max_cat_threshold=None, max_cat_to_onehot=None,\n",
              "              max_delta_step=None, max_depth=None, max_leaves=None,\n",
              "              min_child_weight=None, missing=nan, monotone_constraints=None,\n",
              "              multi_strategy=None, n_estimators=None, n_jobs=None,\n",
              "              num_parallel_tree=None, random_state=None, ...)</pre><b>In a Jupyter environment, please rerun this cell to show the HTML representation or trust the notebook. <br />On GitHub, the HTML representation is unable to render, please try loading this page with nbviewer.org.</b></div><div class=\"sk-container\" hidden><div class=\"sk-item\"><div class=\"sk-estimator sk-toggleable\"><input class=\"sk-toggleable__control sk-hidden--visually\" id=\"sk-estimator-id-7\" type=\"checkbox\" checked><label for=\"sk-estimator-id-7\" class=\"sk-toggleable__label sk-toggleable__label-arrow\">XGBClassifier</label><div class=\"sk-toggleable__content\"><pre>XGBClassifier(base_score=None, booster=None, callbacks=None,\n",
              "              colsample_bylevel=None, colsample_bynode=None,\n",
              "              colsample_bytree=None, device=None, early_stopping_rounds=None,\n",
              "              enable_categorical=False, eval_metric=None, feature_types=None,\n",
              "              gamma=None, grow_policy=None, importance_type=None,\n",
              "              interaction_constraints=None, learning_rate=None, max_bin=None,\n",
              "              max_cat_threshold=None, max_cat_to_onehot=None,\n",
              "              max_delta_step=None, max_depth=None, max_leaves=None,\n",
              "              min_child_weight=None, missing=nan, monotone_constraints=None,\n",
              "              multi_strategy=None, n_estimators=None, n_jobs=None,\n",
              "              num_parallel_tree=None, random_state=None, ...)</pre></div></div></div></div></div>"
            ]
          },
          "metadata": {},
          "execution_count": 441
        }
      ]
    },
    {
      "cell_type": "code",
      "source": [
        "labels_predicted_class = xgb_class_model.predict(X_test_class)"
      ],
      "metadata": {
        "id": "H0JQmhx8wovY"
      },
      "execution_count": null,
      "outputs": []
    },
    {
      "cell_type": "code",
      "source": [
        "from sklearn.metrics import accuracy_score"
      ],
      "metadata": {
        "id": "AkYvQ1ohtfKK"
      },
      "execution_count": null,
      "outputs": []
    },
    {
      "cell_type": "code",
      "source": [
        "xgb_class_accuracy = accuracy_score(y_test_class, labels_predicted_class)"
      ],
      "metadata": {
        "id": "uTtaLHNxwrlz"
      },
      "execution_count": null,
      "outputs": []
    },
    {
      "cell_type": "code",
      "source": [
        "xgb_class_accuracy"
      ],
      "metadata": {
        "colab": {
          "base_uri": "https://localhost:8080/"
        },
        "id": "CHTcJfwJw3oS",
        "outputId": "88fb247a-84d5-4afc-ae11-a661d7105e26"
      },
      "execution_count": null,
      "outputs": [
        {
          "output_type": "execute_result",
          "data": {
            "text/plain": [
              "0.45789473684210524"
            ]
          },
          "metadata": {},
          "execution_count": 445
        }
      ]
    },
    {
      "cell_type": "code",
      "source": [],
      "metadata": {
        "id": "fkdnttvww6Da"
      },
      "execution_count": null,
      "outputs": []
    },
    {
      "cell_type": "markdown",
      "source": [
        "#FINAL TESTING:"
      ],
      "metadata": {
        "id": "mLNvJbxUxClZ"
      }
    },
    {
      "cell_type": "code",
      "source": [
        "xgb_finalclass_model = XGBClassifier()\n",
        "xgb_finalclass_model.fit(train_class, train_class_winner)"
      ],
      "metadata": {
        "colab": {
          "base_uri": "https://localhost:8080/",
          "height": 248
        },
        "id": "CsjrRaZ5w91H",
        "outputId": "8c3a1bc9-b4f7-427f-b9ee-5209362ef00a"
      },
      "execution_count": null,
      "outputs": [
        {
          "output_type": "execute_result",
          "data": {
            "text/plain": [
              "XGBClassifier(base_score=None, booster=None, callbacks=None,\n",
              "              colsample_bylevel=None, colsample_bynode=None,\n",
              "              colsample_bytree=None, device=None, early_stopping_rounds=None,\n",
              "              enable_categorical=False, eval_metric=None, feature_types=None,\n",
              "              gamma=None, grow_policy=None, importance_type=None,\n",
              "              interaction_constraints=None, learning_rate=None, max_bin=None,\n",
              "              max_cat_threshold=None, max_cat_to_onehot=None,\n",
              "              max_delta_step=None, max_depth=None, max_leaves=None,\n",
              "              min_child_weight=None, missing=nan, monotone_constraints=None,\n",
              "              multi_strategy=None, n_estimators=None, n_jobs=None,\n",
              "              num_parallel_tree=None, random_state=None, ...)"
            ],
            "text/html": [
              "<style>#sk-container-id-8 {color: black;background-color: white;}#sk-container-id-8 pre{padding: 0;}#sk-container-id-8 div.sk-toggleable {background-color: white;}#sk-container-id-8 label.sk-toggleable__label {cursor: pointer;display: block;width: 100%;margin-bottom: 0;padding: 0.3em;box-sizing: border-box;text-align: center;}#sk-container-id-8 label.sk-toggleable__label-arrow:before {content: \"▸\";float: left;margin-right: 0.25em;color: #696969;}#sk-container-id-8 label.sk-toggleable__label-arrow:hover:before {color: black;}#sk-container-id-8 div.sk-estimator:hover label.sk-toggleable__label-arrow:before {color: black;}#sk-container-id-8 div.sk-toggleable__content {max-height: 0;max-width: 0;overflow: hidden;text-align: left;background-color: #f0f8ff;}#sk-container-id-8 div.sk-toggleable__content pre {margin: 0.2em;color: black;border-radius: 0.25em;background-color: #f0f8ff;}#sk-container-id-8 input.sk-toggleable__control:checked~div.sk-toggleable__content {max-height: 200px;max-width: 100%;overflow: auto;}#sk-container-id-8 input.sk-toggleable__control:checked~label.sk-toggleable__label-arrow:before {content: \"▾\";}#sk-container-id-8 div.sk-estimator input.sk-toggleable__control:checked~label.sk-toggleable__label {background-color: #d4ebff;}#sk-container-id-8 div.sk-label input.sk-toggleable__control:checked~label.sk-toggleable__label {background-color: #d4ebff;}#sk-container-id-8 input.sk-hidden--visually {border: 0;clip: rect(1px 1px 1px 1px);clip: rect(1px, 1px, 1px, 1px);height: 1px;margin: -1px;overflow: hidden;padding: 0;position: absolute;width: 1px;}#sk-container-id-8 div.sk-estimator {font-family: monospace;background-color: #f0f8ff;border: 1px dotted black;border-radius: 0.25em;box-sizing: border-box;margin-bottom: 0.5em;}#sk-container-id-8 div.sk-estimator:hover {background-color: #d4ebff;}#sk-container-id-8 div.sk-parallel-item::after {content: \"\";width: 100%;border-bottom: 1px solid gray;flex-grow: 1;}#sk-container-id-8 div.sk-label:hover label.sk-toggleable__label {background-color: #d4ebff;}#sk-container-id-8 div.sk-serial::before {content: \"\";position: absolute;border-left: 1px solid gray;box-sizing: border-box;top: 0;bottom: 0;left: 50%;z-index: 0;}#sk-container-id-8 div.sk-serial {display: flex;flex-direction: column;align-items: center;background-color: white;padding-right: 0.2em;padding-left: 0.2em;position: relative;}#sk-container-id-8 div.sk-item {position: relative;z-index: 1;}#sk-container-id-8 div.sk-parallel {display: flex;align-items: stretch;justify-content: center;background-color: white;position: relative;}#sk-container-id-8 div.sk-item::before, #sk-container-id-8 div.sk-parallel-item::before {content: \"\";position: absolute;border-left: 1px solid gray;box-sizing: border-box;top: 0;bottom: 0;left: 50%;z-index: -1;}#sk-container-id-8 div.sk-parallel-item {display: flex;flex-direction: column;z-index: 1;position: relative;background-color: white;}#sk-container-id-8 div.sk-parallel-item:first-child::after {align-self: flex-end;width: 50%;}#sk-container-id-8 div.sk-parallel-item:last-child::after {align-self: flex-start;width: 50%;}#sk-container-id-8 div.sk-parallel-item:only-child::after {width: 0;}#sk-container-id-8 div.sk-dashed-wrapped {border: 1px dashed gray;margin: 0 0.4em 0.5em 0.4em;box-sizing: border-box;padding-bottom: 0.4em;background-color: white;}#sk-container-id-8 div.sk-label label {font-family: monospace;font-weight: bold;display: inline-block;line-height: 1.2em;}#sk-container-id-8 div.sk-label-container {text-align: center;}#sk-container-id-8 div.sk-container {/* jupyter's `normalize.less` sets `[hidden] { display: none; }` but bootstrap.min.css set `[hidden] { display: none !important; }` so we also need the `!important` here to be able to override the default hidden behavior on the sphinx rendered scikit-learn.org. See: https://github.com/scikit-learn/scikit-learn/issues/21755 */display: inline-block !important;position: relative;}#sk-container-id-8 div.sk-text-repr-fallback {display: none;}</style><div id=\"sk-container-id-8\" class=\"sk-top-container\"><div class=\"sk-text-repr-fallback\"><pre>XGBClassifier(base_score=None, booster=None, callbacks=None,\n",
              "              colsample_bylevel=None, colsample_bynode=None,\n",
              "              colsample_bytree=None, device=None, early_stopping_rounds=None,\n",
              "              enable_categorical=False, eval_metric=None, feature_types=None,\n",
              "              gamma=None, grow_policy=None, importance_type=None,\n",
              "              interaction_constraints=None, learning_rate=None, max_bin=None,\n",
              "              max_cat_threshold=None, max_cat_to_onehot=None,\n",
              "              max_delta_step=None, max_depth=None, max_leaves=None,\n",
              "              min_child_weight=None, missing=nan, monotone_constraints=None,\n",
              "              multi_strategy=None, n_estimators=None, n_jobs=None,\n",
              "              num_parallel_tree=None, random_state=None, ...)</pre><b>In a Jupyter environment, please rerun this cell to show the HTML representation or trust the notebook. <br />On GitHub, the HTML representation is unable to render, please try loading this page with nbviewer.org.</b></div><div class=\"sk-container\" hidden><div class=\"sk-item\"><div class=\"sk-estimator sk-toggleable\"><input class=\"sk-toggleable__control sk-hidden--visually\" id=\"sk-estimator-id-8\" type=\"checkbox\" checked><label for=\"sk-estimator-id-8\" class=\"sk-toggleable__label sk-toggleable__label-arrow\">XGBClassifier</label><div class=\"sk-toggleable__content\"><pre>XGBClassifier(base_score=None, booster=None, callbacks=None,\n",
              "              colsample_bylevel=None, colsample_bynode=None,\n",
              "              colsample_bytree=None, device=None, early_stopping_rounds=None,\n",
              "              enable_categorical=False, eval_metric=None, feature_types=None,\n",
              "              gamma=None, grow_policy=None, importance_type=None,\n",
              "              interaction_constraints=None, learning_rate=None, max_bin=None,\n",
              "              max_cat_threshold=None, max_cat_to_onehot=None,\n",
              "              max_delta_step=None, max_depth=None, max_leaves=None,\n",
              "              min_child_weight=None, missing=nan, monotone_constraints=None,\n",
              "              multi_strategy=None, n_estimators=None, n_jobs=None,\n",
              "              num_parallel_tree=None, random_state=None, ...)</pre></div></div></div></div></div>"
            ]
          },
          "metadata": {},
          "execution_count": 446
        }
      ]
    },
    {
      "cell_type": "markdown",
      "source": [
        "```testing data```"
      ],
      "metadata": {
        "id": "wdffa3UixYPP"
      }
    },
    {
      "cell_type": "code",
      "source": [
        "test_data_set = test_data[[\n",
        "    'team_count_50runs_last15', 'team_winp_last5',\n",
        "    'team1only_avg_runs_last15', 'team1_winp_team2_last15',\n",
        "    'ground_avg_runs_last15', 'economy', 'bowling_strike_rate',\n",
        "    'bowling_average', 'boundary_rate', 'dot_ball_percent', 'extras',\n",
        "    'maiden_over_percent', 'strike_rate', 'batting_average',\n",
        "    'boundary_percent', 'overs_perform']]"
      ],
      "metadata": {
        "id": "KgSqOtRbxU7X"
      },
      "execution_count": null,
      "outputs": []
    },
    {
      "cell_type": "code",
      "source": [
        "pred_winner = xgb_finalclass_model.predict(test_data_set)\n",
        "pred_winner = pd.DataFrame(pred_winner)"
      ],
      "metadata": {
        "id": "tSC2BHS7xmqT"
      },
      "execution_count": null,
      "outputs": []
    },
    {
      "cell_type": "code",
      "source": [
        "pred_winner.info()"
      ],
      "metadata": {
        "colab": {
          "base_uri": "https://localhost:8080/"
        },
        "id": "FW1sReCIt69r",
        "outputId": "bf5d7459-9896-4717-e6b6-2eb6612df448"
      },
      "execution_count": null,
      "outputs": [
        {
          "output_type": "stream",
          "name": "stdout",
          "text": [
            "<class 'pandas.core.frame.DataFrame'>\n",
            "RangeIndex: 270 entries, 0 to 269\n",
            "Data columns (total 1 columns):\n",
            " #   Column  Non-Null Count  Dtype\n",
            "---  ------  --------------  -----\n",
            " 0   0       270 non-null    int64\n",
            "dtypes: int64(1)\n",
            "memory usage: 2.2 KB\n"
          ]
        }
      ]
    },
    {
      "cell_type": "code",
      "source": [
        "train_class.info()"
      ],
      "metadata": {
        "colab": {
          "base_uri": "https://localhost:8080/"
        },
        "id": "CqEEuf23uAAS",
        "outputId": "124aaa31-72d6-4090-c8ee-3586c7d545ba"
      },
      "execution_count": null,
      "outputs": [
        {
          "output_type": "stream",
          "name": "stdout",
          "text": [
            "<class 'pandas.core.frame.DataFrame'>\n",
            "RangeIndex: 948 entries, 0 to 947\n",
            "Data columns (total 16 columns):\n",
            " #   Column                     Non-Null Count  Dtype  \n",
            "---  ------                     --------------  -----  \n",
            " 0   team_count_50runs_last15   948 non-null    float64\n",
            " 1   team_winp_last5            948 non-null    float64\n",
            " 2   team1only_avg_runs_last15  948 non-null    float64\n",
            " 3   team1_winp_team2_last15    948 non-null    float64\n",
            " 4   ground_avg_runs_last15     948 non-null    float64\n",
            " 5   economy                    948 non-null    float64\n",
            " 6   bowling_strike_rate        332 non-null    float64\n",
            " 7   bowling_average            332 non-null    float64\n",
            " 8   boundary_rate              948 non-null    float64\n",
            " 9   dot_ball_percent           948 non-null    float64\n",
            " 10  extras                     948 non-null    float64\n",
            " 11  maiden_over_percent        948 non-null    float64\n",
            " 12  strike_rate                948 non-null    float64\n",
            " 13  batting_average            948 non-null    float64\n",
            " 14  boundary_percent           948 non-null    float64\n",
            " 15  overs_perform              948 non-null    float64\n",
            "dtypes: float64(16)\n",
            "memory usage: 118.6 KB\n"
          ]
        }
      ]
    },
    {
      "cell_type": "code",
      "source": [
        "train_class_winner.info()"
      ],
      "metadata": {
        "colab": {
          "base_uri": "https://localhost:8080/"
        },
        "id": "-vGC2VxPuDPg",
        "outputId": "05a451c3-4df2-4ed5-df72-8ecadcdff3b8"
      },
      "execution_count": null,
      "outputs": [
        {
          "output_type": "stream",
          "name": "stdout",
          "text": [
            "<class 'pandas.core.frame.DataFrame'>\n",
            "RangeIndex: 948 entries, 0 to 947\n",
            "Data columns (total 1 columns):\n",
            " #   Column     Non-Null Count  Dtype\n",
            "---  ------     --------------  -----\n",
            " 0   winner_id  948 non-null    int64\n",
            "dtypes: int64(1)\n",
            "memory usage: 7.5 KB\n"
          ]
        }
      ]
    },
    {
      "cell_type": "code",
      "source": [
        "test_data_set.info()"
      ],
      "metadata": {
        "colab": {
          "base_uri": "https://localhost:8080/"
        },
        "id": "fxRNYmOhuG9P",
        "outputId": "18ed53b0-b480-445e-8dbe-521627c67c20"
      },
      "execution_count": null,
      "outputs": [
        {
          "output_type": "stream",
          "name": "stdout",
          "text": [
            "<class 'pandas.core.frame.DataFrame'>\n",
            "RangeIndex: 270 entries, 0 to 269\n",
            "Data columns (total 16 columns):\n",
            " #   Column                     Non-Null Count  Dtype  \n",
            "---  ------                     --------------  -----  \n",
            " 0   team_count_50runs_last15   270 non-null    float64\n",
            " 1   team_winp_last5            270 non-null    float64\n",
            " 2   team1only_avg_runs_last15  270 non-null    float64\n",
            " 3   team1_winp_team2_last15    270 non-null    float64\n",
            " 4   ground_avg_runs_last15     270 non-null    float64\n",
            " 5   economy                    270 non-null    float64\n",
            " 6   bowling_strike_rate        85 non-null     float64\n",
            " 7   bowling_average            85 non-null     float64\n",
            " 8   boundary_rate              270 non-null    float64\n",
            " 9   dot_ball_percent           270 non-null    float64\n",
            " 10  extras                     270 non-null    float64\n",
            " 11  maiden_over_percent        270 non-null    float64\n",
            " 12  strike_rate                270 non-null    float64\n",
            " 13  batting_average            270 non-null    float64\n",
            " 14  boundary_percent           270 non-null    float64\n",
            " 15  overs_perform              270 non-null    float64\n",
            "dtypes: float64(16)\n",
            "memory usage: 33.9 KB\n"
          ]
        }
      ]
    },
    {
      "cell_type": "code",
      "source": [
        "sub_data = test_data[['match id','team1_id','team2_id','toss winner','toss decision']]"
      ],
      "metadata": {
        "id": "G-ZZF7efxxcb"
      },
      "execution_count": null,
      "outputs": []
    },
    {
      "cell_type": "code",
      "source": [
        "sub_data['pred_winner']= pred_winner"
      ],
      "metadata": {
        "colab": {
          "base_uri": "https://localhost:8080/"
        },
        "id": "YrOTegQCyG1T",
        "outputId": "a44f4965-024b-4210-8650-55183187543a"
      },
      "execution_count": null,
      "outputs": [
        {
          "output_type": "stream",
          "name": "stderr",
          "text": [
            "<ipython-input-454-dffe45b18bb0>:1: SettingWithCopyWarning: \n",
            "A value is trying to be set on a copy of a slice from a DataFrame.\n",
            "Try using .loc[row_indexer,col_indexer] = value instead\n",
            "\n",
            "See the caveats in the documentation: https://pandas.pydata.org/pandas-docs/stable/user_guide/indexing.html#returning-a-view-versus-a-copy\n",
            "  sub_data['pred_winner']= pred_winner\n"
          ]
        }
      ]
    },
    {
      "cell_type": "code",
      "source": [
        "sub_data.head()"
      ],
      "metadata": {
        "colab": {
          "base_uri": "https://localhost:8080/",
          "height": 206
        },
        "id": "mPn3ccFQyOV3",
        "outputId": "eefa081d-b950-4ed1-b39b-895f07909ba2"
      },
      "execution_count": null,
      "outputs": [
        {
          "output_type": "execute_result",
          "data": {
            "text/plain": [
              "   match id  team1_id  team2_id  toss winner  toss decision  pred_winner\n",
              "0   9250275     28594        90           90              0            1\n",
              "1   9262189     36084     36098        36098              0            1\n",
              "2   9128776     30428     48334        30428              1            0\n",
              "3   9586919     36098     36112        36112              0            0\n",
              "4   9128538     30414     48341        48341              0            0"
            ],
            "text/html": [
              "\n",
              "  <div id=\"df-013c31b5-3fad-447a-bd03-1a083548b969\" class=\"colab-df-container\">\n",
              "    <div>\n",
              "<style scoped>\n",
              "    .dataframe tbody tr th:only-of-type {\n",
              "        vertical-align: middle;\n",
              "    }\n",
              "\n",
              "    .dataframe tbody tr th {\n",
              "        vertical-align: top;\n",
              "    }\n",
              "\n",
              "    .dataframe thead th {\n",
              "        text-align: right;\n",
              "    }\n",
              "</style>\n",
              "<table border=\"1\" class=\"dataframe\">\n",
              "  <thead>\n",
              "    <tr style=\"text-align: right;\">\n",
              "      <th></th>\n",
              "      <th>match id</th>\n",
              "      <th>team1_id</th>\n",
              "      <th>team2_id</th>\n",
              "      <th>toss winner</th>\n",
              "      <th>toss decision</th>\n",
              "      <th>pred_winner</th>\n",
              "    </tr>\n",
              "  </thead>\n",
              "  <tbody>\n",
              "    <tr>\n",
              "      <th>0</th>\n",
              "      <td>9250275</td>\n",
              "      <td>28594</td>\n",
              "      <td>90</td>\n",
              "      <td>90</td>\n",
              "      <td>0</td>\n",
              "      <td>1</td>\n",
              "    </tr>\n",
              "    <tr>\n",
              "      <th>1</th>\n",
              "      <td>9262189</td>\n",
              "      <td>36084</td>\n",
              "      <td>36098</td>\n",
              "      <td>36098</td>\n",
              "      <td>0</td>\n",
              "      <td>1</td>\n",
              "    </tr>\n",
              "    <tr>\n",
              "      <th>2</th>\n",
              "      <td>9128776</td>\n",
              "      <td>30428</td>\n",
              "      <td>48334</td>\n",
              "      <td>30428</td>\n",
              "      <td>1</td>\n",
              "      <td>0</td>\n",
              "    </tr>\n",
              "    <tr>\n",
              "      <th>3</th>\n",
              "      <td>9586919</td>\n",
              "      <td>36098</td>\n",
              "      <td>36112</td>\n",
              "      <td>36112</td>\n",
              "      <td>0</td>\n",
              "      <td>0</td>\n",
              "    </tr>\n",
              "    <tr>\n",
              "      <th>4</th>\n",
              "      <td>9128538</td>\n",
              "      <td>30414</td>\n",
              "      <td>48341</td>\n",
              "      <td>48341</td>\n",
              "      <td>0</td>\n",
              "      <td>0</td>\n",
              "    </tr>\n",
              "  </tbody>\n",
              "</table>\n",
              "</div>\n",
              "    <div class=\"colab-df-buttons\">\n",
              "\n",
              "  <div class=\"colab-df-container\">\n",
              "    <button class=\"colab-df-convert\" onclick=\"convertToInteractive('df-013c31b5-3fad-447a-bd03-1a083548b969')\"\n",
              "            title=\"Convert this dataframe to an interactive table.\"\n",
              "            style=\"display:none;\">\n",
              "\n",
              "  <svg xmlns=\"http://www.w3.org/2000/svg\" height=\"24px\" viewBox=\"0 -960 960 960\">\n",
              "    <path d=\"M120-120v-720h720v720H120Zm60-500h600v-160H180v160Zm220 220h160v-160H400v160Zm0 220h160v-160H400v160ZM180-400h160v-160H180v160Zm440 0h160v-160H620v160ZM180-180h160v-160H180v160Zm440 0h160v-160H620v160Z\"/>\n",
              "  </svg>\n",
              "    </button>\n",
              "\n",
              "  <style>\n",
              "    .colab-df-container {\n",
              "      display:flex;\n",
              "      gap: 12px;\n",
              "    }\n",
              "\n",
              "    .colab-df-convert {\n",
              "      background-color: #E8F0FE;\n",
              "      border: none;\n",
              "      border-radius: 50%;\n",
              "      cursor: pointer;\n",
              "      display: none;\n",
              "      fill: #1967D2;\n",
              "      height: 32px;\n",
              "      padding: 0 0 0 0;\n",
              "      width: 32px;\n",
              "    }\n",
              "\n",
              "    .colab-df-convert:hover {\n",
              "      background-color: #E2EBFA;\n",
              "      box-shadow: 0px 1px 2px rgba(60, 64, 67, 0.3), 0px 1px 3px 1px rgba(60, 64, 67, 0.15);\n",
              "      fill: #174EA6;\n",
              "    }\n",
              "\n",
              "    .colab-df-buttons div {\n",
              "      margin-bottom: 4px;\n",
              "    }\n",
              "\n",
              "    [theme=dark] .colab-df-convert {\n",
              "      background-color: #3B4455;\n",
              "      fill: #D2E3FC;\n",
              "    }\n",
              "\n",
              "    [theme=dark] .colab-df-convert:hover {\n",
              "      background-color: #434B5C;\n",
              "      box-shadow: 0px 1px 3px 1px rgba(0, 0, 0, 0.15);\n",
              "      filter: drop-shadow(0px 1px 2px rgba(0, 0, 0, 0.3));\n",
              "      fill: #FFFFFF;\n",
              "    }\n",
              "  </style>\n",
              "\n",
              "    <script>\n",
              "      const buttonEl =\n",
              "        document.querySelector('#df-013c31b5-3fad-447a-bd03-1a083548b969 button.colab-df-convert');\n",
              "      buttonEl.style.display =\n",
              "        google.colab.kernel.accessAllowed ? 'block' : 'none';\n",
              "\n",
              "      async function convertToInteractive(key) {\n",
              "        const element = document.querySelector('#df-013c31b5-3fad-447a-bd03-1a083548b969');\n",
              "        const dataTable =\n",
              "          await google.colab.kernel.invokeFunction('convertToInteractive',\n",
              "                                                    [key], {});\n",
              "        if (!dataTable) return;\n",
              "\n",
              "        const docLinkHtml = 'Like what you see? Visit the ' +\n",
              "          '<a target=\"_blank\" href=https://colab.research.google.com/notebooks/data_table.ipynb>data table notebook</a>'\n",
              "          + ' to learn more about interactive tables.';\n",
              "        element.innerHTML = '';\n",
              "        dataTable['output_type'] = 'display_data';\n",
              "        await google.colab.output.renderOutput(dataTable, element);\n",
              "        const docLink = document.createElement('div');\n",
              "        docLink.innerHTML = docLinkHtml;\n",
              "        element.appendChild(docLink);\n",
              "      }\n",
              "    </script>\n",
              "  </div>\n",
              "\n",
              "\n",
              "<div id=\"df-473946de-8c10-43c2-ac3a-015eed174c13\">\n",
              "  <button class=\"colab-df-quickchart\" onclick=\"quickchart('df-473946de-8c10-43c2-ac3a-015eed174c13')\"\n",
              "            title=\"Suggest charts\"\n",
              "            style=\"display:none;\">\n",
              "\n",
              "<svg xmlns=\"http://www.w3.org/2000/svg\" height=\"24px\"viewBox=\"0 0 24 24\"\n",
              "     width=\"24px\">\n",
              "    <g>\n",
              "        <path d=\"M19 3H5c-1.1 0-2 .9-2 2v14c0 1.1.9 2 2 2h14c1.1 0 2-.9 2-2V5c0-1.1-.9-2-2-2zM9 17H7v-7h2v7zm4 0h-2V7h2v10zm4 0h-2v-4h2v4z\"/>\n",
              "    </g>\n",
              "</svg>\n",
              "  </button>\n",
              "\n",
              "<style>\n",
              "  .colab-df-quickchart {\n",
              "      --bg-color: #E8F0FE;\n",
              "      --fill-color: #1967D2;\n",
              "      --hover-bg-color: #E2EBFA;\n",
              "      --hover-fill-color: #174EA6;\n",
              "      --disabled-fill-color: #AAA;\n",
              "      --disabled-bg-color: #DDD;\n",
              "  }\n",
              "\n",
              "  [theme=dark] .colab-df-quickchart {\n",
              "      --bg-color: #3B4455;\n",
              "      --fill-color: #D2E3FC;\n",
              "      --hover-bg-color: #434B5C;\n",
              "      --hover-fill-color: #FFFFFF;\n",
              "      --disabled-bg-color: #3B4455;\n",
              "      --disabled-fill-color: #666;\n",
              "  }\n",
              "\n",
              "  .colab-df-quickchart {\n",
              "    background-color: var(--bg-color);\n",
              "    border: none;\n",
              "    border-radius: 50%;\n",
              "    cursor: pointer;\n",
              "    display: none;\n",
              "    fill: var(--fill-color);\n",
              "    height: 32px;\n",
              "    padding: 0;\n",
              "    width: 32px;\n",
              "  }\n",
              "\n",
              "  .colab-df-quickchart:hover {\n",
              "    background-color: var(--hover-bg-color);\n",
              "    box-shadow: 0 1px 2px rgba(60, 64, 67, 0.3), 0 1px 3px 1px rgba(60, 64, 67, 0.15);\n",
              "    fill: var(--button-hover-fill-color);\n",
              "  }\n",
              "\n",
              "  .colab-df-quickchart-complete:disabled,\n",
              "  .colab-df-quickchart-complete:disabled:hover {\n",
              "    background-color: var(--disabled-bg-color);\n",
              "    fill: var(--disabled-fill-color);\n",
              "    box-shadow: none;\n",
              "  }\n",
              "\n",
              "  .colab-df-spinner {\n",
              "    border: 2px solid var(--fill-color);\n",
              "    border-color: transparent;\n",
              "    border-bottom-color: var(--fill-color);\n",
              "    animation:\n",
              "      spin 1s steps(1) infinite;\n",
              "  }\n",
              "\n",
              "  @keyframes spin {\n",
              "    0% {\n",
              "      border-color: transparent;\n",
              "      border-bottom-color: var(--fill-color);\n",
              "      border-left-color: var(--fill-color);\n",
              "    }\n",
              "    20% {\n",
              "      border-color: transparent;\n",
              "      border-left-color: var(--fill-color);\n",
              "      border-top-color: var(--fill-color);\n",
              "    }\n",
              "    30% {\n",
              "      border-color: transparent;\n",
              "      border-left-color: var(--fill-color);\n",
              "      border-top-color: var(--fill-color);\n",
              "      border-right-color: var(--fill-color);\n",
              "    }\n",
              "    40% {\n",
              "      border-color: transparent;\n",
              "      border-right-color: var(--fill-color);\n",
              "      border-top-color: var(--fill-color);\n",
              "    }\n",
              "    60% {\n",
              "      border-color: transparent;\n",
              "      border-right-color: var(--fill-color);\n",
              "    }\n",
              "    80% {\n",
              "      border-color: transparent;\n",
              "      border-right-color: var(--fill-color);\n",
              "      border-bottom-color: var(--fill-color);\n",
              "    }\n",
              "    90% {\n",
              "      border-color: transparent;\n",
              "      border-bottom-color: var(--fill-color);\n",
              "    }\n",
              "  }\n",
              "</style>\n",
              "\n",
              "  <script>\n",
              "    async function quickchart(key) {\n",
              "      const quickchartButtonEl =\n",
              "        document.querySelector('#' + key + ' button');\n",
              "      quickchartButtonEl.disabled = true;  // To prevent multiple clicks.\n",
              "      quickchartButtonEl.classList.add('colab-df-spinner');\n",
              "      try {\n",
              "        const charts = await google.colab.kernel.invokeFunction(\n",
              "            'suggestCharts', [key], {});\n",
              "      } catch (error) {\n",
              "        console.error('Error during call to suggestCharts:', error);\n",
              "      }\n",
              "      quickchartButtonEl.classList.remove('colab-df-spinner');\n",
              "      quickchartButtonEl.classList.add('colab-df-quickchart-complete');\n",
              "    }\n",
              "    (() => {\n",
              "      let quickchartButtonEl =\n",
              "        document.querySelector('#df-473946de-8c10-43c2-ac3a-015eed174c13 button');\n",
              "      quickchartButtonEl.style.display =\n",
              "        google.colab.kernel.accessAllowed ? 'block' : 'none';\n",
              "    })();\n",
              "  </script>\n",
              "</div>\n",
              "\n",
              "    </div>\n",
              "  </div>\n"
            ],
            "application/vnd.google.colaboratory.intrinsic+json": {
              "type": "dataframe",
              "variable_name": "sub_data",
              "summary": "{\n  \"name\": \"sub_data\",\n  \"rows\": 270,\n  \"fields\": [\n    {\n      \"column\": \"match id\",\n      \"properties\": {\n        \"dtype\": \"number\",\n        \"std\": 217183,\n        \"min\": 8844338,\n        \"max\": 9849650,\n        \"num_unique_values\": 270,\n        \"samples\": [\n          9087147,\n          9457608,\n          9516779\n        ],\n        \"semantic_type\": \"\",\n        \"description\": \"\"\n      }\n    },\n    {\n      \"column\": \"team1_id\",\n      \"properties\": {\n        \"dtype\": \"number\",\n        \"std\": 17606,\n        \"min\": 20,\n        \"max\": 49657,\n        \"num_unique_values\": 113,\n        \"samples\": [\n          40592,\n          30414,\n          40578\n        ],\n        \"semantic_type\": \"\",\n        \"description\": \"\"\n      }\n    },\n    {\n      \"column\": \"team2_id\",\n      \"properties\": {\n        \"dtype\": \"number\",\n        \"std\": 17751,\n        \"min\": 20,\n        \"max\": 49657,\n        \"num_unique_values\": 115,\n        \"samples\": [\n          223,\n          48341,\n          12473\n        ],\n        \"semantic_type\": \"\",\n        \"description\": \"\"\n      }\n    },\n    {\n      \"column\": \"toss winner\",\n      \"properties\": {\n        \"dtype\": \"number\",\n        \"std\": 17689,\n        \"min\": 20,\n        \"max\": 49650,\n        \"num_unique_values\": 113,\n        \"samples\": [\n          23841,\n          48341,\n          40578\n        ],\n        \"semantic_type\": \"\",\n        \"description\": \"\"\n      }\n    },\n    {\n      \"column\": \"toss decision\",\n      \"properties\": {\n        \"dtype\": \"number\",\n        \"std\": 0,\n        \"min\": 0,\n        \"max\": 1,\n        \"num_unique_values\": 2,\n        \"samples\": [\n          1,\n          0\n        ],\n        \"semantic_type\": \"\",\n        \"description\": \"\"\n      }\n    },\n    {\n      \"column\": \"pred_winner\",\n      \"properties\": {\n        \"dtype\": \"number\",\n        \"std\": 0,\n        \"min\": 0,\n        \"max\": 1,\n        \"num_unique_values\": 2,\n        \"samples\": [\n          0,\n          1\n        ],\n        \"semantic_type\": \"\",\n        \"description\": \"\"\n      }\n    }\n  ]\n}"
            }
          },
          "metadata": {},
          "execution_count": 455
        }
      ]
    },
    {
      "cell_type": "code",
      "source": [
        "sub_data['winner_id'] = sub_data.apply(lambda row: row['team1_id'] if row['pred_winner'] == 0 else row['team2_id'], axis=1)"
      ],
      "metadata": {
        "colab": {
          "base_uri": "https://localhost:8080/"
        },
        "id": "hEsXjr2syR8v",
        "outputId": "a46f8fd9-899f-445e-9a2b-a3fe558420d4"
      },
      "execution_count": null,
      "outputs": [
        {
          "output_type": "stream",
          "name": "stderr",
          "text": [
            "<ipython-input-456-a9a5ab42c329>:1: SettingWithCopyWarning: \n",
            "A value is trying to be set on a copy of a slice from a DataFrame.\n",
            "Try using .loc[row_indexer,col_indexer] = value instead\n",
            "\n",
            "See the caveats in the documentation: https://pandas.pydata.org/pandas-docs/stable/user_guide/indexing.html#returning-a-view-versus-a-copy\n",
            "  sub_data['winner_id'] = sub_data.apply(lambda row: row['team1_id'] if row['pred_winner'] == 0 else row['team2_id'], axis=1)\n"
          ]
        }
      ]
    },
    {
      "cell_type": "code",
      "source": [
        "train_data.info()"
      ],
      "metadata": {
        "colab": {
          "base_uri": "https://localhost:8080/"
        },
        "id": "dLFY4r7xyyx-",
        "outputId": "16b6661d-8490-400d-b0ba-57f0ad438f99"
      },
      "execution_count": null,
      "outputs": [
        {
          "output_type": "stream",
          "name": "stdout",
          "text": [
            "<class 'pandas.core.frame.DataFrame'>\n",
            "RangeIndex: 948 entries, 0 to 947\n",
            "Data columns (total 22 columns):\n",
            " #   Column                     Non-Null Count  Dtype  \n",
            "---  ------                     --------------  -----  \n",
            " 0   match id                   948 non-null    int64  \n",
            " 1   team1_id                   948 non-null    int64  \n",
            " 2   team2_id                   948 non-null    int64  \n",
            " 3   winner_id                  948 non-null    int64  \n",
            " 4   toss winner                948 non-null    int64  \n",
            " 5   toss decision              948 non-null    int64  \n",
            " 6   team_count_50runs_last15   948 non-null    float64\n",
            " 7   team_winp_last5            948 non-null    float64\n",
            " 8   team1only_avg_runs_last15  948 non-null    float64\n",
            " 9   team1_winp_team2_last15    948 non-null    float64\n",
            " 10  ground_avg_runs_last15     948 non-null    float64\n",
            " 11  economy                    948 non-null    float64\n",
            " 12  bowling_strike_rate        332 non-null    float64\n",
            " 13  bowling_average            332 non-null    float64\n",
            " 14  boundary_rate              948 non-null    float64\n",
            " 15  dot_ball_percent           948 non-null    float64\n",
            " 16  extras                     948 non-null    float64\n",
            " 17  maiden_over_percent        948 non-null    float64\n",
            " 18  strike_rate                948 non-null    float64\n",
            " 19  batting_average            948 non-null    float64\n",
            " 20  boundary_percent           948 non-null    float64\n",
            " 21  overs_perform              948 non-null    float64\n",
            "dtypes: float64(16), int64(6)\n",
            "memory usage: 163.1 KB\n"
          ]
        }
      ]
    },
    {
      "cell_type": "code",
      "source": [
        "train_data['winner'] = train_data.apply(lambda row: row['team1_id'] if row['winner_id'] == 0 else row['team2_id'], axis=1)"
      ],
      "metadata": {
        "id": "tYph9TB2yo5V"
      },
      "execution_count": null,
      "outputs": []
    },
    {
      "cell_type": "code",
      "source": [
        "train_data = train_data.drop(columns=['winner_id'])"
      ],
      "metadata": {
        "id": "ZqvuQ_bc1D4s"
      },
      "execution_count": null,
      "outputs": []
    },
    {
      "cell_type": "code",
      "source": [
        "train_data.rename(columns={'winner': 'winner_id'}, inplace=True)"
      ],
      "metadata": {
        "id": "aqAKoNmby_Wv"
      },
      "execution_count": null,
      "outputs": []
    },
    {
      "cell_type": "code",
      "source": [
        "sub_data.head()"
      ],
      "metadata": {
        "colab": {
          "base_uri": "https://localhost:8080/",
          "height": 206
        },
        "id": "Cb3Z_Fav0qsM",
        "outputId": "5184a3bc-89c0-4df9-a1bd-24f42552d115"
      },
      "execution_count": null,
      "outputs": [
        {
          "output_type": "execute_result",
          "data": {
            "text/plain": [
              "   match id  team1_id  team2_id  toss winner  toss decision  pred_winner  \\\n",
              "0   9250275     28594        90           90              0            1   \n",
              "1   9262189     36084     36098        36098              0            1   \n",
              "2   9128776     30428     48334        30428              1            0   \n",
              "3   9586919     36098     36112        36112              0            0   \n",
              "4   9128538     30414     48341        48341              0            0   \n",
              "\n",
              "   winner_id  \n",
              "0         90  \n",
              "1      36098  \n",
              "2      30428  \n",
              "3      36098  \n",
              "4      30414  "
            ],
            "text/html": [
              "\n",
              "  <div id=\"df-eb3aab81-3111-498c-88f6-152625508f76\" class=\"colab-df-container\">\n",
              "    <div>\n",
              "<style scoped>\n",
              "    .dataframe tbody tr th:only-of-type {\n",
              "        vertical-align: middle;\n",
              "    }\n",
              "\n",
              "    .dataframe tbody tr th {\n",
              "        vertical-align: top;\n",
              "    }\n",
              "\n",
              "    .dataframe thead th {\n",
              "        text-align: right;\n",
              "    }\n",
              "</style>\n",
              "<table border=\"1\" class=\"dataframe\">\n",
              "  <thead>\n",
              "    <tr style=\"text-align: right;\">\n",
              "      <th></th>\n",
              "      <th>match id</th>\n",
              "      <th>team1_id</th>\n",
              "      <th>team2_id</th>\n",
              "      <th>toss winner</th>\n",
              "      <th>toss decision</th>\n",
              "      <th>pred_winner</th>\n",
              "      <th>winner_id</th>\n",
              "    </tr>\n",
              "  </thead>\n",
              "  <tbody>\n",
              "    <tr>\n",
              "      <th>0</th>\n",
              "      <td>9250275</td>\n",
              "      <td>28594</td>\n",
              "      <td>90</td>\n",
              "      <td>90</td>\n",
              "      <td>0</td>\n",
              "      <td>1</td>\n",
              "      <td>90</td>\n",
              "    </tr>\n",
              "    <tr>\n",
              "      <th>1</th>\n",
              "      <td>9262189</td>\n",
              "      <td>36084</td>\n",
              "      <td>36098</td>\n",
              "      <td>36098</td>\n",
              "      <td>0</td>\n",
              "      <td>1</td>\n",
              "      <td>36098</td>\n",
              "    </tr>\n",
              "    <tr>\n",
              "      <th>2</th>\n",
              "      <td>9128776</td>\n",
              "      <td>30428</td>\n",
              "      <td>48334</td>\n",
              "      <td>30428</td>\n",
              "      <td>1</td>\n",
              "      <td>0</td>\n",
              "      <td>30428</td>\n",
              "    </tr>\n",
              "    <tr>\n",
              "      <th>3</th>\n",
              "      <td>9586919</td>\n",
              "      <td>36098</td>\n",
              "      <td>36112</td>\n",
              "      <td>36112</td>\n",
              "      <td>0</td>\n",
              "      <td>0</td>\n",
              "      <td>36098</td>\n",
              "    </tr>\n",
              "    <tr>\n",
              "      <th>4</th>\n",
              "      <td>9128538</td>\n",
              "      <td>30414</td>\n",
              "      <td>48341</td>\n",
              "      <td>48341</td>\n",
              "      <td>0</td>\n",
              "      <td>0</td>\n",
              "      <td>30414</td>\n",
              "    </tr>\n",
              "  </tbody>\n",
              "</table>\n",
              "</div>\n",
              "    <div class=\"colab-df-buttons\">\n",
              "\n",
              "  <div class=\"colab-df-container\">\n",
              "    <button class=\"colab-df-convert\" onclick=\"convertToInteractive('df-eb3aab81-3111-498c-88f6-152625508f76')\"\n",
              "            title=\"Convert this dataframe to an interactive table.\"\n",
              "            style=\"display:none;\">\n",
              "\n",
              "  <svg xmlns=\"http://www.w3.org/2000/svg\" height=\"24px\" viewBox=\"0 -960 960 960\">\n",
              "    <path d=\"M120-120v-720h720v720H120Zm60-500h600v-160H180v160Zm220 220h160v-160H400v160Zm0 220h160v-160H400v160ZM180-400h160v-160H180v160Zm440 0h160v-160H620v160ZM180-180h160v-160H180v160Zm440 0h160v-160H620v160Z\"/>\n",
              "  </svg>\n",
              "    </button>\n",
              "\n",
              "  <style>\n",
              "    .colab-df-container {\n",
              "      display:flex;\n",
              "      gap: 12px;\n",
              "    }\n",
              "\n",
              "    .colab-df-convert {\n",
              "      background-color: #E8F0FE;\n",
              "      border: none;\n",
              "      border-radius: 50%;\n",
              "      cursor: pointer;\n",
              "      display: none;\n",
              "      fill: #1967D2;\n",
              "      height: 32px;\n",
              "      padding: 0 0 0 0;\n",
              "      width: 32px;\n",
              "    }\n",
              "\n",
              "    .colab-df-convert:hover {\n",
              "      background-color: #E2EBFA;\n",
              "      box-shadow: 0px 1px 2px rgba(60, 64, 67, 0.3), 0px 1px 3px 1px rgba(60, 64, 67, 0.15);\n",
              "      fill: #174EA6;\n",
              "    }\n",
              "\n",
              "    .colab-df-buttons div {\n",
              "      margin-bottom: 4px;\n",
              "    }\n",
              "\n",
              "    [theme=dark] .colab-df-convert {\n",
              "      background-color: #3B4455;\n",
              "      fill: #D2E3FC;\n",
              "    }\n",
              "\n",
              "    [theme=dark] .colab-df-convert:hover {\n",
              "      background-color: #434B5C;\n",
              "      box-shadow: 0px 1px 3px 1px rgba(0, 0, 0, 0.15);\n",
              "      filter: drop-shadow(0px 1px 2px rgba(0, 0, 0, 0.3));\n",
              "      fill: #FFFFFF;\n",
              "    }\n",
              "  </style>\n",
              "\n",
              "    <script>\n",
              "      const buttonEl =\n",
              "        document.querySelector('#df-eb3aab81-3111-498c-88f6-152625508f76 button.colab-df-convert');\n",
              "      buttonEl.style.display =\n",
              "        google.colab.kernel.accessAllowed ? 'block' : 'none';\n",
              "\n",
              "      async function convertToInteractive(key) {\n",
              "        const element = document.querySelector('#df-eb3aab81-3111-498c-88f6-152625508f76');\n",
              "        const dataTable =\n",
              "          await google.colab.kernel.invokeFunction('convertToInteractive',\n",
              "                                                    [key], {});\n",
              "        if (!dataTable) return;\n",
              "\n",
              "        const docLinkHtml = 'Like what you see? Visit the ' +\n",
              "          '<a target=\"_blank\" href=https://colab.research.google.com/notebooks/data_table.ipynb>data table notebook</a>'\n",
              "          + ' to learn more about interactive tables.';\n",
              "        element.innerHTML = '';\n",
              "        dataTable['output_type'] = 'display_data';\n",
              "        await google.colab.output.renderOutput(dataTable, element);\n",
              "        const docLink = document.createElement('div');\n",
              "        docLink.innerHTML = docLinkHtml;\n",
              "        element.appendChild(docLink);\n",
              "      }\n",
              "    </script>\n",
              "  </div>\n",
              "\n",
              "\n",
              "<div id=\"df-ec28ebb1-e2d7-4a54-b36b-6cbc5d0ece60\">\n",
              "  <button class=\"colab-df-quickchart\" onclick=\"quickchart('df-ec28ebb1-e2d7-4a54-b36b-6cbc5d0ece60')\"\n",
              "            title=\"Suggest charts\"\n",
              "            style=\"display:none;\">\n",
              "\n",
              "<svg xmlns=\"http://www.w3.org/2000/svg\" height=\"24px\"viewBox=\"0 0 24 24\"\n",
              "     width=\"24px\">\n",
              "    <g>\n",
              "        <path d=\"M19 3H5c-1.1 0-2 .9-2 2v14c0 1.1.9 2 2 2h14c1.1 0 2-.9 2-2V5c0-1.1-.9-2-2-2zM9 17H7v-7h2v7zm4 0h-2V7h2v10zm4 0h-2v-4h2v4z\"/>\n",
              "    </g>\n",
              "</svg>\n",
              "  </button>\n",
              "\n",
              "<style>\n",
              "  .colab-df-quickchart {\n",
              "      --bg-color: #E8F0FE;\n",
              "      --fill-color: #1967D2;\n",
              "      --hover-bg-color: #E2EBFA;\n",
              "      --hover-fill-color: #174EA6;\n",
              "      --disabled-fill-color: #AAA;\n",
              "      --disabled-bg-color: #DDD;\n",
              "  }\n",
              "\n",
              "  [theme=dark] .colab-df-quickchart {\n",
              "      --bg-color: #3B4455;\n",
              "      --fill-color: #D2E3FC;\n",
              "      --hover-bg-color: #434B5C;\n",
              "      --hover-fill-color: #FFFFFF;\n",
              "      --disabled-bg-color: #3B4455;\n",
              "      --disabled-fill-color: #666;\n",
              "  }\n",
              "\n",
              "  .colab-df-quickchart {\n",
              "    background-color: var(--bg-color);\n",
              "    border: none;\n",
              "    border-radius: 50%;\n",
              "    cursor: pointer;\n",
              "    display: none;\n",
              "    fill: var(--fill-color);\n",
              "    height: 32px;\n",
              "    padding: 0;\n",
              "    width: 32px;\n",
              "  }\n",
              "\n",
              "  .colab-df-quickchart:hover {\n",
              "    background-color: var(--hover-bg-color);\n",
              "    box-shadow: 0 1px 2px rgba(60, 64, 67, 0.3), 0 1px 3px 1px rgba(60, 64, 67, 0.15);\n",
              "    fill: var(--button-hover-fill-color);\n",
              "  }\n",
              "\n",
              "  .colab-df-quickchart-complete:disabled,\n",
              "  .colab-df-quickchart-complete:disabled:hover {\n",
              "    background-color: var(--disabled-bg-color);\n",
              "    fill: var(--disabled-fill-color);\n",
              "    box-shadow: none;\n",
              "  }\n",
              "\n",
              "  .colab-df-spinner {\n",
              "    border: 2px solid var(--fill-color);\n",
              "    border-color: transparent;\n",
              "    border-bottom-color: var(--fill-color);\n",
              "    animation:\n",
              "      spin 1s steps(1) infinite;\n",
              "  }\n",
              "\n",
              "  @keyframes spin {\n",
              "    0% {\n",
              "      border-color: transparent;\n",
              "      border-bottom-color: var(--fill-color);\n",
              "      border-left-color: var(--fill-color);\n",
              "    }\n",
              "    20% {\n",
              "      border-color: transparent;\n",
              "      border-left-color: var(--fill-color);\n",
              "      border-top-color: var(--fill-color);\n",
              "    }\n",
              "    30% {\n",
              "      border-color: transparent;\n",
              "      border-left-color: var(--fill-color);\n",
              "      border-top-color: var(--fill-color);\n",
              "      border-right-color: var(--fill-color);\n",
              "    }\n",
              "    40% {\n",
              "      border-color: transparent;\n",
              "      border-right-color: var(--fill-color);\n",
              "      border-top-color: var(--fill-color);\n",
              "    }\n",
              "    60% {\n",
              "      border-color: transparent;\n",
              "      border-right-color: var(--fill-color);\n",
              "    }\n",
              "    80% {\n",
              "      border-color: transparent;\n",
              "      border-right-color: var(--fill-color);\n",
              "      border-bottom-color: var(--fill-color);\n",
              "    }\n",
              "    90% {\n",
              "      border-color: transparent;\n",
              "      border-bottom-color: var(--fill-color);\n",
              "    }\n",
              "  }\n",
              "</style>\n",
              "\n",
              "  <script>\n",
              "    async function quickchart(key) {\n",
              "      const quickchartButtonEl =\n",
              "        document.querySelector('#' + key + ' button');\n",
              "      quickchartButtonEl.disabled = true;  // To prevent multiple clicks.\n",
              "      quickchartButtonEl.classList.add('colab-df-spinner');\n",
              "      try {\n",
              "        const charts = await google.colab.kernel.invokeFunction(\n",
              "            'suggestCharts', [key], {});\n",
              "      } catch (error) {\n",
              "        console.error('Error during call to suggestCharts:', error);\n",
              "      }\n",
              "      quickchartButtonEl.classList.remove('colab-df-spinner');\n",
              "      quickchartButtonEl.classList.add('colab-df-quickchart-complete');\n",
              "    }\n",
              "    (() => {\n",
              "      let quickchartButtonEl =\n",
              "        document.querySelector('#df-ec28ebb1-e2d7-4a54-b36b-6cbc5d0ece60 button');\n",
              "      quickchartButtonEl.style.display =\n",
              "        google.colab.kernel.accessAllowed ? 'block' : 'none';\n",
              "    })();\n",
              "  </script>\n",
              "</div>\n",
              "\n",
              "    </div>\n",
              "  </div>\n"
            ],
            "application/vnd.google.colaboratory.intrinsic+json": {
              "type": "dataframe",
              "variable_name": "sub_data",
              "summary": "{\n  \"name\": \"sub_data\",\n  \"rows\": 270,\n  \"fields\": [\n    {\n      \"column\": \"match id\",\n      \"properties\": {\n        \"dtype\": \"number\",\n        \"std\": 217183,\n        \"min\": 8844338,\n        \"max\": 9849650,\n        \"num_unique_values\": 270,\n        \"samples\": [\n          9087147,\n          9457608,\n          9516779\n        ],\n        \"semantic_type\": \"\",\n        \"description\": \"\"\n      }\n    },\n    {\n      \"column\": \"team1_id\",\n      \"properties\": {\n        \"dtype\": \"number\",\n        \"std\": 17606,\n        \"min\": 20,\n        \"max\": 49657,\n        \"num_unique_values\": 113,\n        \"samples\": [\n          40592,\n          30414,\n          40578\n        ],\n        \"semantic_type\": \"\",\n        \"description\": \"\"\n      }\n    },\n    {\n      \"column\": \"team2_id\",\n      \"properties\": {\n        \"dtype\": \"number\",\n        \"std\": 17751,\n        \"min\": 20,\n        \"max\": 49657,\n        \"num_unique_values\": 115,\n        \"samples\": [\n          223,\n          48341,\n          12473\n        ],\n        \"semantic_type\": \"\",\n        \"description\": \"\"\n      }\n    },\n    {\n      \"column\": \"toss winner\",\n      \"properties\": {\n        \"dtype\": \"number\",\n        \"std\": 17689,\n        \"min\": 20,\n        \"max\": 49650,\n        \"num_unique_values\": 113,\n        \"samples\": [\n          23841,\n          48341,\n          40578\n        ],\n        \"semantic_type\": \"\",\n        \"description\": \"\"\n      }\n    },\n    {\n      \"column\": \"toss decision\",\n      \"properties\": {\n        \"dtype\": \"number\",\n        \"std\": 0,\n        \"min\": 0,\n        \"max\": 1,\n        \"num_unique_values\": 2,\n        \"samples\": [\n          1,\n          0\n        ],\n        \"semantic_type\": \"\",\n        \"description\": \"\"\n      }\n    },\n    {\n      \"column\": \"pred_winner\",\n      \"properties\": {\n        \"dtype\": \"number\",\n        \"std\": 0,\n        \"min\": 0,\n        \"max\": 1,\n        \"num_unique_values\": 2,\n        \"samples\": [\n          0,\n          1\n        ],\n        \"semantic_type\": \"\",\n        \"description\": \"\"\n      }\n    },\n    {\n      \"column\": \"winner_id\",\n      \"properties\": {\n        \"dtype\": \"number\",\n        \"std\": 17575,\n        \"min\": 20,\n        \"max\": 49657,\n        \"num_unique_values\": 113,\n        \"samples\": [\n          17744,\n          30435\n        ],\n        \"semantic_type\": \"\",\n        \"description\": \"\"\n      }\n    }\n  ]\n}"
            }
          },
          "metadata": {},
          "execution_count": 461
        }
      ]
    },
    {
      "cell_type": "code",
      "source": [
        "sub_data.drop(columns=['team1_id','team2_id','pred_winner', 'toss winner','toss decision'],inplace=True)"
      ],
      "metadata": {
        "colab": {
          "base_uri": "https://localhost:8080/"
        },
        "id": "QI-8zeDV0uPq",
        "outputId": "2b2dfa91-555d-4210-b10e-7aa0c80d1d9d"
      },
      "execution_count": null,
      "outputs": [
        {
          "output_type": "stream",
          "name": "stderr",
          "text": [
            "<ipython-input-462-61c46ed98fc6>:1: SettingWithCopyWarning: \n",
            "A value is trying to be set on a copy of a slice from a DataFrame\n",
            "\n",
            "See the caveats in the documentation: https://pandas.pydata.org/pandas-docs/stable/user_guide/indexing.html#returning-a-view-versus-a-copy\n",
            "  sub_data.drop(columns=['team1_id','team2_id','pred_winner', 'toss winner','toss decision'],inplace=True)\n"
          ]
        }
      ]
    },
    {
      "cell_type": "code",
      "source": [
        "sub_data.head()"
      ],
      "metadata": {
        "colab": {
          "base_uri": "https://localhost:8080/",
          "height": 206
        },
        "id": "Y3pc0mpD05xT",
        "outputId": "4700ef93-4fdd-44ab-bc68-64f91fac130a"
      },
      "execution_count": null,
      "outputs": [
        {
          "output_type": "execute_result",
          "data": {
            "text/plain": [
              "   match id  winner_id\n",
              "0   9250275         90\n",
              "1   9262189      36098\n",
              "2   9128776      30428\n",
              "3   9586919      36098\n",
              "4   9128538      30414"
            ],
            "text/html": [
              "\n",
              "  <div id=\"df-e237b052-62ec-4424-a147-d8451642ddb3\" class=\"colab-df-container\">\n",
              "    <div>\n",
              "<style scoped>\n",
              "    .dataframe tbody tr th:only-of-type {\n",
              "        vertical-align: middle;\n",
              "    }\n",
              "\n",
              "    .dataframe tbody tr th {\n",
              "        vertical-align: top;\n",
              "    }\n",
              "\n",
              "    .dataframe thead th {\n",
              "        text-align: right;\n",
              "    }\n",
              "</style>\n",
              "<table border=\"1\" class=\"dataframe\">\n",
              "  <thead>\n",
              "    <tr style=\"text-align: right;\">\n",
              "      <th></th>\n",
              "      <th>match id</th>\n",
              "      <th>winner_id</th>\n",
              "    </tr>\n",
              "  </thead>\n",
              "  <tbody>\n",
              "    <tr>\n",
              "      <th>0</th>\n",
              "      <td>9250275</td>\n",
              "      <td>90</td>\n",
              "    </tr>\n",
              "    <tr>\n",
              "      <th>1</th>\n",
              "      <td>9262189</td>\n",
              "      <td>36098</td>\n",
              "    </tr>\n",
              "    <tr>\n",
              "      <th>2</th>\n",
              "      <td>9128776</td>\n",
              "      <td>30428</td>\n",
              "    </tr>\n",
              "    <tr>\n",
              "      <th>3</th>\n",
              "      <td>9586919</td>\n",
              "      <td>36098</td>\n",
              "    </tr>\n",
              "    <tr>\n",
              "      <th>4</th>\n",
              "      <td>9128538</td>\n",
              "      <td>30414</td>\n",
              "    </tr>\n",
              "  </tbody>\n",
              "</table>\n",
              "</div>\n",
              "    <div class=\"colab-df-buttons\">\n",
              "\n",
              "  <div class=\"colab-df-container\">\n",
              "    <button class=\"colab-df-convert\" onclick=\"convertToInteractive('df-e237b052-62ec-4424-a147-d8451642ddb3')\"\n",
              "            title=\"Convert this dataframe to an interactive table.\"\n",
              "            style=\"display:none;\">\n",
              "\n",
              "  <svg xmlns=\"http://www.w3.org/2000/svg\" height=\"24px\" viewBox=\"0 -960 960 960\">\n",
              "    <path d=\"M120-120v-720h720v720H120Zm60-500h600v-160H180v160Zm220 220h160v-160H400v160Zm0 220h160v-160H400v160ZM180-400h160v-160H180v160Zm440 0h160v-160H620v160ZM180-180h160v-160H180v160Zm440 0h160v-160H620v160Z\"/>\n",
              "  </svg>\n",
              "    </button>\n",
              "\n",
              "  <style>\n",
              "    .colab-df-container {\n",
              "      display:flex;\n",
              "      gap: 12px;\n",
              "    }\n",
              "\n",
              "    .colab-df-convert {\n",
              "      background-color: #E8F0FE;\n",
              "      border: none;\n",
              "      border-radius: 50%;\n",
              "      cursor: pointer;\n",
              "      display: none;\n",
              "      fill: #1967D2;\n",
              "      height: 32px;\n",
              "      padding: 0 0 0 0;\n",
              "      width: 32px;\n",
              "    }\n",
              "\n",
              "    .colab-df-convert:hover {\n",
              "      background-color: #E2EBFA;\n",
              "      box-shadow: 0px 1px 2px rgba(60, 64, 67, 0.3), 0px 1px 3px 1px rgba(60, 64, 67, 0.15);\n",
              "      fill: #174EA6;\n",
              "    }\n",
              "\n",
              "    .colab-df-buttons div {\n",
              "      margin-bottom: 4px;\n",
              "    }\n",
              "\n",
              "    [theme=dark] .colab-df-convert {\n",
              "      background-color: #3B4455;\n",
              "      fill: #D2E3FC;\n",
              "    }\n",
              "\n",
              "    [theme=dark] .colab-df-convert:hover {\n",
              "      background-color: #434B5C;\n",
              "      box-shadow: 0px 1px 3px 1px rgba(0, 0, 0, 0.15);\n",
              "      filter: drop-shadow(0px 1px 2px rgba(0, 0, 0, 0.3));\n",
              "      fill: #FFFFFF;\n",
              "    }\n",
              "  </style>\n",
              "\n",
              "    <script>\n",
              "      const buttonEl =\n",
              "        document.querySelector('#df-e237b052-62ec-4424-a147-d8451642ddb3 button.colab-df-convert');\n",
              "      buttonEl.style.display =\n",
              "        google.colab.kernel.accessAllowed ? 'block' : 'none';\n",
              "\n",
              "      async function convertToInteractive(key) {\n",
              "        const element = document.querySelector('#df-e237b052-62ec-4424-a147-d8451642ddb3');\n",
              "        const dataTable =\n",
              "          await google.colab.kernel.invokeFunction('convertToInteractive',\n",
              "                                                    [key], {});\n",
              "        if (!dataTable) return;\n",
              "\n",
              "        const docLinkHtml = 'Like what you see? Visit the ' +\n",
              "          '<a target=\"_blank\" href=https://colab.research.google.com/notebooks/data_table.ipynb>data table notebook</a>'\n",
              "          + ' to learn more about interactive tables.';\n",
              "        element.innerHTML = '';\n",
              "        dataTable['output_type'] = 'display_data';\n",
              "        await google.colab.output.renderOutput(dataTable, element);\n",
              "        const docLink = document.createElement('div');\n",
              "        docLink.innerHTML = docLinkHtml;\n",
              "        element.appendChild(docLink);\n",
              "      }\n",
              "    </script>\n",
              "  </div>\n",
              "\n",
              "\n",
              "<div id=\"df-d0c0753c-5eaa-4d8e-bfc7-56491f46d063\">\n",
              "  <button class=\"colab-df-quickchart\" onclick=\"quickchart('df-d0c0753c-5eaa-4d8e-bfc7-56491f46d063')\"\n",
              "            title=\"Suggest charts\"\n",
              "            style=\"display:none;\">\n",
              "\n",
              "<svg xmlns=\"http://www.w3.org/2000/svg\" height=\"24px\"viewBox=\"0 0 24 24\"\n",
              "     width=\"24px\">\n",
              "    <g>\n",
              "        <path d=\"M19 3H5c-1.1 0-2 .9-2 2v14c0 1.1.9 2 2 2h14c1.1 0 2-.9 2-2V5c0-1.1-.9-2-2-2zM9 17H7v-7h2v7zm4 0h-2V7h2v10zm4 0h-2v-4h2v4z\"/>\n",
              "    </g>\n",
              "</svg>\n",
              "  </button>\n",
              "\n",
              "<style>\n",
              "  .colab-df-quickchart {\n",
              "      --bg-color: #E8F0FE;\n",
              "      --fill-color: #1967D2;\n",
              "      --hover-bg-color: #E2EBFA;\n",
              "      --hover-fill-color: #174EA6;\n",
              "      --disabled-fill-color: #AAA;\n",
              "      --disabled-bg-color: #DDD;\n",
              "  }\n",
              "\n",
              "  [theme=dark] .colab-df-quickchart {\n",
              "      --bg-color: #3B4455;\n",
              "      --fill-color: #D2E3FC;\n",
              "      --hover-bg-color: #434B5C;\n",
              "      --hover-fill-color: #FFFFFF;\n",
              "      --disabled-bg-color: #3B4455;\n",
              "      --disabled-fill-color: #666;\n",
              "  }\n",
              "\n",
              "  .colab-df-quickchart {\n",
              "    background-color: var(--bg-color);\n",
              "    border: none;\n",
              "    border-radius: 50%;\n",
              "    cursor: pointer;\n",
              "    display: none;\n",
              "    fill: var(--fill-color);\n",
              "    height: 32px;\n",
              "    padding: 0;\n",
              "    width: 32px;\n",
              "  }\n",
              "\n",
              "  .colab-df-quickchart:hover {\n",
              "    background-color: var(--hover-bg-color);\n",
              "    box-shadow: 0 1px 2px rgba(60, 64, 67, 0.3), 0 1px 3px 1px rgba(60, 64, 67, 0.15);\n",
              "    fill: var(--button-hover-fill-color);\n",
              "  }\n",
              "\n",
              "  .colab-df-quickchart-complete:disabled,\n",
              "  .colab-df-quickchart-complete:disabled:hover {\n",
              "    background-color: var(--disabled-bg-color);\n",
              "    fill: var(--disabled-fill-color);\n",
              "    box-shadow: none;\n",
              "  }\n",
              "\n",
              "  .colab-df-spinner {\n",
              "    border: 2px solid var(--fill-color);\n",
              "    border-color: transparent;\n",
              "    border-bottom-color: var(--fill-color);\n",
              "    animation:\n",
              "      spin 1s steps(1) infinite;\n",
              "  }\n",
              "\n",
              "  @keyframes spin {\n",
              "    0% {\n",
              "      border-color: transparent;\n",
              "      border-bottom-color: var(--fill-color);\n",
              "      border-left-color: var(--fill-color);\n",
              "    }\n",
              "    20% {\n",
              "      border-color: transparent;\n",
              "      border-left-color: var(--fill-color);\n",
              "      border-top-color: var(--fill-color);\n",
              "    }\n",
              "    30% {\n",
              "      border-color: transparent;\n",
              "      border-left-color: var(--fill-color);\n",
              "      border-top-color: var(--fill-color);\n",
              "      border-right-color: var(--fill-color);\n",
              "    }\n",
              "    40% {\n",
              "      border-color: transparent;\n",
              "      border-right-color: var(--fill-color);\n",
              "      border-top-color: var(--fill-color);\n",
              "    }\n",
              "    60% {\n",
              "      border-color: transparent;\n",
              "      border-right-color: var(--fill-color);\n",
              "    }\n",
              "    80% {\n",
              "      border-color: transparent;\n",
              "      border-right-color: var(--fill-color);\n",
              "      border-bottom-color: var(--fill-color);\n",
              "    }\n",
              "    90% {\n",
              "      border-color: transparent;\n",
              "      border-bottom-color: var(--fill-color);\n",
              "    }\n",
              "  }\n",
              "</style>\n",
              "\n",
              "  <script>\n",
              "    async function quickchart(key) {\n",
              "      const quickchartButtonEl =\n",
              "        document.querySelector('#' + key + ' button');\n",
              "      quickchartButtonEl.disabled = true;  // To prevent multiple clicks.\n",
              "      quickchartButtonEl.classList.add('colab-df-spinner');\n",
              "      try {\n",
              "        const charts = await google.colab.kernel.invokeFunction(\n",
              "            'suggestCharts', [key], {});\n",
              "      } catch (error) {\n",
              "        console.error('Error during call to suggestCharts:', error);\n",
              "      }\n",
              "      quickchartButtonEl.classList.remove('colab-df-spinner');\n",
              "      quickchartButtonEl.classList.add('colab-df-quickchart-complete');\n",
              "    }\n",
              "    (() => {\n",
              "      let quickchartButtonEl =\n",
              "        document.querySelector('#df-d0c0753c-5eaa-4d8e-bfc7-56491f46d063 button');\n",
              "      quickchartButtonEl.style.display =\n",
              "        google.colab.kernel.accessAllowed ? 'block' : 'none';\n",
              "    })();\n",
              "  </script>\n",
              "</div>\n",
              "\n",
              "    </div>\n",
              "  </div>\n"
            ],
            "application/vnd.google.colaboratory.intrinsic+json": {
              "type": "dataframe",
              "variable_name": "sub_data",
              "summary": "{\n  \"name\": \"sub_data\",\n  \"rows\": 270,\n  \"fields\": [\n    {\n      \"column\": \"match id\",\n      \"properties\": {\n        \"dtype\": \"number\",\n        \"std\": 217183,\n        \"min\": 8844338,\n        \"max\": 9849650,\n        \"num_unique_values\": 270,\n        \"samples\": [\n          9087147,\n          9457608,\n          9516779\n        ],\n        \"semantic_type\": \"\",\n        \"description\": \"\"\n      }\n    },\n    {\n      \"column\": \"winner_id\",\n      \"properties\": {\n        \"dtype\": \"number\",\n        \"std\": 17575,\n        \"min\": 20,\n        \"max\": 49657,\n        \"num_unique_values\": 113,\n        \"samples\": [\n          17744,\n          30435,\n          12669\n        ],\n        \"semantic_type\": \"\",\n        \"description\": \"\"\n      }\n    }\n  ]\n}"
            }
          },
          "metadata": {},
          "execution_count": 463
        }
      ]
    },
    {
      "cell_type": "code",
      "source": [
        "# sub_data[['toss winner']] = test_data[['toss winner']]\n",
        "# sub_data[['toss decision']] = test_data[['toss decision']]"
      ],
      "metadata": {
        "id": "l8P-oaFD09e9"
      },
      "execution_count": null,
      "outputs": []
    },
    {
      "cell_type": "code",
      "source": [
        "sub_data.head()"
      ],
      "metadata": {
        "id": "c-HzNZf24gSC",
        "colab": {
          "base_uri": "https://localhost:8080/",
          "height": 206
        },
        "outputId": "93c0ea5e-4ade-4fcb-e37d-2420d194fda9"
      },
      "execution_count": null,
      "outputs": [
        {
          "output_type": "execute_result",
          "data": {
            "text/plain": [
              "   match id  winner_id\n",
              "0   9250275         90\n",
              "1   9262189      36098\n",
              "2   9128776      30428\n",
              "3   9586919      36098\n",
              "4   9128538      30414"
            ],
            "text/html": [
              "\n",
              "  <div id=\"df-373e0168-4be3-4f0e-8f2a-05a5a9f4f8c4\" class=\"colab-df-container\">\n",
              "    <div>\n",
              "<style scoped>\n",
              "    .dataframe tbody tr th:only-of-type {\n",
              "        vertical-align: middle;\n",
              "    }\n",
              "\n",
              "    .dataframe tbody tr th {\n",
              "        vertical-align: top;\n",
              "    }\n",
              "\n",
              "    .dataframe thead th {\n",
              "        text-align: right;\n",
              "    }\n",
              "</style>\n",
              "<table border=\"1\" class=\"dataframe\">\n",
              "  <thead>\n",
              "    <tr style=\"text-align: right;\">\n",
              "      <th></th>\n",
              "      <th>match id</th>\n",
              "      <th>winner_id</th>\n",
              "    </tr>\n",
              "  </thead>\n",
              "  <tbody>\n",
              "    <tr>\n",
              "      <th>0</th>\n",
              "      <td>9250275</td>\n",
              "      <td>90</td>\n",
              "    </tr>\n",
              "    <tr>\n",
              "      <th>1</th>\n",
              "      <td>9262189</td>\n",
              "      <td>36098</td>\n",
              "    </tr>\n",
              "    <tr>\n",
              "      <th>2</th>\n",
              "      <td>9128776</td>\n",
              "      <td>30428</td>\n",
              "    </tr>\n",
              "    <tr>\n",
              "      <th>3</th>\n",
              "      <td>9586919</td>\n",
              "      <td>36098</td>\n",
              "    </tr>\n",
              "    <tr>\n",
              "      <th>4</th>\n",
              "      <td>9128538</td>\n",
              "      <td>30414</td>\n",
              "    </tr>\n",
              "  </tbody>\n",
              "</table>\n",
              "</div>\n",
              "    <div class=\"colab-df-buttons\">\n",
              "\n",
              "  <div class=\"colab-df-container\">\n",
              "    <button class=\"colab-df-convert\" onclick=\"convertToInteractive('df-373e0168-4be3-4f0e-8f2a-05a5a9f4f8c4')\"\n",
              "            title=\"Convert this dataframe to an interactive table.\"\n",
              "            style=\"display:none;\">\n",
              "\n",
              "  <svg xmlns=\"http://www.w3.org/2000/svg\" height=\"24px\" viewBox=\"0 -960 960 960\">\n",
              "    <path d=\"M120-120v-720h720v720H120Zm60-500h600v-160H180v160Zm220 220h160v-160H400v160Zm0 220h160v-160H400v160ZM180-400h160v-160H180v160Zm440 0h160v-160H620v160ZM180-180h160v-160H180v160Zm440 0h160v-160H620v160Z\"/>\n",
              "  </svg>\n",
              "    </button>\n",
              "\n",
              "  <style>\n",
              "    .colab-df-container {\n",
              "      display:flex;\n",
              "      gap: 12px;\n",
              "    }\n",
              "\n",
              "    .colab-df-convert {\n",
              "      background-color: #E8F0FE;\n",
              "      border: none;\n",
              "      border-radius: 50%;\n",
              "      cursor: pointer;\n",
              "      display: none;\n",
              "      fill: #1967D2;\n",
              "      height: 32px;\n",
              "      padding: 0 0 0 0;\n",
              "      width: 32px;\n",
              "    }\n",
              "\n",
              "    .colab-df-convert:hover {\n",
              "      background-color: #E2EBFA;\n",
              "      box-shadow: 0px 1px 2px rgba(60, 64, 67, 0.3), 0px 1px 3px 1px rgba(60, 64, 67, 0.15);\n",
              "      fill: #174EA6;\n",
              "    }\n",
              "\n",
              "    .colab-df-buttons div {\n",
              "      margin-bottom: 4px;\n",
              "    }\n",
              "\n",
              "    [theme=dark] .colab-df-convert {\n",
              "      background-color: #3B4455;\n",
              "      fill: #D2E3FC;\n",
              "    }\n",
              "\n",
              "    [theme=dark] .colab-df-convert:hover {\n",
              "      background-color: #434B5C;\n",
              "      box-shadow: 0px 1px 3px 1px rgba(0, 0, 0, 0.15);\n",
              "      filter: drop-shadow(0px 1px 2px rgba(0, 0, 0, 0.3));\n",
              "      fill: #FFFFFF;\n",
              "    }\n",
              "  </style>\n",
              "\n",
              "    <script>\n",
              "      const buttonEl =\n",
              "        document.querySelector('#df-373e0168-4be3-4f0e-8f2a-05a5a9f4f8c4 button.colab-df-convert');\n",
              "      buttonEl.style.display =\n",
              "        google.colab.kernel.accessAllowed ? 'block' : 'none';\n",
              "\n",
              "      async function convertToInteractive(key) {\n",
              "        const element = document.querySelector('#df-373e0168-4be3-4f0e-8f2a-05a5a9f4f8c4');\n",
              "        const dataTable =\n",
              "          await google.colab.kernel.invokeFunction('convertToInteractive',\n",
              "                                                    [key], {});\n",
              "        if (!dataTable) return;\n",
              "\n",
              "        const docLinkHtml = 'Like what you see? Visit the ' +\n",
              "          '<a target=\"_blank\" href=https://colab.research.google.com/notebooks/data_table.ipynb>data table notebook</a>'\n",
              "          + ' to learn more about interactive tables.';\n",
              "        element.innerHTML = '';\n",
              "        dataTable['output_type'] = 'display_data';\n",
              "        await google.colab.output.renderOutput(dataTable, element);\n",
              "        const docLink = document.createElement('div');\n",
              "        docLink.innerHTML = docLinkHtml;\n",
              "        element.appendChild(docLink);\n",
              "      }\n",
              "    </script>\n",
              "  </div>\n",
              "\n",
              "\n",
              "<div id=\"df-ed7f5e1b-eba6-4981-b9e7-e27cc5d3eb39\">\n",
              "  <button class=\"colab-df-quickchart\" onclick=\"quickchart('df-ed7f5e1b-eba6-4981-b9e7-e27cc5d3eb39')\"\n",
              "            title=\"Suggest charts\"\n",
              "            style=\"display:none;\">\n",
              "\n",
              "<svg xmlns=\"http://www.w3.org/2000/svg\" height=\"24px\"viewBox=\"0 0 24 24\"\n",
              "     width=\"24px\">\n",
              "    <g>\n",
              "        <path d=\"M19 3H5c-1.1 0-2 .9-2 2v14c0 1.1.9 2 2 2h14c1.1 0 2-.9 2-2V5c0-1.1-.9-2-2-2zM9 17H7v-7h2v7zm4 0h-2V7h2v10zm4 0h-2v-4h2v4z\"/>\n",
              "    </g>\n",
              "</svg>\n",
              "  </button>\n",
              "\n",
              "<style>\n",
              "  .colab-df-quickchart {\n",
              "      --bg-color: #E8F0FE;\n",
              "      --fill-color: #1967D2;\n",
              "      --hover-bg-color: #E2EBFA;\n",
              "      --hover-fill-color: #174EA6;\n",
              "      --disabled-fill-color: #AAA;\n",
              "      --disabled-bg-color: #DDD;\n",
              "  }\n",
              "\n",
              "  [theme=dark] .colab-df-quickchart {\n",
              "      --bg-color: #3B4455;\n",
              "      --fill-color: #D2E3FC;\n",
              "      --hover-bg-color: #434B5C;\n",
              "      --hover-fill-color: #FFFFFF;\n",
              "      --disabled-bg-color: #3B4455;\n",
              "      --disabled-fill-color: #666;\n",
              "  }\n",
              "\n",
              "  .colab-df-quickchart {\n",
              "    background-color: var(--bg-color);\n",
              "    border: none;\n",
              "    border-radius: 50%;\n",
              "    cursor: pointer;\n",
              "    display: none;\n",
              "    fill: var(--fill-color);\n",
              "    height: 32px;\n",
              "    padding: 0;\n",
              "    width: 32px;\n",
              "  }\n",
              "\n",
              "  .colab-df-quickchart:hover {\n",
              "    background-color: var(--hover-bg-color);\n",
              "    box-shadow: 0 1px 2px rgba(60, 64, 67, 0.3), 0 1px 3px 1px rgba(60, 64, 67, 0.15);\n",
              "    fill: var(--button-hover-fill-color);\n",
              "  }\n",
              "\n",
              "  .colab-df-quickchart-complete:disabled,\n",
              "  .colab-df-quickchart-complete:disabled:hover {\n",
              "    background-color: var(--disabled-bg-color);\n",
              "    fill: var(--disabled-fill-color);\n",
              "    box-shadow: none;\n",
              "  }\n",
              "\n",
              "  .colab-df-spinner {\n",
              "    border: 2px solid var(--fill-color);\n",
              "    border-color: transparent;\n",
              "    border-bottom-color: var(--fill-color);\n",
              "    animation:\n",
              "      spin 1s steps(1) infinite;\n",
              "  }\n",
              "\n",
              "  @keyframes spin {\n",
              "    0% {\n",
              "      border-color: transparent;\n",
              "      border-bottom-color: var(--fill-color);\n",
              "      border-left-color: var(--fill-color);\n",
              "    }\n",
              "    20% {\n",
              "      border-color: transparent;\n",
              "      border-left-color: var(--fill-color);\n",
              "      border-top-color: var(--fill-color);\n",
              "    }\n",
              "    30% {\n",
              "      border-color: transparent;\n",
              "      border-left-color: var(--fill-color);\n",
              "      border-top-color: var(--fill-color);\n",
              "      border-right-color: var(--fill-color);\n",
              "    }\n",
              "    40% {\n",
              "      border-color: transparent;\n",
              "      border-right-color: var(--fill-color);\n",
              "      border-top-color: var(--fill-color);\n",
              "    }\n",
              "    60% {\n",
              "      border-color: transparent;\n",
              "      border-right-color: var(--fill-color);\n",
              "    }\n",
              "    80% {\n",
              "      border-color: transparent;\n",
              "      border-right-color: var(--fill-color);\n",
              "      border-bottom-color: var(--fill-color);\n",
              "    }\n",
              "    90% {\n",
              "      border-color: transparent;\n",
              "      border-bottom-color: var(--fill-color);\n",
              "    }\n",
              "  }\n",
              "</style>\n",
              "\n",
              "  <script>\n",
              "    async function quickchart(key) {\n",
              "      const quickchartButtonEl =\n",
              "        document.querySelector('#' + key + ' button');\n",
              "      quickchartButtonEl.disabled = true;  // To prevent multiple clicks.\n",
              "      quickchartButtonEl.classList.add('colab-df-spinner');\n",
              "      try {\n",
              "        const charts = await google.colab.kernel.invokeFunction(\n",
              "            'suggestCharts', [key], {});\n",
              "      } catch (error) {\n",
              "        console.error('Error during call to suggestCharts:', error);\n",
              "      }\n",
              "      quickchartButtonEl.classList.remove('colab-df-spinner');\n",
              "      quickchartButtonEl.classList.add('colab-df-quickchart-complete');\n",
              "    }\n",
              "    (() => {\n",
              "      let quickchartButtonEl =\n",
              "        document.querySelector('#df-ed7f5e1b-eba6-4981-b9e7-e27cc5d3eb39 button');\n",
              "      quickchartButtonEl.style.display =\n",
              "        google.colab.kernel.accessAllowed ? 'block' : 'none';\n",
              "    })();\n",
              "  </script>\n",
              "</div>\n",
              "\n",
              "    </div>\n",
              "  </div>\n"
            ],
            "application/vnd.google.colaboratory.intrinsic+json": {
              "type": "dataframe",
              "variable_name": "sub_data",
              "summary": "{\n  \"name\": \"sub_data\",\n  \"rows\": 270,\n  \"fields\": [\n    {\n      \"column\": \"match id\",\n      \"properties\": {\n        \"dtype\": \"number\",\n        \"std\": 217183,\n        \"min\": 8844338,\n        \"max\": 9849650,\n        \"num_unique_values\": 270,\n        \"samples\": [\n          9087147,\n          9457608,\n          9516779\n        ],\n        \"semantic_type\": \"\",\n        \"description\": \"\"\n      }\n    },\n    {\n      \"column\": \"winner_id\",\n      \"properties\": {\n        \"dtype\": \"number\",\n        \"std\": 17575,\n        \"min\": 20,\n        \"max\": 49657,\n        \"num_unique_values\": 113,\n        \"samples\": [\n          17744,\n          30435,\n          12669\n        ],\n        \"semantic_type\": \"\",\n        \"description\": \"\"\n      }\n    }\n  ]\n}"
            }
          },
          "metadata": {},
          "execution_count": 465
        }
      ]
    },
    {
      "cell_type": "code",
      "source": [
        "# def calculate_pred_winner_score(row):\n",
        "#     if row['winner_id'] == row['toss winner']:\n",
        "#         if row['toss decision'] == 0:\n",
        "#             return row['inning2_runs']\n",
        "#         elif row['toss decision'] == 1:\n",
        "#             return row['inning1_runs']\n",
        "#     else:\n",
        "#         if row['toss decision'] == 0:\n",
        "#             return row['inning1_runs']\n",
        "#         elif row['toss decision'] == 1:\n",
        "#             return row['inning2_runs']\n",
        "\n",
        "# sub_data['pred_winner_score'] = sub_data.apply(calculate_pred_winner_score, axis=1)"
      ],
      "metadata": {
        "id": "QRMm-eOQ4iq0"
      },
      "execution_count": null,
      "outputs": []
    },
    {
      "cell_type": "code",
      "source": [
        "# sub_data.head()"
      ],
      "metadata": {
        "id": "V_JfAT7H54tm"
      },
      "execution_count": null,
      "outputs": []
    },
    {
      "cell_type": "code",
      "source": [
        "# sub_data.drop(columns=['inning1_runs','inning2_runs','toss winner','toss decision'],inplace=True)"
      ],
      "metadata": {
        "id": "xPL7pC3e56TS"
      },
      "execution_count": null,
      "outputs": []
    },
    {
      "cell_type": "code",
      "source": [
        "sub_data.head()"
      ],
      "metadata": {
        "id": "OaSHKXRt6KBP",
        "colab": {
          "base_uri": "https://localhost:8080/",
          "height": 206
        },
        "outputId": "d512a1c3-9312-4a07-edbc-d9aa34654294"
      },
      "execution_count": null,
      "outputs": [
        {
          "output_type": "execute_result",
          "data": {
            "text/plain": [
              "   match id  winner_id\n",
              "0   9250275         90\n",
              "1   9262189      36098\n",
              "2   9128776      30428\n",
              "3   9586919      36098\n",
              "4   9128538      30414"
            ],
            "text/html": [
              "\n",
              "  <div id=\"df-0a363f82-b1e8-435d-b1c4-580791afc4dc\" class=\"colab-df-container\">\n",
              "    <div>\n",
              "<style scoped>\n",
              "    .dataframe tbody tr th:only-of-type {\n",
              "        vertical-align: middle;\n",
              "    }\n",
              "\n",
              "    .dataframe tbody tr th {\n",
              "        vertical-align: top;\n",
              "    }\n",
              "\n",
              "    .dataframe thead th {\n",
              "        text-align: right;\n",
              "    }\n",
              "</style>\n",
              "<table border=\"1\" class=\"dataframe\">\n",
              "  <thead>\n",
              "    <tr style=\"text-align: right;\">\n",
              "      <th></th>\n",
              "      <th>match id</th>\n",
              "      <th>winner_id</th>\n",
              "    </tr>\n",
              "  </thead>\n",
              "  <tbody>\n",
              "    <tr>\n",
              "      <th>0</th>\n",
              "      <td>9250275</td>\n",
              "      <td>90</td>\n",
              "    </tr>\n",
              "    <tr>\n",
              "      <th>1</th>\n",
              "      <td>9262189</td>\n",
              "      <td>36098</td>\n",
              "    </tr>\n",
              "    <tr>\n",
              "      <th>2</th>\n",
              "      <td>9128776</td>\n",
              "      <td>30428</td>\n",
              "    </tr>\n",
              "    <tr>\n",
              "      <th>3</th>\n",
              "      <td>9586919</td>\n",
              "      <td>36098</td>\n",
              "    </tr>\n",
              "    <tr>\n",
              "      <th>4</th>\n",
              "      <td>9128538</td>\n",
              "      <td>30414</td>\n",
              "    </tr>\n",
              "  </tbody>\n",
              "</table>\n",
              "</div>\n",
              "    <div class=\"colab-df-buttons\">\n",
              "\n",
              "  <div class=\"colab-df-container\">\n",
              "    <button class=\"colab-df-convert\" onclick=\"convertToInteractive('df-0a363f82-b1e8-435d-b1c4-580791afc4dc')\"\n",
              "            title=\"Convert this dataframe to an interactive table.\"\n",
              "            style=\"display:none;\">\n",
              "\n",
              "  <svg xmlns=\"http://www.w3.org/2000/svg\" height=\"24px\" viewBox=\"0 -960 960 960\">\n",
              "    <path d=\"M120-120v-720h720v720H120Zm60-500h600v-160H180v160Zm220 220h160v-160H400v160Zm0 220h160v-160H400v160ZM180-400h160v-160H180v160Zm440 0h160v-160H620v160ZM180-180h160v-160H180v160Zm440 0h160v-160H620v160Z\"/>\n",
              "  </svg>\n",
              "    </button>\n",
              "\n",
              "  <style>\n",
              "    .colab-df-container {\n",
              "      display:flex;\n",
              "      gap: 12px;\n",
              "    }\n",
              "\n",
              "    .colab-df-convert {\n",
              "      background-color: #E8F0FE;\n",
              "      border: none;\n",
              "      border-radius: 50%;\n",
              "      cursor: pointer;\n",
              "      display: none;\n",
              "      fill: #1967D2;\n",
              "      height: 32px;\n",
              "      padding: 0 0 0 0;\n",
              "      width: 32px;\n",
              "    }\n",
              "\n",
              "    .colab-df-convert:hover {\n",
              "      background-color: #E2EBFA;\n",
              "      box-shadow: 0px 1px 2px rgba(60, 64, 67, 0.3), 0px 1px 3px 1px rgba(60, 64, 67, 0.15);\n",
              "      fill: #174EA6;\n",
              "    }\n",
              "\n",
              "    .colab-df-buttons div {\n",
              "      margin-bottom: 4px;\n",
              "    }\n",
              "\n",
              "    [theme=dark] .colab-df-convert {\n",
              "      background-color: #3B4455;\n",
              "      fill: #D2E3FC;\n",
              "    }\n",
              "\n",
              "    [theme=dark] .colab-df-convert:hover {\n",
              "      background-color: #434B5C;\n",
              "      box-shadow: 0px 1px 3px 1px rgba(0, 0, 0, 0.15);\n",
              "      filter: drop-shadow(0px 1px 2px rgba(0, 0, 0, 0.3));\n",
              "      fill: #FFFFFF;\n",
              "    }\n",
              "  </style>\n",
              "\n",
              "    <script>\n",
              "      const buttonEl =\n",
              "        document.querySelector('#df-0a363f82-b1e8-435d-b1c4-580791afc4dc button.colab-df-convert');\n",
              "      buttonEl.style.display =\n",
              "        google.colab.kernel.accessAllowed ? 'block' : 'none';\n",
              "\n",
              "      async function convertToInteractive(key) {\n",
              "        const element = document.querySelector('#df-0a363f82-b1e8-435d-b1c4-580791afc4dc');\n",
              "        const dataTable =\n",
              "          await google.colab.kernel.invokeFunction('convertToInteractive',\n",
              "                                                    [key], {});\n",
              "        if (!dataTable) return;\n",
              "\n",
              "        const docLinkHtml = 'Like what you see? Visit the ' +\n",
              "          '<a target=\"_blank\" href=https://colab.research.google.com/notebooks/data_table.ipynb>data table notebook</a>'\n",
              "          + ' to learn more about interactive tables.';\n",
              "        element.innerHTML = '';\n",
              "        dataTable['output_type'] = 'display_data';\n",
              "        await google.colab.output.renderOutput(dataTable, element);\n",
              "        const docLink = document.createElement('div');\n",
              "        docLink.innerHTML = docLinkHtml;\n",
              "        element.appendChild(docLink);\n",
              "      }\n",
              "    </script>\n",
              "  </div>\n",
              "\n",
              "\n",
              "<div id=\"df-fd7794f4-9cf5-4ed6-b59d-5a566a870e1f\">\n",
              "  <button class=\"colab-df-quickchart\" onclick=\"quickchart('df-fd7794f4-9cf5-4ed6-b59d-5a566a870e1f')\"\n",
              "            title=\"Suggest charts\"\n",
              "            style=\"display:none;\">\n",
              "\n",
              "<svg xmlns=\"http://www.w3.org/2000/svg\" height=\"24px\"viewBox=\"0 0 24 24\"\n",
              "     width=\"24px\">\n",
              "    <g>\n",
              "        <path d=\"M19 3H5c-1.1 0-2 .9-2 2v14c0 1.1.9 2 2 2h14c1.1 0 2-.9 2-2V5c0-1.1-.9-2-2-2zM9 17H7v-7h2v7zm4 0h-2V7h2v10zm4 0h-2v-4h2v4z\"/>\n",
              "    </g>\n",
              "</svg>\n",
              "  </button>\n",
              "\n",
              "<style>\n",
              "  .colab-df-quickchart {\n",
              "      --bg-color: #E8F0FE;\n",
              "      --fill-color: #1967D2;\n",
              "      --hover-bg-color: #E2EBFA;\n",
              "      --hover-fill-color: #174EA6;\n",
              "      --disabled-fill-color: #AAA;\n",
              "      --disabled-bg-color: #DDD;\n",
              "  }\n",
              "\n",
              "  [theme=dark] .colab-df-quickchart {\n",
              "      --bg-color: #3B4455;\n",
              "      --fill-color: #D2E3FC;\n",
              "      --hover-bg-color: #434B5C;\n",
              "      --hover-fill-color: #FFFFFF;\n",
              "      --disabled-bg-color: #3B4455;\n",
              "      --disabled-fill-color: #666;\n",
              "  }\n",
              "\n",
              "  .colab-df-quickchart {\n",
              "    background-color: var(--bg-color);\n",
              "    border: none;\n",
              "    border-radius: 50%;\n",
              "    cursor: pointer;\n",
              "    display: none;\n",
              "    fill: var(--fill-color);\n",
              "    height: 32px;\n",
              "    padding: 0;\n",
              "    width: 32px;\n",
              "  }\n",
              "\n",
              "  .colab-df-quickchart:hover {\n",
              "    background-color: var(--hover-bg-color);\n",
              "    box-shadow: 0 1px 2px rgba(60, 64, 67, 0.3), 0 1px 3px 1px rgba(60, 64, 67, 0.15);\n",
              "    fill: var(--button-hover-fill-color);\n",
              "  }\n",
              "\n",
              "  .colab-df-quickchart-complete:disabled,\n",
              "  .colab-df-quickchart-complete:disabled:hover {\n",
              "    background-color: var(--disabled-bg-color);\n",
              "    fill: var(--disabled-fill-color);\n",
              "    box-shadow: none;\n",
              "  }\n",
              "\n",
              "  .colab-df-spinner {\n",
              "    border: 2px solid var(--fill-color);\n",
              "    border-color: transparent;\n",
              "    border-bottom-color: var(--fill-color);\n",
              "    animation:\n",
              "      spin 1s steps(1) infinite;\n",
              "  }\n",
              "\n",
              "  @keyframes spin {\n",
              "    0% {\n",
              "      border-color: transparent;\n",
              "      border-bottom-color: var(--fill-color);\n",
              "      border-left-color: var(--fill-color);\n",
              "    }\n",
              "    20% {\n",
              "      border-color: transparent;\n",
              "      border-left-color: var(--fill-color);\n",
              "      border-top-color: var(--fill-color);\n",
              "    }\n",
              "    30% {\n",
              "      border-color: transparent;\n",
              "      border-left-color: var(--fill-color);\n",
              "      border-top-color: var(--fill-color);\n",
              "      border-right-color: var(--fill-color);\n",
              "    }\n",
              "    40% {\n",
              "      border-color: transparent;\n",
              "      border-right-color: var(--fill-color);\n",
              "      border-top-color: var(--fill-color);\n",
              "    }\n",
              "    60% {\n",
              "      border-color: transparent;\n",
              "      border-right-color: var(--fill-color);\n",
              "    }\n",
              "    80% {\n",
              "      border-color: transparent;\n",
              "      border-right-color: var(--fill-color);\n",
              "      border-bottom-color: var(--fill-color);\n",
              "    }\n",
              "    90% {\n",
              "      border-color: transparent;\n",
              "      border-bottom-color: var(--fill-color);\n",
              "    }\n",
              "  }\n",
              "</style>\n",
              "\n",
              "  <script>\n",
              "    async function quickchart(key) {\n",
              "      const quickchartButtonEl =\n",
              "        document.querySelector('#' + key + ' button');\n",
              "      quickchartButtonEl.disabled = true;  // To prevent multiple clicks.\n",
              "      quickchartButtonEl.classList.add('colab-df-spinner');\n",
              "      try {\n",
              "        const charts = await google.colab.kernel.invokeFunction(\n",
              "            'suggestCharts', [key], {});\n",
              "      } catch (error) {\n",
              "        console.error('Error during call to suggestCharts:', error);\n",
              "      }\n",
              "      quickchartButtonEl.classList.remove('colab-df-spinner');\n",
              "      quickchartButtonEl.classList.add('colab-df-quickchart-complete');\n",
              "    }\n",
              "    (() => {\n",
              "      let quickchartButtonEl =\n",
              "        document.querySelector('#df-fd7794f4-9cf5-4ed6-b59d-5a566a870e1f button');\n",
              "      quickchartButtonEl.style.display =\n",
              "        google.colab.kernel.accessAllowed ? 'block' : 'none';\n",
              "    })();\n",
              "  </script>\n",
              "</div>\n",
              "\n",
              "    </div>\n",
              "  </div>\n"
            ],
            "application/vnd.google.colaboratory.intrinsic+json": {
              "type": "dataframe",
              "variable_name": "sub_data",
              "summary": "{\n  \"name\": \"sub_data\",\n  \"rows\": 270,\n  \"fields\": [\n    {\n      \"column\": \"match id\",\n      \"properties\": {\n        \"dtype\": \"number\",\n        \"std\": 217183,\n        \"min\": 8844338,\n        \"max\": 9849650,\n        \"num_unique_values\": 270,\n        \"samples\": [\n          9087147,\n          9457608,\n          9516779\n        ],\n        \"semantic_type\": \"\",\n        \"description\": \"\"\n      }\n    },\n    {\n      \"column\": \"winner_id\",\n      \"properties\": {\n        \"dtype\": \"number\",\n        \"std\": 17575,\n        \"min\": 20,\n        \"max\": 49657,\n        \"num_unique_values\": 113,\n        \"samples\": [\n          17744,\n          30435,\n          12669\n        ],\n        \"semantic_type\": \"\",\n        \"description\": \"\"\n      }\n    }\n  ]\n}"
            }
          },
          "metadata": {},
          "execution_count": 469
        }
      ]
    },
    {
      "cell_type": "code",
      "source": [
        "sub_data.to_csv(\"/content/drive/MyDrive/AMEX/sub4.csv\", index=False)"
      ],
      "metadata": {
        "id": "h6N12K2s6LtX"
      },
      "execution_count": null,
      "outputs": []
    },
    {
      "cell_type": "code",
      "source": [
        "test_data.info()"
      ],
      "metadata": {
        "id": "1CUozYVO68RC",
        "colab": {
          "base_uri": "https://localhost:8080/"
        },
        "outputId": "38f3c973-eafe-4415-b909-547c48c30867"
      },
      "execution_count": null,
      "outputs": [
        {
          "output_type": "stream",
          "name": "stdout",
          "text": [
            "<class 'pandas.core.frame.DataFrame'>\n",
            "RangeIndex: 270 entries, 0 to 269\n",
            "Data columns (total 21 columns):\n",
            " #   Column                     Non-Null Count  Dtype  \n",
            "---  ------                     --------------  -----  \n",
            " 0   match id                   270 non-null    int64  \n",
            " 1   team1_id                   270 non-null    int64  \n",
            " 2   team2_id                   270 non-null    int64  \n",
            " 3   toss winner                270 non-null    int64  \n",
            " 4   toss decision              270 non-null    int64  \n",
            " 5   team_count_50runs_last15   270 non-null    float64\n",
            " 6   team_winp_last5            270 non-null    float64\n",
            " 7   team1only_avg_runs_last15  270 non-null    float64\n",
            " 8   team1_winp_team2_last15    270 non-null    float64\n",
            " 9   ground_avg_runs_last15     270 non-null    float64\n",
            " 10  economy                    270 non-null    float64\n",
            " 11  bowling_strike_rate        85 non-null     float64\n",
            " 12  bowling_average            85 non-null     float64\n",
            " 13  boundary_rate              270 non-null    float64\n",
            " 14  dot_ball_percent           270 non-null    float64\n",
            " 15  extras                     270 non-null    float64\n",
            " 16  maiden_over_percent        270 non-null    float64\n",
            " 17  strike_rate                270 non-null    float64\n",
            " 18  batting_average            270 non-null    float64\n",
            " 19  boundary_percent           270 non-null    float64\n",
            " 20  overs_perform              270 non-null    float64\n",
            "dtypes: float64(16), int64(5)\n",
            "memory usage: 44.4 KB\n"
          ]
        }
      ]
    },
    {
      "cell_type": "code",
      "source": [
        "train_data.info()"
      ],
      "metadata": {
        "id": "ry1-kr3P7XPe",
        "colab": {
          "base_uri": "https://localhost:8080/"
        },
        "outputId": "fb1bbf6e-4155-4ca4-a766-016e772f4a98"
      },
      "execution_count": null,
      "outputs": [
        {
          "output_type": "stream",
          "name": "stdout",
          "text": [
            "<class 'pandas.core.frame.DataFrame'>\n",
            "RangeIndex: 948 entries, 0 to 947\n",
            "Data columns (total 22 columns):\n",
            " #   Column                     Non-Null Count  Dtype  \n",
            "---  ------                     --------------  -----  \n",
            " 0   match id                   948 non-null    int64  \n",
            " 1   team1_id                   948 non-null    int64  \n",
            " 2   team2_id                   948 non-null    int64  \n",
            " 3   toss winner                948 non-null    int64  \n",
            " 4   toss decision              948 non-null    int64  \n",
            " 5   team_count_50runs_last15   948 non-null    float64\n",
            " 6   team_winp_last5            948 non-null    float64\n",
            " 7   team1only_avg_runs_last15  948 non-null    float64\n",
            " 8   team1_winp_team2_last15    948 non-null    float64\n",
            " 9   ground_avg_runs_last15     948 non-null    float64\n",
            " 10  economy                    948 non-null    float64\n",
            " 11  bowling_strike_rate        332 non-null    float64\n",
            " 12  bowling_average            332 non-null    float64\n",
            " 13  boundary_rate              948 non-null    float64\n",
            " 14  dot_ball_percent           948 non-null    float64\n",
            " 15  extras                     948 non-null    float64\n",
            " 16  maiden_over_percent        948 non-null    float64\n",
            " 17  strike_rate                948 non-null    float64\n",
            " 18  batting_average            948 non-null    float64\n",
            " 19  boundary_percent           948 non-null    float64\n",
            " 20  overs_perform              948 non-null    float64\n",
            " 21  winner_id                  948 non-null    float64\n",
            "dtypes: float64(17), int64(5)\n",
            "memory usage: 163.1 KB\n"
          ]
        }
      ]
    },
    {
      "cell_type": "code",
      "source": [
        "# train_data.to_csv(\"/content/drive/MyDrive/AMEX/sub3_train.csv\", index=False)\n",
        "# test_data.to_csv(\"/content/drive/MyDrive/AMEX/sub3_test.csv\", index=False)"
      ],
      "metadata": {
        "id": "qQUy2ZGm7cAw"
      },
      "execution_count": null,
      "outputs": []
    },
    {
      "cell_type": "code",
      "source": [
        "# train_data['pred_winner_score'] = train_data.apply(calculate_pred_winner_score, axis=1)"
      ],
      "metadata": {
        "id": "AY74f_Ah7sEw"
      },
      "execution_count": null,
      "outputs": []
    },
    {
      "cell_type": "code",
      "source": [
        "# train_data.head()"
      ],
      "metadata": {
        "id": "vUpNzle5_fnz"
      },
      "execution_count": null,
      "outputs": []
    },
    {
      "cell_type": "code",
      "source": [
        "# train_data.to_csv(\"/content/drive/MyDrive/AMEX/sub1_train2.csv\", index=False)"
      ],
      "metadata": {
        "id": "dUT3kioj_hsw"
      },
      "execution_count": null,
      "outputs": []
    },
    {
      "cell_type": "code",
      "source": [
        "# sub_data['winner_id'] = sub_data.apply(lambda row: row['team1_id'] if row['pred_winner'] == 0 else row['team2_id'], axis=1)"
      ],
      "metadata": {
        "id": "lj6LWuUG_q7G"
      },
      "execution_count": null,
      "outputs": []
    },
    {
      "cell_type": "code",
      "source": [
        "train_data.head()"
      ],
      "metadata": {
        "id": "1jnCQbT4BMzi",
        "colab": {
          "base_uri": "https://localhost:8080/",
          "height": 273
        },
        "outputId": "67740d98-f2cf-49b1-c998-9764179b5b6b"
      },
      "execution_count": null,
      "outputs": [
        {
          "output_type": "execute_result",
          "data": {
            "text/plain": [
              "   match id  team1_id  team2_id  toss winner  toss decision  \\\n",
              "0   9331181     11283     12634        12634              0   \n",
              "1   8797060        20        41           41              0   \n",
              "2   9433269     10576      8987         8987              0   \n",
              "3   9587073     36084     36070        36084              1   \n",
              "4   9516457     30407     48341        48341              0   \n",
              "\n",
              "   team_count_50runs_last15  team_winp_last5  team1only_avg_runs_last15  \\\n",
              "0                  1.666667         0.672131                 139.000000   \n",
              "1                  1.285714         1.952381                 156.000000   \n",
              "2                  0.857143         0.672131                 173.266667   \n",
              "3                  2.166667         1.975610                 164.266667   \n",
              "4                  0.818182         1.327869                 164.666667   \n",
              "\n",
              "   team1_winp_team2_last15  ground_avg_runs_last15  ...  bowling_average  \\\n",
              "0                    100.0              157.178571  ...        12.654624   \n",
              "1                     50.0              103.500000  ...         9.392395   \n",
              "2                      0.0              154.333333  ...              NaN   \n",
              "3                     50.0              144.250000  ...         9.996801   \n",
              "4                      0.0              189.000000  ...        10.053697   \n",
              "\n",
              "   boundary_rate  dot_ball_percent    extras  maiden_over_percent  \\\n",
              "0       0.064653          0.171577  0.279610             0.001744   \n",
              "1       0.062767          0.138308  0.310351             0.000721   \n",
              "2       0.067509          0.115170  0.213137             0.000441   \n",
              "3       0.074375          0.169412  0.400713             0.000497   \n",
              "4       0.061708          0.149664  0.255611             0.000714   \n",
              "\n",
              "   strike_rate  batting_average  boundary_percent  overs_perform  winner_id  \n",
              "0    59.557181         0.630622          0.136306       2.716410    12634.0  \n",
              "1    71.766588         0.801074          0.240494       2.388746       20.0  \n",
              "2    65.840187         0.749559          0.197086       2.467493    10576.0  \n",
              "3    66.868228         0.745632          0.209852       1.965219    36084.0  \n",
              "4    67.046850         0.749450          0.198023       2.750786    48341.0  \n",
              "\n",
              "[5 rows x 22 columns]"
            ],
            "text/html": [
              "\n",
              "  <div id=\"df-97ff5da4-2a3b-46a8-a894-56f5e9e25ee9\" class=\"colab-df-container\">\n",
              "    <div>\n",
              "<style scoped>\n",
              "    .dataframe tbody tr th:only-of-type {\n",
              "        vertical-align: middle;\n",
              "    }\n",
              "\n",
              "    .dataframe tbody tr th {\n",
              "        vertical-align: top;\n",
              "    }\n",
              "\n",
              "    .dataframe thead th {\n",
              "        text-align: right;\n",
              "    }\n",
              "</style>\n",
              "<table border=\"1\" class=\"dataframe\">\n",
              "  <thead>\n",
              "    <tr style=\"text-align: right;\">\n",
              "      <th></th>\n",
              "      <th>match id</th>\n",
              "      <th>team1_id</th>\n",
              "      <th>team2_id</th>\n",
              "      <th>toss winner</th>\n",
              "      <th>toss decision</th>\n",
              "      <th>team_count_50runs_last15</th>\n",
              "      <th>team_winp_last5</th>\n",
              "      <th>team1only_avg_runs_last15</th>\n",
              "      <th>team1_winp_team2_last15</th>\n",
              "      <th>ground_avg_runs_last15</th>\n",
              "      <th>...</th>\n",
              "      <th>bowling_average</th>\n",
              "      <th>boundary_rate</th>\n",
              "      <th>dot_ball_percent</th>\n",
              "      <th>extras</th>\n",
              "      <th>maiden_over_percent</th>\n",
              "      <th>strike_rate</th>\n",
              "      <th>batting_average</th>\n",
              "      <th>boundary_percent</th>\n",
              "      <th>overs_perform</th>\n",
              "      <th>winner_id</th>\n",
              "    </tr>\n",
              "  </thead>\n",
              "  <tbody>\n",
              "    <tr>\n",
              "      <th>0</th>\n",
              "      <td>9331181</td>\n",
              "      <td>11283</td>\n",
              "      <td>12634</td>\n",
              "      <td>12634</td>\n",
              "      <td>0</td>\n",
              "      <td>1.666667</td>\n",
              "      <td>0.672131</td>\n",
              "      <td>139.000000</td>\n",
              "      <td>100.0</td>\n",
              "      <td>157.178571</td>\n",
              "      <td>...</td>\n",
              "      <td>12.654624</td>\n",
              "      <td>0.064653</td>\n",
              "      <td>0.171577</td>\n",
              "      <td>0.279610</td>\n",
              "      <td>0.001744</td>\n",
              "      <td>59.557181</td>\n",
              "      <td>0.630622</td>\n",
              "      <td>0.136306</td>\n",
              "      <td>2.716410</td>\n",
              "      <td>12634.0</td>\n",
              "    </tr>\n",
              "    <tr>\n",
              "      <th>1</th>\n",
              "      <td>8797060</td>\n",
              "      <td>20</td>\n",
              "      <td>41</td>\n",
              "      <td>41</td>\n",
              "      <td>0</td>\n",
              "      <td>1.285714</td>\n",
              "      <td>1.952381</td>\n",
              "      <td>156.000000</td>\n",
              "      <td>50.0</td>\n",
              "      <td>103.500000</td>\n",
              "      <td>...</td>\n",
              "      <td>9.392395</td>\n",
              "      <td>0.062767</td>\n",
              "      <td>0.138308</td>\n",
              "      <td>0.310351</td>\n",
              "      <td>0.000721</td>\n",
              "      <td>71.766588</td>\n",
              "      <td>0.801074</td>\n",
              "      <td>0.240494</td>\n",
              "      <td>2.388746</td>\n",
              "      <td>20.0</td>\n",
              "    </tr>\n",
              "    <tr>\n",
              "      <th>2</th>\n",
              "      <td>9433269</td>\n",
              "      <td>10576</td>\n",
              "      <td>8987</td>\n",
              "      <td>8987</td>\n",
              "      <td>0</td>\n",
              "      <td>0.857143</td>\n",
              "      <td>0.672131</td>\n",
              "      <td>173.266667</td>\n",
              "      <td>0.0</td>\n",
              "      <td>154.333333</td>\n",
              "      <td>...</td>\n",
              "      <td>NaN</td>\n",
              "      <td>0.067509</td>\n",
              "      <td>0.115170</td>\n",
              "      <td>0.213137</td>\n",
              "      <td>0.000441</td>\n",
              "      <td>65.840187</td>\n",
              "      <td>0.749559</td>\n",
              "      <td>0.197086</td>\n",
              "      <td>2.467493</td>\n",
              "      <td>10576.0</td>\n",
              "    </tr>\n",
              "    <tr>\n",
              "      <th>3</th>\n",
              "      <td>9587073</td>\n",
              "      <td>36084</td>\n",
              "      <td>36070</td>\n",
              "      <td>36084</td>\n",
              "      <td>1</td>\n",
              "      <td>2.166667</td>\n",
              "      <td>1.975610</td>\n",
              "      <td>164.266667</td>\n",
              "      <td>50.0</td>\n",
              "      <td>144.250000</td>\n",
              "      <td>...</td>\n",
              "      <td>9.996801</td>\n",
              "      <td>0.074375</td>\n",
              "      <td>0.169412</td>\n",
              "      <td>0.400713</td>\n",
              "      <td>0.000497</td>\n",
              "      <td>66.868228</td>\n",
              "      <td>0.745632</td>\n",
              "      <td>0.209852</td>\n",
              "      <td>1.965219</td>\n",
              "      <td>36084.0</td>\n",
              "    </tr>\n",
              "    <tr>\n",
              "      <th>4</th>\n",
              "      <td>9516457</td>\n",
              "      <td>30407</td>\n",
              "      <td>48341</td>\n",
              "      <td>48341</td>\n",
              "      <td>0</td>\n",
              "      <td>0.818182</td>\n",
              "      <td>1.327869</td>\n",
              "      <td>164.666667</td>\n",
              "      <td>0.0</td>\n",
              "      <td>189.000000</td>\n",
              "      <td>...</td>\n",
              "      <td>10.053697</td>\n",
              "      <td>0.061708</td>\n",
              "      <td>0.149664</td>\n",
              "      <td>0.255611</td>\n",
              "      <td>0.000714</td>\n",
              "      <td>67.046850</td>\n",
              "      <td>0.749450</td>\n",
              "      <td>0.198023</td>\n",
              "      <td>2.750786</td>\n",
              "      <td>48341.0</td>\n",
              "    </tr>\n",
              "  </tbody>\n",
              "</table>\n",
              "<p>5 rows × 22 columns</p>\n",
              "</div>\n",
              "    <div class=\"colab-df-buttons\">\n",
              "\n",
              "  <div class=\"colab-df-container\">\n",
              "    <button class=\"colab-df-convert\" onclick=\"convertToInteractive('df-97ff5da4-2a3b-46a8-a894-56f5e9e25ee9')\"\n",
              "            title=\"Convert this dataframe to an interactive table.\"\n",
              "            style=\"display:none;\">\n",
              "\n",
              "  <svg xmlns=\"http://www.w3.org/2000/svg\" height=\"24px\" viewBox=\"0 -960 960 960\">\n",
              "    <path d=\"M120-120v-720h720v720H120Zm60-500h600v-160H180v160Zm220 220h160v-160H400v160Zm0 220h160v-160H400v160ZM180-400h160v-160H180v160Zm440 0h160v-160H620v160ZM180-180h160v-160H180v160Zm440 0h160v-160H620v160Z\"/>\n",
              "  </svg>\n",
              "    </button>\n",
              "\n",
              "  <style>\n",
              "    .colab-df-container {\n",
              "      display:flex;\n",
              "      gap: 12px;\n",
              "    }\n",
              "\n",
              "    .colab-df-convert {\n",
              "      background-color: #E8F0FE;\n",
              "      border: none;\n",
              "      border-radius: 50%;\n",
              "      cursor: pointer;\n",
              "      display: none;\n",
              "      fill: #1967D2;\n",
              "      height: 32px;\n",
              "      padding: 0 0 0 0;\n",
              "      width: 32px;\n",
              "    }\n",
              "\n",
              "    .colab-df-convert:hover {\n",
              "      background-color: #E2EBFA;\n",
              "      box-shadow: 0px 1px 2px rgba(60, 64, 67, 0.3), 0px 1px 3px 1px rgba(60, 64, 67, 0.15);\n",
              "      fill: #174EA6;\n",
              "    }\n",
              "\n",
              "    .colab-df-buttons div {\n",
              "      margin-bottom: 4px;\n",
              "    }\n",
              "\n",
              "    [theme=dark] .colab-df-convert {\n",
              "      background-color: #3B4455;\n",
              "      fill: #D2E3FC;\n",
              "    }\n",
              "\n",
              "    [theme=dark] .colab-df-convert:hover {\n",
              "      background-color: #434B5C;\n",
              "      box-shadow: 0px 1px 3px 1px rgba(0, 0, 0, 0.15);\n",
              "      filter: drop-shadow(0px 1px 2px rgba(0, 0, 0, 0.3));\n",
              "      fill: #FFFFFF;\n",
              "    }\n",
              "  </style>\n",
              "\n",
              "    <script>\n",
              "      const buttonEl =\n",
              "        document.querySelector('#df-97ff5da4-2a3b-46a8-a894-56f5e9e25ee9 button.colab-df-convert');\n",
              "      buttonEl.style.display =\n",
              "        google.colab.kernel.accessAllowed ? 'block' : 'none';\n",
              "\n",
              "      async function convertToInteractive(key) {\n",
              "        const element = document.querySelector('#df-97ff5da4-2a3b-46a8-a894-56f5e9e25ee9');\n",
              "        const dataTable =\n",
              "          await google.colab.kernel.invokeFunction('convertToInteractive',\n",
              "                                                    [key], {});\n",
              "        if (!dataTable) return;\n",
              "\n",
              "        const docLinkHtml = 'Like what you see? Visit the ' +\n",
              "          '<a target=\"_blank\" href=https://colab.research.google.com/notebooks/data_table.ipynb>data table notebook</a>'\n",
              "          + ' to learn more about interactive tables.';\n",
              "        element.innerHTML = '';\n",
              "        dataTable['output_type'] = 'display_data';\n",
              "        await google.colab.output.renderOutput(dataTable, element);\n",
              "        const docLink = document.createElement('div');\n",
              "        docLink.innerHTML = docLinkHtml;\n",
              "        element.appendChild(docLink);\n",
              "      }\n",
              "    </script>\n",
              "  </div>\n",
              "\n",
              "\n",
              "<div id=\"df-81c5d189-f225-458f-97a3-cd9ab1f79dbc\">\n",
              "  <button class=\"colab-df-quickchart\" onclick=\"quickchart('df-81c5d189-f225-458f-97a3-cd9ab1f79dbc')\"\n",
              "            title=\"Suggest charts\"\n",
              "            style=\"display:none;\">\n",
              "\n",
              "<svg xmlns=\"http://www.w3.org/2000/svg\" height=\"24px\"viewBox=\"0 0 24 24\"\n",
              "     width=\"24px\">\n",
              "    <g>\n",
              "        <path d=\"M19 3H5c-1.1 0-2 .9-2 2v14c0 1.1.9 2 2 2h14c1.1 0 2-.9 2-2V5c0-1.1-.9-2-2-2zM9 17H7v-7h2v7zm4 0h-2V7h2v10zm4 0h-2v-4h2v4z\"/>\n",
              "    </g>\n",
              "</svg>\n",
              "  </button>\n",
              "\n",
              "<style>\n",
              "  .colab-df-quickchart {\n",
              "      --bg-color: #E8F0FE;\n",
              "      --fill-color: #1967D2;\n",
              "      --hover-bg-color: #E2EBFA;\n",
              "      --hover-fill-color: #174EA6;\n",
              "      --disabled-fill-color: #AAA;\n",
              "      --disabled-bg-color: #DDD;\n",
              "  }\n",
              "\n",
              "  [theme=dark] .colab-df-quickchart {\n",
              "      --bg-color: #3B4455;\n",
              "      --fill-color: #D2E3FC;\n",
              "      --hover-bg-color: #434B5C;\n",
              "      --hover-fill-color: #FFFFFF;\n",
              "      --disabled-bg-color: #3B4455;\n",
              "      --disabled-fill-color: #666;\n",
              "  }\n",
              "\n",
              "  .colab-df-quickchart {\n",
              "    background-color: var(--bg-color);\n",
              "    border: none;\n",
              "    border-radius: 50%;\n",
              "    cursor: pointer;\n",
              "    display: none;\n",
              "    fill: var(--fill-color);\n",
              "    height: 32px;\n",
              "    padding: 0;\n",
              "    width: 32px;\n",
              "  }\n",
              "\n",
              "  .colab-df-quickchart:hover {\n",
              "    background-color: var(--hover-bg-color);\n",
              "    box-shadow: 0 1px 2px rgba(60, 64, 67, 0.3), 0 1px 3px 1px rgba(60, 64, 67, 0.15);\n",
              "    fill: var(--button-hover-fill-color);\n",
              "  }\n",
              "\n",
              "  .colab-df-quickchart-complete:disabled,\n",
              "  .colab-df-quickchart-complete:disabled:hover {\n",
              "    background-color: var(--disabled-bg-color);\n",
              "    fill: var(--disabled-fill-color);\n",
              "    box-shadow: none;\n",
              "  }\n",
              "\n",
              "  .colab-df-spinner {\n",
              "    border: 2px solid var(--fill-color);\n",
              "    border-color: transparent;\n",
              "    border-bottom-color: var(--fill-color);\n",
              "    animation:\n",
              "      spin 1s steps(1) infinite;\n",
              "  }\n",
              "\n",
              "  @keyframes spin {\n",
              "    0% {\n",
              "      border-color: transparent;\n",
              "      border-bottom-color: var(--fill-color);\n",
              "      border-left-color: var(--fill-color);\n",
              "    }\n",
              "    20% {\n",
              "      border-color: transparent;\n",
              "      border-left-color: var(--fill-color);\n",
              "      border-top-color: var(--fill-color);\n",
              "    }\n",
              "    30% {\n",
              "      border-color: transparent;\n",
              "      border-left-color: var(--fill-color);\n",
              "      border-top-color: var(--fill-color);\n",
              "      border-right-color: var(--fill-color);\n",
              "    }\n",
              "    40% {\n",
              "      border-color: transparent;\n",
              "      border-right-color: var(--fill-color);\n",
              "      border-top-color: var(--fill-color);\n",
              "    }\n",
              "    60% {\n",
              "      border-color: transparent;\n",
              "      border-right-color: var(--fill-color);\n",
              "    }\n",
              "    80% {\n",
              "      border-color: transparent;\n",
              "      border-right-color: var(--fill-color);\n",
              "      border-bottom-color: var(--fill-color);\n",
              "    }\n",
              "    90% {\n",
              "      border-color: transparent;\n",
              "      border-bottom-color: var(--fill-color);\n",
              "    }\n",
              "  }\n",
              "</style>\n",
              "\n",
              "  <script>\n",
              "    async function quickchart(key) {\n",
              "      const quickchartButtonEl =\n",
              "        document.querySelector('#' + key + ' button');\n",
              "      quickchartButtonEl.disabled = true;  // To prevent multiple clicks.\n",
              "      quickchartButtonEl.classList.add('colab-df-spinner');\n",
              "      try {\n",
              "        const charts = await google.colab.kernel.invokeFunction(\n",
              "            'suggestCharts', [key], {});\n",
              "      } catch (error) {\n",
              "        console.error('Error during call to suggestCharts:', error);\n",
              "      }\n",
              "      quickchartButtonEl.classList.remove('colab-df-spinner');\n",
              "      quickchartButtonEl.classList.add('colab-df-quickchart-complete');\n",
              "    }\n",
              "    (() => {\n",
              "      let quickchartButtonEl =\n",
              "        document.querySelector('#df-81c5d189-f225-458f-97a3-cd9ab1f79dbc button');\n",
              "      quickchartButtonEl.style.display =\n",
              "        google.colab.kernel.accessAllowed ? 'block' : 'none';\n",
              "    })();\n",
              "  </script>\n",
              "</div>\n",
              "\n",
              "    </div>\n",
              "  </div>\n"
            ],
            "application/vnd.google.colaboratory.intrinsic+json": {
              "type": "dataframe",
              "variable_name": "train_data"
            }
          },
          "metadata": {},
          "execution_count": 478
        }
      ]
    },
    {
      "cell_type": "code",
      "source": [
        "# train_data.drop(columns=['pred_winner_score'],inplace=True)"
      ],
      "metadata": {
        "id": "VPf65BU4BOZ8"
      },
      "execution_count": null,
      "outputs": []
    },
    {
      "cell_type": "code",
      "source": [
        "# train_data['winner'] = train_data.apply(lambda row: row['team1_id'] if row['winner_id'] == 0 else row['team2_id'], axis=1)"
      ],
      "metadata": {
        "id": "-Rqkmjp8BVV2"
      },
      "execution_count": null,
      "outputs": []
    },
    {
      "cell_type": "code",
      "source": [
        "# train_data.drop(columns=['winner_id'],inplace=True)"
      ],
      "metadata": {
        "id": "UFVuSMIbBu53"
      },
      "execution_count": null,
      "outputs": []
    },
    {
      "cell_type": "code",
      "source": [
        "# train_data.rename(columns={'winner': 'winner_id'}, inplace=True)"
      ],
      "metadata": {
        "id": "xsThMOGsBxHA"
      },
      "execution_count": null,
      "outputs": []
    },
    {
      "cell_type": "code",
      "source": [
        "# train_data['pred_winner_score'] = train_data.apply(calculate_pred_winner_score, axis=1)"
      ],
      "metadata": {
        "id": "1b2PLPkmBeN8"
      },
      "execution_count": null,
      "outputs": []
    },
    {
      "cell_type": "code",
      "source": [
        "# train_data.to_csv(\"/content/drive/MyDrive/AMEX/sub1_train3.csv\", index=False)"
      ],
      "metadata": {
        "id": "UTkS5ZRVB0eC"
      },
      "execution_count": null,
      "outputs": []
    },
    {
      "cell_type": "code",
      "source": [
        "# merged = pd.merge(full_data, test_data, on='match id', how='left', indicator=True)\n",
        "# match_id_only_in_full_data = merged[merged['_merge'] == 'left_only']['match id']\n",
        "\n",
        "# print(\"Match IDs only in full_data and not in test_data:\")\n",
        "# print(match_id_only_in_full_data.tolist())"
      ],
      "metadata": {
        "id": "B8jKxVyRB4yH"
      },
      "execution_count": null,
      "outputs": []
    },
    {
      "cell_type": "code",
      "source": [
        "# match_id_to_find = 9327555\n",
        "# result = full_data[full_data['match id'] == match_id_to_find]\n",
        "\n",
        "# result = pd.DataFrame(result)"
      ],
      "metadata": {
        "id": "lttBat5_Mq77"
      },
      "execution_count": null,
      "outputs": []
    },
    {
      "cell_type": "code",
      "source": [
        "# result"
      ],
      "metadata": {
        "id": "ELPhEaNlNIfN"
      },
      "execution_count": null,
      "outputs": []
    },
    {
      "cell_type": "code",
      "source": [
        "# match id\tteam1_id\tteam2_id\twinner_id\ttoss winner\ttoss decision\tteam_count_50runs_last15\n",
        "# team_winp_last5\tteam1only_avg_runs_last15\tteam1_winp_team2_last15\tground_avg_runs_last15\n",
        "# win amount\tinning1_runs\tinning2_runs\tinning1_wickets\tinning2_wickets\tinning1_balls\n",
        "# inning2_balls\tplayer_metric"
      ],
      "metadata": {
        "id": "W8ZHkU5bNRac"
      },
      "execution_count": null,
      "outputs": []
    },
    {
      "cell_type": "code",
      "source": [],
      "metadata": {
        "id": "G5SEDBQPNsnf"
      },
      "execution_count": null,
      "outputs": []
    },
    {
      "cell_type": "code",
      "source": [],
      "metadata": {
        "id": "-FaBxsiHN_eG"
      },
      "execution_count": null,
      "outputs": []
    },
    {
      "cell_type": "code",
      "source": [
        "# team_id_map = {team: id_ for team, id_ in zip(result['team1'], result['team1_id'])}\n",
        "# team_id_map.update({team: id_ for team, id_ in zip(result['team2'], result['team2_id'])})\n",
        "\n",
        "# # Replace 'toss winner' elements with their corresponding IDs\n",
        "# result['toss winner'] = result['toss winner'].map(team_id_map)\n",
        "\n",
        "# result['toss decision'] = result['toss decision'].replace({'field': 0, 'bat': 1})\n",
        "\n",
        "# result = result.drop(columns=['team1','team2','venue','city','match_dt','lighting','series_name','season','ground_id'])"
      ],
      "metadata": {
        "id": "ic5HELPsOYSq"
      },
      "execution_count": null,
      "outputs": []
    },
    {
      "cell_type": "code",
      "source": [
        "# result['processed_team1_roster_ids'] =result['team1_roster_ids'].apply(process_roster_ids)\n",
        "# result['processed_team2_roster_ids'] = result['team2_roster_ids'].apply(process_roster_ids)\n",
        "# result.drop(columns=['team1_roster_ids','team2_roster_ids'],inplace=True)"
      ],
      "metadata": {
        "id": "qFjVw0OkOYSx"
      },
      "execution_count": null,
      "outputs": []
    },
    {
      "cell_type": "code",
      "source": [
        "# result = result.explode('processed_team1_roster_ids')\n",
        "# result = result.explode('processed_team2_roster_ids')\n",
        "\n",
        "# # Reset the index to get a clean DataFrame\n",
        "# result = result.reset_index(drop=True)"
      ],
      "metadata": {
        "id": "ckEyvnwyOYSx"
      },
      "execution_count": null,
      "outputs": []
    },
    {
      "cell_type": "code",
      "source": [
        "# result_ids1 = result[['match id','processed_team1_roster_ids']]\n",
        "# result_ids2 = result[['match id','processed_team2_roster_ids']]\n",
        "# test_data_ids1 = result_ids1.merge(match_data , left_on ='processed_team1_roster_ids', right_on='player_id')\n",
        "# result_ids2 = result_ids2.merge(match_data , left_on ='processed_team2_roster_ids', right_on='player_id')\n",
        "# result_ids1.drop(columns=['processed_team1_roster_ids','player_id'],inplace=True)\n",
        "# result_ids2.drop(columns=['processed_team2_roster_ids','player_id'],inplace=True)\n",
        "# result_ids1 = result_ids1.groupby('match id').mean().reset_index()\n",
        "# result_ids2 = result_ids2.groupby('match id').mean().reset_index()"
      ],
      "metadata": {
        "id": "X45xdFZaOYSx"
      },
      "execution_count": null,
      "outputs": []
    },
    {
      "cell_type": "code",
      "source": [
        "# test_data_ids = test_data_ids1.merge(test_data_ids2, on='match id')"
      ],
      "metadata": {
        "id": "W_CWJX5GOYSx"
      },
      "execution_count": null,
      "outputs": []
    },
    {
      "cell_type": "code",
      "source": [
        "# test_data_ids['win amount'] = (test_data_ids['win amount_x'] + test_data_ids['win amount_y'])/2\n",
        "# test_data_ids.drop(columns=['win amount_x','win amount_y'],inplace=True)\n",
        "# test_data_ids['inning1_runs'] = (test_data_ids['inning1_runs_x'] + test_data_ids['inning1_runs_y'])/2\n",
        "# test_data_ids.drop(columns=['inning1_runs_x','inning1_runs_y'],inplace=True)\n",
        "# test_data_ids['inning2_runs'] = (test_data_ids['inning2_runs_x'] + test_data_ids['inning2_runs_y'])/2\n",
        "# test_data_ids.drop(columns=['inning2_runs_x','inning2_runs_y'],inplace=True)\n",
        "# test_data_ids['inning1_wickets'] = (test_data_ids['inning1_wickets_x'] + test_data_ids['inning1_wickets_y'])/2\n",
        "# test_data_ids.drop(columns=['inning1_wickets_x','inning1_wickets_y'],inplace=True)\n",
        "# test_data_ids['inning2_wickets'] = (test_data_ids['inning2_wickets_x'] + test_data_ids['inning2_wickets_y'])/2\n",
        "# test_data_ids.drop(columns=['inning2_wickets_x','inning2_wickets_y'],inplace=True)\n",
        "# test_data_ids['inning1_balls']= (test_data_ids['inning1_balls_x'] + test_data_ids['inning1_balls_y'])/2\n",
        "# test_data_ids.drop(columns=['inning1_balls_x','inning1_balls_y'],inplace=True)\n",
        "# test_data_ids['inning2_balls']= (test_data_ids['inning2_balls_x'] + test_data_ids['inning2_balls_y'])/2\n",
        "# test_data_ids.drop(columns=['inning2_balls_x','inning2_balls_y'],inplace=True)\n",
        "# test_data_ids['player_metric'] = (test_data_ids['player_metric_x'] + test_data_ids['player_metric_y'])/2\n",
        "# test_data_ids.drop(columns=['player_metric_x','player_metric_y'],inplace=True)"
      ],
      "metadata": {
        "id": "GHgI3SyGOYSx"
      },
      "execution_count": null,
      "outputs": []
    },
    {
      "cell_type": "code",
      "source": [
        "# test_data.drop(columns=['processed_team1_roster_ids','processed_team2_roster_ids'],inplace=True)"
      ],
      "metadata": {
        "id": "y-TmMyFhOYSx"
      },
      "execution_count": null,
      "outputs": []
    },
    {
      "cell_type": "code",
      "source": [
        "# test_data.drop_duplicates(inplace=True)"
      ],
      "metadata": {
        "id": "YJZTeB_OOYSx"
      },
      "execution_count": null,
      "outputs": []
    },
    {
      "cell_type": "code",
      "source": [
        "# test_data = test_data.merge(test_data_ids , on='match id')"
      ],
      "metadata": {
        "id": "ggmdCR41OYSx"
      },
      "execution_count": null,
      "outputs": []
    },
    {
      "cell_type": "code",
      "source": [
        "# from sklearn.impute import SimpleImputer\n",
        "# imputer = SimpleImputer(strategy='median')\n",
        "# test_data['team1only_avg_runs_last15'] = imputer.fit_transform(test_data[['team1only_avg_runs_last15']])\n",
        "# test_data['ground_avg_runs_last15'] = imputer.fit_transform(test_data[['ground_avg_runs_last15']])\n",
        "# test_data['player_metric'] = imputer.fit_transform(test_data[['player_metric']])\n",
        "# test_data = pd.DataFrame(test_data)"
      ],
      "metadata": {
        "id": "ekP1PMQbOYSx"
      },
      "execution_count": null,
      "outputs": []
    },
    {
      "cell_type": "code",
      "source": [
        "# test_data_det = test_data[['match id','team1_id','team2_id','toss winner','toss decision']]\n",
        "# test_data_set = test_data[['team1only_avg_runs_last15','ground_avg_runs_last15','player_metric','win amount',\n",
        "#                            'inning1_runs','inning2_runs','inning1_wickets','inning2_wickets',\n",
        "#                            'inning1_balls','inning2_balls','team1_winp_team2_last15','team_winp_last5'\n",
        "#                            ,'team_count_50runs_last15']]"
      ],
      "metadata": {
        "id": "OkVhXz-GOYSx"
      },
      "execution_count": null,
      "outputs": []
    },
    {
      "cell_type": "code",
      "source": [
        "# test_data_set.info()"
      ],
      "metadata": {
        "id": "7cX4QBUQXG2U"
      },
      "execution_count": null,
      "outputs": []
    },
    {
      "cell_type": "code",
      "source": [
        "from sklearn.metrics import log_loss\n",
        "xgb_finalclass_model.fit(train_class, train_class_winner)"
      ],
      "metadata": {
        "colab": {
          "base_uri": "https://localhost:8080/",
          "height": 248
        },
        "id": "36STkfkxTM9a",
        "outputId": "2537cafe-a744-40ed-e47c-25d19b980f5d"
      },
      "execution_count": null,
      "outputs": [
        {
          "output_type": "execute_result",
          "data": {
            "text/plain": [
              "XGBClassifier(base_score=None, booster=None, callbacks=None,\n",
              "              colsample_bylevel=None, colsample_bynode=None,\n",
              "              colsample_bytree=None, device=None, early_stopping_rounds=None,\n",
              "              enable_categorical=False, eval_metric=None, feature_types=None,\n",
              "              gamma=None, grow_policy=None, importance_type=None,\n",
              "              interaction_constraints=None, learning_rate=None, max_bin=None,\n",
              "              max_cat_threshold=None, max_cat_to_onehot=None,\n",
              "              max_delta_step=None, max_depth=None, max_leaves=None,\n",
              "              min_child_weight=None, missing=nan, monotone_constraints=None,\n",
              "              multi_strategy=None, n_estimators=None, n_jobs=None,\n",
              "              num_parallel_tree=None, random_state=None, ...)"
            ],
            "text/html": [
              "<style>#sk-container-id-9 {color: black;background-color: white;}#sk-container-id-9 pre{padding: 0;}#sk-container-id-9 div.sk-toggleable {background-color: white;}#sk-container-id-9 label.sk-toggleable__label {cursor: pointer;display: block;width: 100%;margin-bottom: 0;padding: 0.3em;box-sizing: border-box;text-align: center;}#sk-container-id-9 label.sk-toggleable__label-arrow:before {content: \"▸\";float: left;margin-right: 0.25em;color: #696969;}#sk-container-id-9 label.sk-toggleable__label-arrow:hover:before {color: black;}#sk-container-id-9 div.sk-estimator:hover label.sk-toggleable__label-arrow:before {color: black;}#sk-container-id-9 div.sk-toggleable__content {max-height: 0;max-width: 0;overflow: hidden;text-align: left;background-color: #f0f8ff;}#sk-container-id-9 div.sk-toggleable__content pre {margin: 0.2em;color: black;border-radius: 0.25em;background-color: #f0f8ff;}#sk-container-id-9 input.sk-toggleable__control:checked~div.sk-toggleable__content {max-height: 200px;max-width: 100%;overflow: auto;}#sk-container-id-9 input.sk-toggleable__control:checked~label.sk-toggleable__label-arrow:before {content: \"▾\";}#sk-container-id-9 div.sk-estimator input.sk-toggleable__control:checked~label.sk-toggleable__label {background-color: #d4ebff;}#sk-container-id-9 div.sk-label input.sk-toggleable__control:checked~label.sk-toggleable__label {background-color: #d4ebff;}#sk-container-id-9 input.sk-hidden--visually {border: 0;clip: rect(1px 1px 1px 1px);clip: rect(1px, 1px, 1px, 1px);height: 1px;margin: -1px;overflow: hidden;padding: 0;position: absolute;width: 1px;}#sk-container-id-9 div.sk-estimator {font-family: monospace;background-color: #f0f8ff;border: 1px dotted black;border-radius: 0.25em;box-sizing: border-box;margin-bottom: 0.5em;}#sk-container-id-9 div.sk-estimator:hover {background-color: #d4ebff;}#sk-container-id-9 div.sk-parallel-item::after {content: \"\";width: 100%;border-bottom: 1px solid gray;flex-grow: 1;}#sk-container-id-9 div.sk-label:hover label.sk-toggleable__label {background-color: #d4ebff;}#sk-container-id-9 div.sk-serial::before {content: \"\";position: absolute;border-left: 1px solid gray;box-sizing: border-box;top: 0;bottom: 0;left: 50%;z-index: 0;}#sk-container-id-9 div.sk-serial {display: flex;flex-direction: column;align-items: center;background-color: white;padding-right: 0.2em;padding-left: 0.2em;position: relative;}#sk-container-id-9 div.sk-item {position: relative;z-index: 1;}#sk-container-id-9 div.sk-parallel {display: flex;align-items: stretch;justify-content: center;background-color: white;position: relative;}#sk-container-id-9 div.sk-item::before, #sk-container-id-9 div.sk-parallel-item::before {content: \"\";position: absolute;border-left: 1px solid gray;box-sizing: border-box;top: 0;bottom: 0;left: 50%;z-index: -1;}#sk-container-id-9 div.sk-parallel-item {display: flex;flex-direction: column;z-index: 1;position: relative;background-color: white;}#sk-container-id-9 div.sk-parallel-item:first-child::after {align-self: flex-end;width: 50%;}#sk-container-id-9 div.sk-parallel-item:last-child::after {align-self: flex-start;width: 50%;}#sk-container-id-9 div.sk-parallel-item:only-child::after {width: 0;}#sk-container-id-9 div.sk-dashed-wrapped {border: 1px dashed gray;margin: 0 0.4em 0.5em 0.4em;box-sizing: border-box;padding-bottom: 0.4em;background-color: white;}#sk-container-id-9 div.sk-label label {font-family: monospace;font-weight: bold;display: inline-block;line-height: 1.2em;}#sk-container-id-9 div.sk-label-container {text-align: center;}#sk-container-id-9 div.sk-container {/* jupyter's `normalize.less` sets `[hidden] { display: none; }` but bootstrap.min.css set `[hidden] { display: none !important; }` so we also need the `!important` here to be able to override the default hidden behavior on the sphinx rendered scikit-learn.org. See: https://github.com/scikit-learn/scikit-learn/issues/21755 */display: inline-block !important;position: relative;}#sk-container-id-9 div.sk-text-repr-fallback {display: none;}</style><div id=\"sk-container-id-9\" class=\"sk-top-container\"><div class=\"sk-text-repr-fallback\"><pre>XGBClassifier(base_score=None, booster=None, callbacks=None,\n",
              "              colsample_bylevel=None, colsample_bynode=None,\n",
              "              colsample_bytree=None, device=None, early_stopping_rounds=None,\n",
              "              enable_categorical=False, eval_metric=None, feature_types=None,\n",
              "              gamma=None, grow_policy=None, importance_type=None,\n",
              "              interaction_constraints=None, learning_rate=None, max_bin=None,\n",
              "              max_cat_threshold=None, max_cat_to_onehot=None,\n",
              "              max_delta_step=None, max_depth=None, max_leaves=None,\n",
              "              min_child_weight=None, missing=nan, monotone_constraints=None,\n",
              "              multi_strategy=None, n_estimators=None, n_jobs=None,\n",
              "              num_parallel_tree=None, random_state=None, ...)</pre><b>In a Jupyter environment, please rerun this cell to show the HTML representation or trust the notebook. <br />On GitHub, the HTML representation is unable to render, please try loading this page with nbviewer.org.</b></div><div class=\"sk-container\" hidden><div class=\"sk-item\"><div class=\"sk-estimator sk-toggleable\"><input class=\"sk-toggleable__control sk-hidden--visually\" id=\"sk-estimator-id-9\" type=\"checkbox\" checked><label for=\"sk-estimator-id-9\" class=\"sk-toggleable__label sk-toggleable__label-arrow\">XGBClassifier</label><div class=\"sk-toggleable__content\"><pre>XGBClassifier(base_score=None, booster=None, callbacks=None,\n",
              "              colsample_bylevel=None, colsample_bynode=None,\n",
              "              colsample_bytree=None, device=None, early_stopping_rounds=None,\n",
              "              enable_categorical=False, eval_metric=None, feature_types=None,\n",
              "              gamma=None, grow_policy=None, importance_type=None,\n",
              "              interaction_constraints=None, learning_rate=None, max_bin=None,\n",
              "              max_cat_threshold=None, max_cat_to_onehot=None,\n",
              "              max_delta_step=None, max_depth=None, max_leaves=None,\n",
              "              min_child_weight=None, missing=nan, monotone_constraints=None,\n",
              "              multi_strategy=None, n_estimators=None, n_jobs=None,\n",
              "              num_parallel_tree=None, random_state=None, ...)</pre></div></div></div></div></div>"
            ]
          },
          "metadata": {},
          "execution_count": 501
        }
      ]
    },
    {
      "cell_type": "code",
      "source": [
        "# probabilities = xgb_finalclass_model.predict_proba(test_data_set)\n",
        "# win_pred_scores = probabilities.max(axis=1)"
      ],
      "metadata": {
        "id": "V7T3Y2Y1X-R7"
      },
      "execution_count": null,
      "outputs": []
    },
    {
      "cell_type": "code",
      "source": [
        "# win_pred_scores = pd.DataFrame(win_pred_scores)"
      ],
      "metadata": {
        "id": "VZx75ZmIYArd"
      },
      "execution_count": null,
      "outputs": []
    },
    {
      "cell_type": "code",
      "source": [
        "# win_pred_scores"
      ],
      "metadata": {
        "id": "zQMKSCFcYE8x"
      },
      "execution_count": null,
      "outputs": []
    },
    {
      "cell_type": "code",
      "source": [
        "# win_pred_scores.to_csv(\"/content/drive/MyDrive/AMEX/win_pred_scores_test3.csv\", index=False)"
      ],
      "metadata": {
        "id": "CLIErI-kYICe"
      },
      "execution_count": null,
      "outputs": []
    },
    {
      "cell_type": "code",
      "source": [
        "probabilities = xgb_finalclass_model.predict_proba(train_class)\n",
        "win_pred_scores = probabilities.max(axis=1)"
      ],
      "metadata": {
        "id": "1PiFtXwpYc_v"
      },
      "execution_count": null,
      "outputs": []
    },
    {
      "cell_type": "code",
      "source": [
        "win_pred_scores = pd.DataFrame(win_pred_scores)"
      ],
      "metadata": {
        "id": "JnHbI-nAYw-M"
      },
      "execution_count": null,
      "outputs": []
    },
    {
      "cell_type": "code",
      "source": [
        "# win_pred_scores.describe()"
      ],
      "metadata": {
        "id": "cfrDHRLSYzoK"
      },
      "execution_count": null,
      "outputs": []
    },
    {
      "cell_type": "code",
      "source": [
        "# win_pred_scores.to_csv(\"/content/drive/MyDrive/AMEX/win_pred_scores_train3.csv\", index=False)"
      ],
      "metadata": {
        "id": "vsfw0bJQY7sS"
      },
      "execution_count": null,
      "outputs": []
    },
    {
      "cell_type": "code",
      "source": [
        "# sub_data.to_csv(\"/content/drive/MyDrive/AMEX/sub2.csv\", index=False)"
      ],
      "metadata": {
        "id": "0kyJwcjeZCOG"
      },
      "execution_count": null,
      "outputs": []
    },
    {
      "cell_type": "code",
      "source": [
        "# train_class.to_csv(\"/content/drive/MyDrive/AMEX/sub2_train.csv\", index=False)"
      ],
      "metadata": {
        "id": "BRutwLr_vNat"
      },
      "execution_count": null,
      "outputs": []
    },
    {
      "cell_type": "code",
      "source": [
        "# train_data.to_csv(\"/content/drive/MyDrive/AMEX/sub3_train_data.csv\", index=False)"
      ],
      "metadata": {
        "id": "Yq-unb7fvX3j"
      },
      "execution_count": null,
      "outputs": []
    },
    {
      "cell_type": "code",
      "source": [
        "# test_data.to_csv(\"/content/drive/MyDrive/AMEX/sub3_test.csv\", index=False)"
      ],
      "metadata": {
        "id": "Ct9nKZfgvd9r"
      },
      "execution_count": null,
      "outputs": []
    },
    {
      "cell_type": "code",
      "source": [
        "train_data = pd.DataFrame(train_data)"
      ],
      "metadata": {
        "id": "M7FFjZk3vqcC"
      },
      "execution_count": null,
      "outputs": []
    },
    {
      "cell_type": "code",
      "source": [
        "train_data.info()"
      ],
      "metadata": {
        "colab": {
          "base_uri": "https://localhost:8080/"
        },
        "id": "L645NUYm1c6T",
        "outputId": "296a2ba3-a2e2-4809-9568-3ad4b119ef1f"
      },
      "execution_count": null,
      "outputs": [
        {
          "output_type": "stream",
          "name": "stdout",
          "text": [
            "<class 'pandas.core.frame.DataFrame'>\n",
            "RangeIndex: 948 entries, 0 to 947\n",
            "Data columns (total 22 columns):\n",
            " #   Column                     Non-Null Count  Dtype  \n",
            "---  ------                     --------------  -----  \n",
            " 0   match id                   948 non-null    int64  \n",
            " 1   team1_id                   948 non-null    int64  \n",
            " 2   team2_id                   948 non-null    int64  \n",
            " 3   toss winner                948 non-null    int64  \n",
            " 4   toss decision              948 non-null    int64  \n",
            " 5   team_count_50runs_last15   948 non-null    float64\n",
            " 6   team_winp_last5            948 non-null    float64\n",
            " 7   team1only_avg_runs_last15  948 non-null    float64\n",
            " 8   team1_winp_team2_last15    948 non-null    float64\n",
            " 9   ground_avg_runs_last15     948 non-null    float64\n",
            " 10  economy                    948 non-null    float64\n",
            " 11  bowling_strike_rate        332 non-null    float64\n",
            " 12  bowling_average            332 non-null    float64\n",
            " 13  boundary_rate              948 non-null    float64\n",
            " 14  dot_ball_percent           948 non-null    float64\n",
            " 15  extras                     948 non-null    float64\n",
            " 16  maiden_over_percent        948 non-null    float64\n",
            " 17  strike_rate                948 non-null    float64\n",
            " 18  batting_average            948 non-null    float64\n",
            " 19  boundary_percent           948 non-null    float64\n",
            " 20  overs_perform              948 non-null    float64\n",
            " 21  winner_id                  948 non-null    float64\n",
            "dtypes: float64(17), int64(5)\n",
            "memory usage: 163.1 KB\n"
          ]
        }
      ]
    },
    {
      "cell_type": "code",
      "source": [
        "# train_data.drop(columns=['winner_id'])"
      ],
      "metadata": {
        "id": "gI6oeLuc0xC4"
      },
      "execution_count": null,
      "outputs": []
    },
    {
      "cell_type": "code",
      "source": [
        "corr_matrix = train_data.corr()"
      ],
      "metadata": {
        "id": "sNS_BWqv06Nk"
      },
      "execution_count": null,
      "outputs": []
    },
    {
      "cell_type": "code",
      "source": [
        "corr_matrix['winner_id']"
      ],
      "metadata": {
        "colab": {
          "base_uri": "https://localhost:8080/"
        },
        "id": "0W8KJnd51vPH",
        "outputId": "5d1ede99-7d16-4b57-82b2-db4300c51bf1"
      },
      "execution_count": null,
      "outputs": [
        {
          "output_type": "execute_result",
          "data": {
            "text/plain": [
              "match id                     0.009817\n",
              "team1_id                     0.968495\n",
              "team2_id                     0.979063\n",
              "toss winner                  0.967666\n",
              "toss decision               -0.052883\n",
              "team_count_50runs_last15    -0.102063\n",
              "team_winp_last5             -0.027331\n",
              "team1only_avg_runs_last15   -0.001282\n",
              "team1_winp_team2_last15      0.002836\n",
              "ground_avg_runs_last15       0.085856\n",
              "economy                     -0.051764\n",
              "bowling_strike_rate         -0.114970\n",
              "bowling_average             -0.076724\n",
              "boundary_rate               -0.040651\n",
              "dot_ball_percent            -0.034077\n",
              "extras                       0.127310\n",
              "maiden_over_percent          0.003254\n",
              "strike_rate                  0.122924\n",
              "batting_average              0.167891\n",
              "boundary_percent             0.148074\n",
              "overs_perform                0.039668\n",
              "winner_id                    1.000000\n",
              "Name: winner_id, dtype: float64"
            ]
          },
          "metadata": {},
          "execution_count": 518
        }
      ]
    },
    {
      "cell_type": "code",
      "source": [
        "train_class['winner_id'] = train_class_winner['winner_id']\n",
        "corr_train = train_class.corr()"
      ],
      "metadata": {
        "id": "DihFs8OJQVuP"
      },
      "execution_count": null,
      "outputs": []
    },
    {
      "cell_type": "code",
      "source": [
        "corr_train['winner_id']"
      ],
      "metadata": {
        "colab": {
          "base_uri": "https://localhost:8080/"
        },
        "id": "aIYPiwIEQYOL",
        "outputId": "e857ccba-d450-45f6-94be-d0c2c4a650f2"
      },
      "execution_count": null,
      "outputs": [
        {
          "output_type": "execute_result",
          "data": {
            "text/plain": [
              "team_count_50runs_last15    -0.110761\n",
              "team_winp_last5             -0.011712\n",
              "team1only_avg_runs_last15   -0.046744\n",
              "team1_winp_team2_last15     -0.055788\n",
              "ground_avg_runs_last15      -0.011307\n",
              "economy                     -0.005814\n",
              "bowling_strike_rate          0.120021\n",
              "bowling_average              0.102996\n",
              "boundary_rate                0.016630\n",
              "dot_ball_percent             0.019317\n",
              "extras                      -0.050558\n",
              "maiden_over_percent          0.017292\n",
              "strike_rate                 -0.029699\n",
              "batting_average             -0.050361\n",
              "boundary_percent            -0.087792\n",
              "overs_perform               -0.023806\n",
              "winner_id                    1.000000\n",
              "Name: winner_id, dtype: float64"
            ]
          },
          "metadata": {},
          "execution_count": 523
        }
      ]
    },
    {
      "cell_type": "code",
      "source": [],
      "metadata": {
        "id": "6f4fsqFYQavm"
      },
      "execution_count": null,
      "outputs": []
    }
  ]
}